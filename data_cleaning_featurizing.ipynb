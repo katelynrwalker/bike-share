{
 "cells": [
  {
   "cell_type": "code",
   "execution_count": 78,
   "metadata": {},
   "outputs": [],
   "source": [
    "import pandas as pd\n",
    "import matplotlib.pyplot as plt\n",
    "from shapely.geometry import Point\n",
    "from collections import OrderedDict"
   ]
  },
  {
   "cell_type": "code",
   "execution_count": 79,
   "metadata": {},
   "outputs": [
    {
     "name": "stderr",
     "output_type": "stream",
     "text": [
      "/anaconda3/lib/python3.6/site-packages/IPython/core/interactiveshell.py:2785: DtypeWarning: Columns (6) have mixed types. Specify dtype option on import or set low_memory=False.\n",
      "  interactivity=interactivity, compiler=compiler, result=result)\n"
     ]
    }
   ],
   "source": [
    "raw = pd.read_csv(\"all-sc-bike-data-1101.csv\")"
   ]
  },
  {
   "cell_type": "code",
   "execution_count": 80,
   "metadata": {},
   "outputs": [
    {
     "data": {
      "text/html": [
       "<div>\n",
       "<style scoped>\n",
       "    .dataframe tbody tr th:only-of-type {\n",
       "        vertical-align: middle;\n",
       "    }\n",
       "\n",
       "    .dataframe tbody tr th {\n",
       "        vertical-align: top;\n",
       "    }\n",
       "\n",
       "    .dataframe thead th {\n",
       "        text-align: right;\n",
       "    }\n",
       "</style>\n",
       "<table border=\"1\" class=\"dataframe\">\n",
       "  <thead>\n",
       "    <tr style=\"text-align: right;\">\n",
       "      <th></th>\n",
       "      <th>bike_id</th>\n",
       "      <th>is_disabled</th>\n",
       "      <th>is_reserved</th>\n",
       "      <th>jump_ebike_battery_level</th>\n",
       "      <th>lat</th>\n",
       "      <th>lon</th>\n",
       "      <th>name</th>\n",
       "      <th>datetime</th>\n",
       "      <th>update_time</th>\n",
       "    </tr>\n",
       "  </thead>\n",
       "  <tbody>\n",
       "    <tr>\n",
       "      <th>0</th>\n",
       "      <td>bike_23366</td>\n",
       "      <td>0</td>\n",
       "      <td>0</td>\n",
       "      <td>72%</td>\n",
       "      <td>36.967843</td>\n",
       "      <td>-121.999688</td>\n",
       "      <td>1497</td>\n",
       "      <td>1540307790</td>\n",
       "      <td>NaN</td>\n",
       "    </tr>\n",
       "    <tr>\n",
       "      <th>1</th>\n",
       "      <td>bike_23360</td>\n",
       "      <td>0</td>\n",
       "      <td>0</td>\n",
       "      <td>54%</td>\n",
       "      <td>36.971092</td>\n",
       "      <td>-122.024257</td>\n",
       "      <td>1391</td>\n",
       "      <td>1540307790</td>\n",
       "      <td>NaN</td>\n",
       "    </tr>\n",
       "    <tr>\n",
       "      <th>2</th>\n",
       "      <td>bike_20799</td>\n",
       "      <td>0</td>\n",
       "      <td>0</td>\n",
       "      <td>63%</td>\n",
       "      <td>36.976315</td>\n",
       "      <td>-121.977732</td>\n",
       "      <td>958</td>\n",
       "      <td>1540307790</td>\n",
       "      <td>NaN</td>\n",
       "    </tr>\n",
       "    <tr>\n",
       "      <th>3</th>\n",
       "      <td>bike_21411</td>\n",
       "      <td>0</td>\n",
       "      <td>0</td>\n",
       "      <td>66%</td>\n",
       "      <td>36.952708</td>\n",
       "      <td>-122.064642</td>\n",
       "      <td>1341</td>\n",
       "      <td>1540307790</td>\n",
       "      <td>NaN</td>\n",
       "    </tr>\n",
       "    <tr>\n",
       "      <th>4</th>\n",
       "      <td>bike_20790</td>\n",
       "      <td>0</td>\n",
       "      <td>0</td>\n",
       "      <td>91%</td>\n",
       "      <td>36.962897</td>\n",
       "      <td>-122.045212</td>\n",
       "      <td>887</td>\n",
       "      <td>1540307790</td>\n",
       "      <td>NaN</td>\n",
       "    </tr>\n",
       "  </tbody>\n",
       "</table>\n",
       "</div>"
      ],
      "text/plain": [
       "      bike_id  is_disabled  is_reserved jump_ebike_battery_level        lat  \\\n",
       "0  bike_23366            0            0                      72%  36.967843   \n",
       "1  bike_23360            0            0                      54%  36.971092   \n",
       "2  bike_20799            0            0                      63%  36.976315   \n",
       "3  bike_21411            0            0                      66%  36.952708   \n",
       "4  bike_20790            0            0                      91%  36.962897   \n",
       "\n",
       "          lon  name    datetime  update_time  \n",
       "0 -121.999688  1497  1540307790          NaN  \n",
       "1 -122.024257  1391  1540307790          NaN  \n",
       "2 -121.977732   958  1540307790          NaN  \n",
       "3 -122.064642  1341  1540307790          NaN  \n",
       "4 -122.045212   887  1540307790          NaN  "
      ]
     },
     "execution_count": 80,
     "metadata": {},
     "output_type": "execute_result"
    }
   ],
   "source": [
    "raw.head()"
   ]
  },
  {
   "cell_type": "code",
   "execution_count": 81,
   "metadata": {},
   "outputs": [],
   "source": [
    "raw.drop(['is_disabled', 'is_reserved', 'update_time', 'name'], axis = 1, inplace = True)"
   ]
  },
  {
   "cell_type": "code",
   "execution_count": 5,
   "metadata": {},
   "outputs": [],
   "source": [
    "raw['jump_ebike_battery_level'] = raw['jump_ebike_battery_level'].str.strip('%').astype(int)"
   ]
  },
  {
   "cell_type": "code",
   "execution_count": 6,
   "metadata": {},
   "outputs": [],
   "source": [
    "raw['utc_time'] = pd.to_datetime(raw['datetime'], unit='s')\n",
    "raw['utc_time'] = raw['utc_time'].dt.tz_localize('UTC')\n",
    "#raw['local_time'] = raw['utc_time'].dt.tz_convert('America/Los_Angeles')"
   ]
  },
  {
   "cell_type": "code",
   "execution_count": 7,
   "metadata": {},
   "outputs": [],
   "source": [
    "#raw = raw.round({'lat':4, 'lon':4})"
   ]
  },
  {
   "cell_type": "code",
   "execution_count": null,
   "metadata": {},
   "outputs": [],
   "source": []
  },
  {
   "cell_type": "code",
   "execution_count": 8,
   "metadata": {},
   "outputs": [],
   "source": [
    "idle_bikes =raw.groupby(by=['bike_id', 'lat', 'lon'])"
   ]
  },
  {
   "cell_type": "code",
   "execution_count": 9,
   "metadata": {},
   "outputs": [],
   "source": [
    "idle_time = idle_bikes.utc_time.max() - idle_bikes.utc_time.min()"
   ]
  },
  {
   "cell_type": "code",
   "execution_count": 10,
   "metadata": {},
   "outputs": [],
   "source": [
    "idle_df = idle_time.reset_index(name='idle_time')"
   ]
  },
  {
   "cell_type": "code",
   "execution_count": 11,
   "metadata": {},
   "outputs": [
    {
     "data": {
      "text/html": [
       "<div>\n",
       "<style scoped>\n",
       "    .dataframe tbody tr th:only-of-type {\n",
       "        vertical-align: middle;\n",
       "    }\n",
       "\n",
       "    .dataframe tbody tr th {\n",
       "        vertical-align: top;\n",
       "    }\n",
       "\n",
       "    .dataframe thead th {\n",
       "        text-align: right;\n",
       "    }\n",
       "</style>\n",
       "<table border=\"1\" class=\"dataframe\">\n",
       "  <thead>\n",
       "    <tr style=\"text-align: right;\">\n",
       "      <th></th>\n",
       "      <th>bike_id</th>\n",
       "      <th>lat</th>\n",
       "      <th>lon</th>\n",
       "      <th>idle_time</th>\n",
       "    </tr>\n",
       "  </thead>\n",
       "  <tbody>\n",
       "    <tr>\n",
       "      <th>0</th>\n",
       "      <td>bike_20631</td>\n",
       "      <td>36.9606</td>\n",
       "      <td>-122.0356</td>\n",
       "      <td>04:34:55</td>\n",
       "    </tr>\n",
       "    <tr>\n",
       "      <th>1</th>\n",
       "      <td>bike_20631</td>\n",
       "      <td>36.9612</td>\n",
       "      <td>-122.0448</td>\n",
       "      <td>00:37:31</td>\n",
       "    </tr>\n",
       "    <tr>\n",
       "      <th>2</th>\n",
       "      <td>bike_20631</td>\n",
       "      <td>36.9618</td>\n",
       "      <td>-122.0450</td>\n",
       "      <td>00:49:06</td>\n",
       "    </tr>\n",
       "    <tr>\n",
       "      <th>3</th>\n",
       "      <td>bike_20631</td>\n",
       "      <td>36.9620</td>\n",
       "      <td>-122.0249</td>\n",
       "      <td>00:30:07</td>\n",
       "    </tr>\n",
       "    <tr>\n",
       "      <th>4</th>\n",
       "      <td>bike_20631</td>\n",
       "      <td>36.9624</td>\n",
       "      <td>-122.0240</td>\n",
       "      <td>01:02:40</td>\n",
       "    </tr>\n",
       "  </tbody>\n",
       "</table>\n",
       "</div>"
      ],
      "text/plain": [
       "      bike_id      lat       lon idle_time\n",
       "0  bike_20631  36.9606 -122.0356  04:34:55\n",
       "1  bike_20631  36.9612 -122.0448  00:37:31\n",
       "2  bike_20631  36.9618 -122.0450  00:49:06\n",
       "3  bike_20631  36.9620 -122.0249  00:30:07\n",
       "4  bike_20631  36.9624 -122.0240  01:02:40"
      ]
     },
     "execution_count": 11,
     "metadata": {},
     "output_type": "execute_result"
    }
   ],
   "source": [
    "idle_df.head()"
   ]
  },
  {
   "cell_type": "code",
   "execution_count": 12,
   "metadata": {},
   "outputs": [],
   "source": [
    "idle_batt_start = idle_bikes.jump_ebike_battery_level.first()\n",
    "#idle_batt_start = idle_batt_start.reset_index(name='idle_batt_start')\n",
    "idle_batt_end = idle_bikes.jump_ebike_battery_level.last()\n",
    "#idle_batt_end = idle_batt_end.reset_index(name='idle_batt_end')\n",
    "idle_utc_time_start = idle_bikes.utc_time.first()\n",
    "#idle_utc_time_start = idle_utc_time_start.reset_index(name='idle_utc_time_start')\n",
    "idle_utc_time_end = idle_bikes.utc_time.last()"
   ]
  },
  {
   "cell_type": "code",
   "execution_count": 13,
   "metadata": {},
   "outputs": [],
   "source": [
    "to_merge = [idle_batt_start, idle_batt_end, idle_utc_time_start, idle_utc_time_end]\n",
    "merge_names = ['batt_start', 'batt_end', 'utc_time_start', 'utc_time_end']\n",
    "\n",
    "for m, name in zip(to_merge, merge_names):\n",
    "    m_df = m.reset_index(name = name)\n",
    "    idle_df = pd.merge(idle_df, m_df)\n",
    "    \n"
   ]
  },
  {
   "cell_type": "code",
   "execution_count": 14,
   "metadata": {},
   "outputs": [],
   "source": [
    "idle_df['local_time_start'] = idle_df['utc_time_start'].dt.tz_convert('America/Los_Angeles')"
   ]
  },
  {
   "cell_type": "code",
   "execution_count": 15,
   "metadata": {},
   "outputs": [],
   "source": [
    "idle_df.sort_values(['bike_id', 'utc_time_start'], axis=0, inplace=True)"
   ]
  },
  {
   "cell_type": "code",
   "execution_count": 18,
   "metadata": {},
   "outputs": [
    {
     "data": {
      "text/html": [
       "<div>\n",
       "<style scoped>\n",
       "    .dataframe tbody tr th:only-of-type {\n",
       "        vertical-align: middle;\n",
       "    }\n",
       "\n",
       "    .dataframe tbody tr th {\n",
       "        vertical-align: top;\n",
       "    }\n",
       "\n",
       "    .dataframe thead th {\n",
       "        text-align: right;\n",
       "    }\n",
       "</style>\n",
       "<table border=\"1\" class=\"dataframe\">\n",
       "  <thead>\n",
       "    <tr style=\"text-align: right;\">\n",
       "      <th></th>\n",
       "      <th>bike_id</th>\n",
       "      <th>lat</th>\n",
       "      <th>lon</th>\n",
       "      <th>idle_time</th>\n",
       "      <th>batt_start</th>\n",
       "      <th>batt_end</th>\n",
       "      <th>utc_time_start</th>\n",
       "      <th>utc_time_end</th>\n",
       "      <th>local_time_start</th>\n",
       "    </tr>\n",
       "  </thead>\n",
       "  <tbody>\n",
       "    <tr>\n",
       "      <th>10480</th>\n",
       "      <td>bike_26977</td>\n",
       "      <td>36.9808</td>\n",
       "      <td>-122.0173</td>\n",
       "      <td>00:14:05</td>\n",
       "      <td>56</td>\n",
       "      <td>56</td>\n",
       "      <td>2018-10-28 19:02:49+00:00</td>\n",
       "      <td>2018-10-28 19:16:54+00:00</td>\n",
       "      <td>2018-10-28 12:02:49-07:00</td>\n",
       "    </tr>\n",
       "    <tr>\n",
       "      <th>10453</th>\n",
       "      <td>bike_26977</td>\n",
       "      <td>36.9640</td>\n",
       "      <td>-122.0205</td>\n",
       "      <td>00:36:34</td>\n",
       "      <td>50</td>\n",
       "      <td>50</td>\n",
       "      <td>2018-10-28 19:34:01+00:00</td>\n",
       "      <td>2018-10-28 20:10:35+00:00</td>\n",
       "      <td>2018-10-28 12:34:01-07:00</td>\n",
       "    </tr>\n",
       "    <tr>\n",
       "      <th>10467</th>\n",
       "      <td>bike_26977</td>\n",
       "      <td>36.9717</td>\n",
       "      <td>-122.0188</td>\n",
       "      <td>16:59:12</td>\n",
       "      <td>94</td>\n",
       "      <td>94</td>\n",
       "      <td>2018-10-29 04:00:18+00:00</td>\n",
       "      <td>2018-10-29 20:59:30+00:00</td>\n",
       "      <td>2018-10-28 21:00:18-07:00</td>\n",
       "    </tr>\n",
       "    <tr>\n",
       "      <th>10468</th>\n",
       "      <td>bike_26977</td>\n",
       "      <td>36.9719</td>\n",
       "      <td>-122.0188</td>\n",
       "      <td>00:00:00</td>\n",
       "      <td>94</td>\n",
       "      <td>94</td>\n",
       "      <td>2018-10-29 21:01:31+00:00</td>\n",
       "      <td>2018-10-29 21:01:31+00:00</td>\n",
       "      <td>2018-10-29 14:01:31-07:00</td>\n",
       "    </tr>\n",
       "    <tr>\n",
       "      <th>10464</th>\n",
       "      <td>bike_26977</td>\n",
       "      <td>36.9708</td>\n",
       "      <td>-122.0243</td>\n",
       "      <td>01:10:24</td>\n",
       "      <td>92</td>\n",
       "      <td>92</td>\n",
       "      <td>2018-10-29 21:06:34+00:00</td>\n",
       "      <td>2018-10-29 22:16:58+00:00</td>\n",
       "      <td>2018-10-29 14:06:34-07:00</td>\n",
       "    </tr>\n",
       "    <tr>\n",
       "      <th>10443</th>\n",
       "      <td>bike_26977</td>\n",
       "      <td>36.9598</td>\n",
       "      <td>-122.0410</td>\n",
       "      <td>00:18:07</td>\n",
       "      <td>87</td>\n",
       "      <td>87</td>\n",
       "      <td>2018-10-29 22:25:01+00:00</td>\n",
       "      <td>2018-10-29 22:43:08+00:00</td>\n",
       "      <td>2018-10-29 15:25:01-07:00</td>\n",
       "    </tr>\n",
       "    <tr>\n",
       "      <th>10472</th>\n",
       "      <td>bike_26977</td>\n",
       "      <td>36.9739</td>\n",
       "      <td>-122.0261</td>\n",
       "      <td>00:32:12</td>\n",
       "      <td>84</td>\n",
       "      <td>84</td>\n",
       "      <td>2018-10-29 23:08:15+00:00</td>\n",
       "      <td>2018-10-29 23:40:27+00:00</td>\n",
       "      <td>2018-10-29 16:08:15-07:00</td>\n",
       "    </tr>\n",
       "    <tr>\n",
       "      <th>10483</th>\n",
       "      <td>bike_26977</td>\n",
       "      <td>36.9840</td>\n",
       "      <td>-122.0293</td>\n",
       "      <td>01:12:55</td>\n",
       "      <td>81</td>\n",
       "      <td>81</td>\n",
       "      <td>2018-10-29 23:49:00+00:00</td>\n",
       "      <td>2018-10-30 01:01:55+00:00</td>\n",
       "      <td>2018-10-29 16:49:00-07:00</td>\n",
       "    </tr>\n",
       "    <tr>\n",
       "      <th>10482</th>\n",
       "      <td>bike_26977</td>\n",
       "      <td>36.9837</td>\n",
       "      <td>-122.0190</td>\n",
       "      <td>13:14:20</td>\n",
       "      <td>78</td>\n",
       "      <td>78</td>\n",
       "      <td>2018-10-30 01:10:26+00:00</td>\n",
       "      <td>2018-10-30 14:24:46+00:00</td>\n",
       "      <td>2018-10-29 18:10:26-07:00</td>\n",
       "    </tr>\n",
       "    <tr>\n",
       "      <th>10466</th>\n",
       "      <td>bike_26977</td>\n",
       "      <td>36.9717</td>\n",
       "      <td>-122.0323</td>\n",
       "      <td>01:42:42</td>\n",
       "      <td>73</td>\n",
       "      <td>73</td>\n",
       "      <td>2018-10-30 14:41:24+00:00</td>\n",
       "      <td>2018-10-30 16:24:06+00:00</td>\n",
       "      <td>2018-10-30 07:41:24-07:00</td>\n",
       "    </tr>\n",
       "    <tr>\n",
       "      <th>10475</th>\n",
       "      <td>bike_26977</td>\n",
       "      <td>36.9744</td>\n",
       "      <td>-122.0251</td>\n",
       "      <td>00:03:00</td>\n",
       "      <td>72</td>\n",
       "      <td>72</td>\n",
       "      <td>2018-10-30 16:29:14+00:00</td>\n",
       "      <td>2018-10-30 16:32:14+00:00</td>\n",
       "      <td>2018-10-30 09:29:14-07:00</td>\n",
       "    </tr>\n",
       "    <tr>\n",
       "      <th>10460</th>\n",
       "      <td>bike_26977</td>\n",
       "      <td>36.9686</td>\n",
       "      <td>-122.0350</td>\n",
       "      <td>00:07:03</td>\n",
       "      <td>69</td>\n",
       "      <td>69</td>\n",
       "      <td>2018-10-30 16:38:16+00:00</td>\n",
       "      <td>2018-10-30 16:45:19+00:00</td>\n",
       "      <td>2018-10-30 09:38:16-07:00</td>\n",
       "    </tr>\n",
       "    <tr>\n",
       "      <th>10440</th>\n",
       "      <td>bike_26977</td>\n",
       "      <td>36.9531</td>\n",
       "      <td>-122.0344</td>\n",
       "      <td>04:57:41</td>\n",
       "      <td>63</td>\n",
       "      <td>63</td>\n",
       "      <td>2018-10-30 18:24:50+00:00</td>\n",
       "      <td>2018-10-30 23:22:31+00:00</td>\n",
       "      <td>2018-10-30 11:24:50-07:00</td>\n",
       "    </tr>\n",
       "    <tr>\n",
       "      <th>10438</th>\n",
       "      <td>bike_26977</td>\n",
       "      <td>36.9503</td>\n",
       "      <td>-122.0531</td>\n",
       "      <td>21:06:08</td>\n",
       "      <td>61</td>\n",
       "      <td>61</td>\n",
       "      <td>2018-10-30 23:34:35+00:00</td>\n",
       "      <td>2018-10-31 20:40:43+00:00</td>\n",
       "      <td>2018-10-30 16:34:35-07:00</td>\n",
       "    </tr>\n",
       "    <tr>\n",
       "      <th>10478</th>\n",
       "      <td>bike_26977</td>\n",
       "      <td>36.9787</td>\n",
       "      <td>-122.0579</td>\n",
       "      <td>00:32:09</td>\n",
       "      <td>49</td>\n",
       "      <td>49</td>\n",
       "      <td>2018-10-31 20:56:47+00:00</td>\n",
       "      <td>2018-10-31 21:28:56+00:00</td>\n",
       "      <td>2018-10-31 13:56:47-07:00</td>\n",
       "    </tr>\n",
       "    <tr>\n",
       "      <th>10449</th>\n",
       "      <td>bike_26977</td>\n",
       "      <td>36.9630</td>\n",
       "      <td>-122.0575</td>\n",
       "      <td>01:15:14</td>\n",
       "      <td>48</td>\n",
       "      <td>48</td>\n",
       "      <td>2018-10-31 21:35:57+00:00</td>\n",
       "      <td>2018-10-31 22:51:11+00:00</td>\n",
       "      <td>2018-10-31 14:35:57-07:00</td>\n",
       "    </tr>\n",
       "    <tr>\n",
       "      <th>10445</th>\n",
       "      <td>bike_26977</td>\n",
       "      <td>36.9612</td>\n",
       "      <td>-122.0442</td>\n",
       "      <td>00:28:10</td>\n",
       "      <td>46</td>\n",
       "      <td>46</td>\n",
       "      <td>2018-10-31 23:29:22+00:00</td>\n",
       "      <td>2018-10-31 23:57:32+00:00</td>\n",
       "      <td>2018-10-31 16:29:22-07:00</td>\n",
       "    </tr>\n",
       "    <tr>\n",
       "      <th>10444</th>\n",
       "      <td>bike_26977</td>\n",
       "      <td>36.9599</td>\n",
       "      <td>-122.0316</td>\n",
       "      <td>02:26:01</td>\n",
       "      <td>33</td>\n",
       "      <td>33</td>\n",
       "      <td>2018-11-01 00:49:06+00:00</td>\n",
       "      <td>2018-11-01 03:15:07+00:00</td>\n",
       "      <td>2018-10-31 17:49:06-07:00</td>\n",
       "    </tr>\n",
       "    <tr>\n",
       "      <th>10470</th>\n",
       "      <td>bike_26977</td>\n",
       "      <td>36.9732</td>\n",
       "      <td>-122.0270</td>\n",
       "      <td>02:17:09</td>\n",
       "      <td>29</td>\n",
       "      <td>29</td>\n",
       "      <td>2018-11-01 03:27:19+00:00</td>\n",
       "      <td>2018-11-01 05:44:28+00:00</td>\n",
       "      <td>2018-10-31 20:27:19-07:00</td>\n",
       "    </tr>\n",
       "    <tr>\n",
       "      <th>10469</th>\n",
       "      <td>bike_26977</td>\n",
       "      <td>36.9731</td>\n",
       "      <td>-122.0271</td>\n",
       "      <td>00:20:30</td>\n",
       "      <td>29</td>\n",
       "      <td>29</td>\n",
       "      <td>2018-11-01 05:45:29+00:00</td>\n",
       "      <td>2018-11-01 06:05:59+00:00</td>\n",
       "      <td>2018-10-31 22:45:29-07:00</td>\n",
       "    </tr>\n",
       "  </tbody>\n",
       "</table>\n",
       "</div>"
      ],
      "text/plain": [
       "          bike_id      lat       lon idle_time  batt_start  batt_end  \\\n",
       "10480  bike_26977  36.9808 -122.0173  00:14:05          56        56   \n",
       "10453  bike_26977  36.9640 -122.0205  00:36:34          50        50   \n",
       "10467  bike_26977  36.9717 -122.0188  16:59:12          94        94   \n",
       "10468  bike_26977  36.9719 -122.0188  00:00:00          94        94   \n",
       "10464  bike_26977  36.9708 -122.0243  01:10:24          92        92   \n",
       "10443  bike_26977  36.9598 -122.0410  00:18:07          87        87   \n",
       "10472  bike_26977  36.9739 -122.0261  00:32:12          84        84   \n",
       "10483  bike_26977  36.9840 -122.0293  01:12:55          81        81   \n",
       "10482  bike_26977  36.9837 -122.0190  13:14:20          78        78   \n",
       "10466  bike_26977  36.9717 -122.0323  01:42:42          73        73   \n",
       "10475  bike_26977  36.9744 -122.0251  00:03:00          72        72   \n",
       "10460  bike_26977  36.9686 -122.0350  00:07:03          69        69   \n",
       "10440  bike_26977  36.9531 -122.0344  04:57:41          63        63   \n",
       "10438  bike_26977  36.9503 -122.0531  21:06:08          61        61   \n",
       "10478  bike_26977  36.9787 -122.0579  00:32:09          49        49   \n",
       "10449  bike_26977  36.9630 -122.0575  01:15:14          48        48   \n",
       "10445  bike_26977  36.9612 -122.0442  00:28:10          46        46   \n",
       "10444  bike_26977  36.9599 -122.0316  02:26:01          33        33   \n",
       "10470  bike_26977  36.9732 -122.0270  02:17:09          29        29   \n",
       "10469  bike_26977  36.9731 -122.0271  00:20:30          29        29   \n",
       "\n",
       "                 utc_time_start              utc_time_end  \\\n",
       "10480 2018-10-28 19:02:49+00:00 2018-10-28 19:16:54+00:00   \n",
       "10453 2018-10-28 19:34:01+00:00 2018-10-28 20:10:35+00:00   \n",
       "10467 2018-10-29 04:00:18+00:00 2018-10-29 20:59:30+00:00   \n",
       "10468 2018-10-29 21:01:31+00:00 2018-10-29 21:01:31+00:00   \n",
       "10464 2018-10-29 21:06:34+00:00 2018-10-29 22:16:58+00:00   \n",
       "10443 2018-10-29 22:25:01+00:00 2018-10-29 22:43:08+00:00   \n",
       "10472 2018-10-29 23:08:15+00:00 2018-10-29 23:40:27+00:00   \n",
       "10483 2018-10-29 23:49:00+00:00 2018-10-30 01:01:55+00:00   \n",
       "10482 2018-10-30 01:10:26+00:00 2018-10-30 14:24:46+00:00   \n",
       "10466 2018-10-30 14:41:24+00:00 2018-10-30 16:24:06+00:00   \n",
       "10475 2018-10-30 16:29:14+00:00 2018-10-30 16:32:14+00:00   \n",
       "10460 2018-10-30 16:38:16+00:00 2018-10-30 16:45:19+00:00   \n",
       "10440 2018-10-30 18:24:50+00:00 2018-10-30 23:22:31+00:00   \n",
       "10438 2018-10-30 23:34:35+00:00 2018-10-31 20:40:43+00:00   \n",
       "10478 2018-10-31 20:56:47+00:00 2018-10-31 21:28:56+00:00   \n",
       "10449 2018-10-31 21:35:57+00:00 2018-10-31 22:51:11+00:00   \n",
       "10445 2018-10-31 23:29:22+00:00 2018-10-31 23:57:32+00:00   \n",
       "10444 2018-11-01 00:49:06+00:00 2018-11-01 03:15:07+00:00   \n",
       "10470 2018-11-01 03:27:19+00:00 2018-11-01 05:44:28+00:00   \n",
       "10469 2018-11-01 05:45:29+00:00 2018-11-01 06:05:59+00:00   \n",
       "\n",
       "               local_time_start  \n",
       "10480 2018-10-28 12:02:49-07:00  \n",
       "10453 2018-10-28 12:34:01-07:00  \n",
       "10467 2018-10-28 21:00:18-07:00  \n",
       "10468 2018-10-29 14:01:31-07:00  \n",
       "10464 2018-10-29 14:06:34-07:00  \n",
       "10443 2018-10-29 15:25:01-07:00  \n",
       "10472 2018-10-29 16:08:15-07:00  \n",
       "10483 2018-10-29 16:49:00-07:00  \n",
       "10482 2018-10-29 18:10:26-07:00  \n",
       "10466 2018-10-30 07:41:24-07:00  \n",
       "10475 2018-10-30 09:29:14-07:00  \n",
       "10460 2018-10-30 09:38:16-07:00  \n",
       "10440 2018-10-30 11:24:50-07:00  \n",
       "10438 2018-10-30 16:34:35-07:00  \n",
       "10478 2018-10-31 13:56:47-07:00  \n",
       "10449 2018-10-31 14:35:57-07:00  \n",
       "10445 2018-10-31 16:29:22-07:00  \n",
       "10444 2018-10-31 17:49:06-07:00  \n",
       "10470 2018-10-31 20:27:19-07:00  \n",
       "10469 2018-10-31 22:45:29-07:00  "
      ]
     },
     "execution_count": 18,
     "metadata": {},
     "output_type": "execute_result"
    }
   ],
   "source": [
    "idle_df.tail(20)"
   ]
  },
  {
   "cell_type": "code",
   "execution_count": 134,
   "metadata": {},
   "outputs": [],
   "source": []
  },
  {
   "cell_type": "code",
   "execution_count": 46,
   "metadata": {},
   "outputs": [],
   "source": [
    "same_bike = idle_df.bike_id == idle_df.bike_id.shift(-1)\n",
    "same_charge = idle_df.batt_end == idle_df.batt_start.shift(-1)\n",
    "same_loc = (idle_df.lat.round(3) == idle_df.lat.shift(-1).round(3)) & (idle_df.lon.round(3) == idle_df.lon.shift(-1).round(3))\n",
    "same_time = (idle_df.utc_time_start.shift(-1) - idle_df.utc_time_end).dt.seconds < 130\n",
    "missing_idle = same_bike & same_charge & same_loc & same_time"
   ]
  },
  {
   "cell_type": "code",
   "execution_count": 47,
   "metadata": {},
   "outputs": [
    {
     "data": {
      "text/plain": [
       "54       False\n",
       "36       False\n",
       "13       False\n",
       "40       False\n",
       "0        False\n",
       "56       False\n",
       "21       False\n",
       "41       False\n",
       "24       False\n",
       "16       False\n",
       "12       False\n",
       "3        False\n",
       "22       False\n",
       "32       False\n",
       "33       False\n",
       "4        False\n",
       "31       False\n",
       "6        False\n",
       "26       False\n",
       "44       False\n",
       "5        False\n",
       "43        True\n",
       "42       False\n",
       "10       False\n",
       "9        False\n",
       "17       False\n",
       "48       False\n",
       "14       False\n",
       "38       False\n",
       "39       False\n",
       "         ...  \n",
       "10476    False\n",
       "10479    False\n",
       "10459    False\n",
       "10465    False\n",
       "10474    False\n",
       "10477    False\n",
       "10448    False\n",
       "10441    False\n",
       "10442    False\n",
       "10471    False\n",
       "10480    False\n",
       "10453    False\n",
       "10467     True\n",
       "10468    False\n",
       "10464    False\n",
       "10443    False\n",
       "10472    False\n",
       "10483    False\n",
       "10482    False\n",
       "10466    False\n",
       "10475    False\n",
       "10460    False\n",
       "10440    False\n",
       "10438    False\n",
       "10478    False\n",
       "10449    False\n",
       "10445    False\n",
       "10444    False\n",
       "10470     True\n",
       "10469    False\n",
       "Length: 10484, dtype: bool"
      ]
     },
     "execution_count": 47,
     "metadata": {},
     "output_type": "execute_result"
    }
   ],
   "source": [
    "missing_idle"
   ]
  },
  {
   "cell_type": "code",
   "execution_count": 48,
   "metadata": {},
   "outputs": [],
   "source": [
    "#idle_copy = idle_df.copy()"
   ]
  },
  {
   "cell_type": "code",
   "execution_count": 52,
   "metadata": {},
   "outputs": [
    {
     "name": "stderr",
     "output_type": "stream",
     "text": [
      "/anaconda3/lib/python3.6/site-packages/ipykernel_launcher.py:1: SettingWithCopyWarning: \n",
      "A value is trying to be set on a copy of a slice from a DataFrame\n",
      "\n",
      "See the caveats in the documentation: http://pandas.pydata.org/pandas-docs/stable/indexing.html#indexing-view-versus-copy\n",
      "  \"\"\"Entry point for launching an IPython kernel.\n"
     ]
    }
   ],
   "source": [
    "idle_df.utc_time_end[missing_idle] = idle_df.utc_time_end.shift(-1)"
   ]
  },
  {
   "cell_type": "code",
   "execution_count": 53,
   "metadata": {},
   "outputs": [],
   "source": [
    "drops = missing_idle.shift(1)\n",
    "drops.iloc[0] = False\n",
    "idle_df = idle_df[~drops]"
   ]
  },
  {
   "cell_type": "code",
   "execution_count": 64,
   "metadata": {},
   "outputs": [
    {
     "data": {
      "text/plain": [
       "10449    False\n",
       "10445    False\n",
       "10444    False\n",
       "10470    False\n",
       "10469     True\n",
       "dtype: bool"
      ]
     },
     "execution_count": 64,
     "metadata": {},
     "output_type": "execute_result"
    }
   ],
   "source": [
    "drops.tail()"
   ]
  },
  {
   "cell_type": "code",
   "execution_count": null,
   "metadata": {},
   "outputs": [],
   "source": []
  },
  {
   "cell_type": "code",
   "execution_count": 55,
   "metadata": {},
   "outputs": [],
   "source": [
    "idle_df['idle_time'] = idle_df['utc_time_end'] - idle_df['utc_time_start']"
   ]
  },
  {
   "cell_type": "code",
   "execution_count": null,
   "metadata": {},
   "outputs": [],
   "source": []
  },
  {
   "cell_type": "code",
   "execution_count": null,
   "metadata": {},
   "outputs": [],
   "source": []
  },
  {
   "cell_type": "code",
   "execution_count": 76,
   "metadata": {},
   "outputs": [],
   "source": [
    "charge_change = -idle_df.batt_start.diff(periods=-1)\n",
    "idle_df['gets_pickedup_charged'] = charge_change > 5\n"
   ]
  },
  {
   "cell_type": "code",
   "execution_count": 77,
   "metadata": {},
   "outputs": [],
   "source": [
    "idle_df['in_charger'] = (idle_df.batt_end - idle_df.batt_start) > 5"
   ]
  },
  {
   "cell_type": "code",
   "execution_count": 74,
   "metadata": {},
   "outputs": [
    {
     "data": {
      "text/html": [
       "<div>\n",
       "<style scoped>\n",
       "    .dataframe tbody tr th:only-of-type {\n",
       "        vertical-align: middle;\n",
       "    }\n",
       "\n",
       "    .dataframe tbody tr th {\n",
       "        vertical-align: top;\n",
       "    }\n",
       "\n",
       "    .dataframe thead th {\n",
       "        text-align: right;\n",
       "    }\n",
       "</style>\n",
       "<table border=\"1\" class=\"dataframe\">\n",
       "  <thead>\n",
       "    <tr style=\"text-align: right;\">\n",
       "      <th></th>\n",
       "      <th>bike_id</th>\n",
       "      <th>lat</th>\n",
       "      <th>lon</th>\n",
       "      <th>idle_time</th>\n",
       "      <th>batt_start</th>\n",
       "      <th>batt_end</th>\n",
       "      <th>utc_time_start</th>\n",
       "      <th>utc_time_end</th>\n",
       "      <th>local_time_start</th>\n",
       "      <th>gets_pickedup_charged</th>\n",
       "      <th>in_charger</th>\n",
       "    </tr>\n",
       "  </thead>\n",
       "  <tbody>\n",
       "    <tr>\n",
       "      <th>54</th>\n",
       "      <td>bike_20631</td>\n",
       "      <td>36.9873</td>\n",
       "      <td>-122.0342</td>\n",
       "      <td>01:52:55</td>\n",
       "      <td>94</td>\n",
       "      <td>96</td>\n",
       "      <td>2018-10-23 19:26:39+00:00</td>\n",
       "      <td>2018-10-23 21:19:34+00:00</td>\n",
       "      <td>2018-10-23 12:26:39-07:00</td>\n",
       "      <td>False</td>\n",
       "      <td>False</td>\n",
       "    </tr>\n",
       "    <tr>\n",
       "      <th>36</th>\n",
       "      <td>bike_20631</td>\n",
       "      <td>36.9742</td>\n",
       "      <td>-122.0244</td>\n",
       "      <td>00:05:13</td>\n",
       "      <td>93</td>\n",
       "      <td>93</td>\n",
       "      <td>2018-10-23 21:37:55+00:00</td>\n",
       "      <td>2018-10-23 21:43:08+00:00</td>\n",
       "      <td>2018-10-23 14:37:55-07:00</td>\n",
       "      <td>False</td>\n",
       "      <td>False</td>\n",
       "    </tr>\n",
       "    <tr>\n",
       "      <th>13</th>\n",
       "      <td>bike_20631</td>\n",
       "      <td>36.9669</td>\n",
       "      <td>-122.0406</td>\n",
       "      <td>08:10:09</td>\n",
       "      <td>49</td>\n",
       "      <td>23</td>\n",
       "      <td>2018-10-25 01:11:07+00:00</td>\n",
       "      <td>2018-10-25 09:21:16+00:00</td>\n",
       "      <td>2018-10-24 18:11:07-07:00</td>\n",
       "      <td>False</td>\n",
       "      <td>False</td>\n",
       "    </tr>\n",
       "    <tr>\n",
       "      <th>40</th>\n",
       "      <td>bike_20631</td>\n",
       "      <td>36.9758</td>\n",
       "      <td>-122.0284</td>\n",
       "      <td>00:15:05</td>\n",
       "      <td>42</td>\n",
       "      <td>42</td>\n",
       "      <td>2018-10-25 03:44:59+00:00</td>\n",
       "      <td>2018-10-25 04:00:04+00:00</td>\n",
       "      <td>2018-10-24 20:44:59-07:00</td>\n",
       "      <td>False</td>\n",
       "      <td>False</td>\n",
       "    </tr>\n",
       "    <tr>\n",
       "      <th>0</th>\n",
       "      <td>bike_20631</td>\n",
       "      <td>36.9606</td>\n",
       "      <td>-122.0356</td>\n",
       "      <td>04:34:55</td>\n",
       "      <td>27</td>\n",
       "      <td>26</td>\n",
       "      <td>2018-10-25 04:40:17+00:00</td>\n",
       "      <td>2018-10-25 09:15:12+00:00</td>\n",
       "      <td>2018-10-24 21:40:17-07:00</td>\n",
       "      <td>True</td>\n",
       "      <td>False</td>\n",
       "    </tr>\n",
       "  </tbody>\n",
       "</table>\n",
       "</div>"
      ],
      "text/plain": [
       "       bike_id      lat       lon idle_time  batt_start  batt_end  \\\n",
       "54  bike_20631  36.9873 -122.0342  01:52:55          94        96   \n",
       "36  bike_20631  36.9742 -122.0244  00:05:13          93        93   \n",
       "13  bike_20631  36.9669 -122.0406  08:10:09          49        23   \n",
       "40  bike_20631  36.9758 -122.0284  00:15:05          42        42   \n",
       "0   bike_20631  36.9606 -122.0356  04:34:55          27        26   \n",
       "\n",
       "              utc_time_start              utc_time_end  \\\n",
       "54 2018-10-23 19:26:39+00:00 2018-10-23 21:19:34+00:00   \n",
       "36 2018-10-23 21:37:55+00:00 2018-10-23 21:43:08+00:00   \n",
       "13 2018-10-25 01:11:07+00:00 2018-10-25 09:21:16+00:00   \n",
       "40 2018-10-25 03:44:59+00:00 2018-10-25 04:00:04+00:00   \n",
       "0  2018-10-25 04:40:17+00:00 2018-10-25 09:15:12+00:00   \n",
       "\n",
       "            local_time_start  gets_pickedup_charged  in_charger  \n",
       "54 2018-10-23 12:26:39-07:00                  False       False  \n",
       "36 2018-10-23 14:37:55-07:00                  False       False  \n",
       "13 2018-10-24 18:11:07-07:00                  False       False  \n",
       "40 2018-10-24 20:44:59-07:00                  False       False  \n",
       "0  2018-10-24 21:40:17-07:00                   True       False  "
      ]
     },
     "execution_count": 74,
     "metadata": {},
     "output_type": "execute_result"
    }
   ],
   "source": [
    "idle_df.head()"
   ]
  },
  {
   "cell_type": "code",
   "execution_count": null,
   "metadata": {},
   "outputs": [],
   "source": []
  },
  {
   "cell_type": "code",
   "execution_count": null,
   "metadata": {},
   "outputs": [],
   "source": []
  },
  {
   "cell_type": "code",
   "execution_count": 138,
   "metadata": {},
   "outputs": [],
   "source": [
    "idle_df['geolocation'] = raw.apply(lambda z: Point(z.lat, z.lon), axis=1)"
   ]
  },
  {
   "cell_type": "code",
   "execution_count": 140,
   "metadata": {},
   "outputs": [
    {
     "data": {
      "text/plain": [
       "36.403791"
      ]
     },
     "execution_count": 140,
     "metadata": {},
     "output_type": "execute_result"
    }
   ],
   "source": [
    "364037.91*.0001"
   ]
  },
  {
   "cell_type": "code",
   "execution_count": 141,
   "metadata": {},
   "outputs": [
    {
     "data": {
      "text/plain": [
       "29.581193"
      ]
     },
     "execution_count": 141,
     "metadata": {},
     "output_type": "execute_result"
    }
   ],
   "source": [
    "295811.93*.0001"
   ]
  },
  {
   "cell_type": "code",
   "execution_count": null,
   "metadata": {},
   "outputs": [],
   "source": []
  },
  {
   "cell_type": "code",
   "execution_count": 7,
   "metadata": {},
   "outputs": [],
   "source": [
    "import featurization as f"
   ]
  },
  {
   "cell_type": "code",
   "execution_count": 8,
   "metadata": {},
   "outputs": [
    {
     "name": "stderr",
     "output_type": "stream",
     "text": [
      "/anaconda3/lib/python3.6/site-packages/IPython/core/interactiveshell.py:2903: DtypeWarning: Columns (6) have mixed types. Specify dtype option on import or set low_memory=False.\n",
      "  if self.run_code(code, result):\n"
     ]
    }
   ],
   "source": [
    "df = f.import_and_clean_data(\"all-sc-bike-data-1101.csv\")"
   ]
  },
  {
   "cell_type": "code",
   "execution_count": 9,
   "metadata": {},
   "outputs": [
    {
     "ename": "NameError",
     "evalue": "name 'get_missed_idle_bike' is not defined",
     "output_type": "error",
     "traceback": [
      "\u001b[0;31m---------------------------------------------------------------------------\u001b[0m",
      "\u001b[0;31mNameError\u001b[0m                                 Traceback (most recent call last)",
      "\u001b[0;32m<ipython-input-9-68d386a09e4f>\u001b[0m in \u001b[0;36m<module>\u001b[0;34m()\u001b[0m\n\u001b[0;32m----> 1\u001b[0;31m \u001b[0mdf\u001b[0m \u001b[0;34m=\u001b[0m \u001b[0mf\u001b[0m\u001b[0;34m.\u001b[0m\u001b[0mgroup_and_create_target\u001b[0m\u001b[0;34m(\u001b[0m\u001b[0mdf\u001b[0m\u001b[0;34m)\u001b[0m\u001b[0;34m\u001b[0m\u001b[0m\n\u001b[0m",
      "\u001b[0;32m~/galvanize/other_projects/bike-share/featurization.py\u001b[0m in \u001b[0;36mgroup_and_create_target\u001b[0;34m(raw_df)\u001b[0m\n\u001b[1;32m     62\u001b[0m \u001b[0;34m\u001b[0m\u001b[0m\n\u001b[1;32m     63\u001b[0m     \u001b[0;31m#adjust times and filter out additional bikes that were actually idle but \"moved\" due to GPS error\u001b[0m\u001b[0;34m\u001b[0m\u001b[0;34m\u001b[0m\u001b[0m\n\u001b[0;32m---> 64\u001b[0;31m     \u001b[0mmissing_idle\u001b[0m \u001b[0;34m=\u001b[0m \u001b[0mget_missed_idle_bikes\u001b[0m\u001b[0;34m(\u001b[0m\u001b[0midle_df\u001b[0m\u001b[0;34m)\u001b[0m\u001b[0;34m\u001b[0m\u001b[0m\n\u001b[0m\u001b[1;32m     65\u001b[0m     \u001b[0midle_df\u001b[0m\u001b[0;34m.\u001b[0m\u001b[0mutc_time_end\u001b[0m\u001b[0;34m[\u001b[0m\u001b[0mmissing_idle\u001b[0m\u001b[0;34m]\u001b[0m \u001b[0;34m=\u001b[0m \u001b[0midle_df\u001b[0m\u001b[0;34m.\u001b[0m\u001b[0mutc_time_end\u001b[0m\u001b[0;34m.\u001b[0m\u001b[0mshift\u001b[0m\u001b[0;34m(\u001b[0m\u001b[0;34m-\u001b[0m\u001b[0;36m1\u001b[0m\u001b[0;34m)\u001b[0m\u001b[0;34m\u001b[0m\u001b[0m\n\u001b[1;32m     66\u001b[0m     \u001b[0mdrops\u001b[0m \u001b[0;34m=\u001b[0m \u001b[0mmissing_idle\u001b[0m\u001b[0;34m.\u001b[0m\u001b[0mshift\u001b[0m\u001b[0;34m(\u001b[0m\u001b[0;36m1\u001b[0m\u001b[0;34m)\u001b[0m\u001b[0;34m\u001b[0m\u001b[0m\n",
      "\u001b[0;31mNameError\u001b[0m: name 'get_missed_idle_bike' is not defined"
     ]
    }
   ],
   "source": [
    "df = f.group_and_create_target(df)"
   ]
  },
  {
   "cell_type": "code",
   "execution_count": null,
   "metadata": {},
   "outputs": [],
   "source": []
  }
 ],
 "metadata": {
  "kernelspec": {
   "display_name": "Python 3",
   "language": "python",
   "name": "python3"
  },
  "language_info": {
   "codemirror_mode": {
    "name": "ipython",
    "version": 3
   },
   "file_extension": ".py",
   "mimetype": "text/x-python",
   "name": "python",
   "nbconvert_exporter": "python",
   "pygments_lexer": "ipython3",
   "version": "3.6.5"
  }
 },
 "nbformat": 4,
 "nbformat_minor": 2
}
