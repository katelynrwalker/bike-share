{
 "cells": [
  {
   "cell_type": "code",
   "execution_count": 1,
   "metadata": {},
   "outputs": [],
   "source": [
    "import requests\n",
    "import time\n",
    "import pandas as pd"
   ]
  },
  {
   "cell_type": "code",
   "execution_count": 2,
   "metadata": {},
   "outputs": [],
   "source": [
    "def single_query(link):\n",
    "    '''\n",
    "    Input: internet link to request json data from (string)\n",
    "    Output: Pandas df with columns of data for each bike, also a column for datetime of current request\n",
    "    '''\n",
    "    response = requests.get(link)\n",
    "    if response.status_code != 200:\n",
    "        print(time.time())\n",
    "        print('WARNING', response.status_code)\n",
    "    else:\n",
    "        contents = response.json()\n",
    "        \n",
    "        # convert the bikeshare data into a pandas df, include a column for the datetime of the current call\n",
    "        bike_data = pd.DataFrame(contents['data']['bikes'])\n",
    "        bike_data['datetime'] = contents['last_updated']\n",
    "        return bike_data"
   ]
  },
  {
   "cell_type": "code",
   "execution_count": 3,
   "metadata": {},
   "outputs": [],
   "source": [
    "link = 'https://sc.jumpbikes.com/opendata/free_bike_status.json'  ## enter bikeshare data link here"
   ]
  },
  {
   "cell_type": "code",
   "execution_count": 4,
   "metadata": {},
   "outputs": [],
   "source": [
    "# get the bikeshare data from the internet and write to a blank file in csv format\n",
    "\n",
    "bike_data = single_query(link)\n",
    "with open('bike_data_sac.csv', mode='w') as f:\n",
    "    f.write(bike_data.to_csv())"
   ]
  },
  {
   "cell_type": "code",
   "execution_count": 6,
   "metadata": {},
   "outputs": [],
   "source": [
    "# once a minute, get the bikeshare data from the internet and continue appending in csv format to same file as above\n",
    "\n",
    "#while True:\n",
    "for k in [1,2]:\n",
    "    time.sleep(60)\n",
    "\n",
    "    bike_data = single_query(link)\n",
    "    with open('bike_data_sac.csv', mode='a') as f:\n",
    "        f.write(bike_data.to_csv(header=False))\n"
   ]
  },
  {
   "cell_type": "code",
   "execution_count": null,
   "metadata": {},
   "outputs": [],
   "source": []
  }
 ],
 "metadata": {
  "kernelspec": {
   "display_name": "Python 3",
   "language": "python",
   "name": "python3"
  },
  "language_info": {
   "codemirror_mode": {
    "name": "ipython",
    "version": 3
   },
   "file_extension": ".py",
   "mimetype": "text/x-python",
   "name": "python",
   "nbconvert_exporter": "python",
   "pygments_lexer": "ipython3",
   "version": "3.6.5"
  }
 },
 "nbformat": 4,
 "nbformat_minor": 2
}
