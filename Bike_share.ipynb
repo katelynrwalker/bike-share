{
 "cells": [
  {
   "cell_type": "code",
   "execution_count": 49,
   "metadata": {},
   "outputs": [],
   "source": [
    "from bs4 import BeautifulSoup\n",
    "import requests\n",
    "import time\n",
    "import os\n",
    "import csv\n",
    "import pandas as pd\n",
    "import numpy as np"
   ]
  },
  {
   "cell_type": "markdown",
   "metadata": {},
   "source": [
    "def single_query(link, payload):\n",
    "  response = requests.get(link, params=payload)\n",
    "  if response.status_code != 200:\n",
    "      print('WARNING', response.status_code)\n",
    "  else:\n",
    "      return response.json()\n",
    "\n",
    "import time\n",
    "page=0\n",
    "for i in range(2):\n",
    "\n",
    "    time.sleep(3)\n",
    "    link = 'http://api.nytimes.com/svc/search/v2/articlesearch.json'\n",
    "    payload = {'api-key': os.environ['NYT_API_KEY'],\n",
    "            'begin_date': '20160707',\n",
    "            'page': 0+page}\n",
    "    html_str = single_query(link, payload)\n",
    "    get_articles_from_page(tab, html_str)\n",
    "    page+=1\n",
    "    \n",
    "    \n",
    "cwd = os.getcwd() ##gets current working directory\n",
    "with open(cwd + '/data/ebay_shoes.html') as r:\n",
    "    soup = BeautifulSoup(r, 'html.parser')"
   ]
  },
  {
   "cell_type": "code",
   "execution_count": 12,
   "metadata": {},
   "outputs": [],
   "source": [
    "def single_query(link):\n",
    "    response = requests.get(link)\n",
    "    if response.status_code != 200:\n",
    "        print(time.time())\n",
    "        print('WARNING', response.status_code)\n",
    "    else:\n",
    "        return response.json()"
   ]
  },
  {
   "cell_type": "code",
   "execution_count": null,
   "metadata": {},
   "outputs": [],
   "source": [
    "#while True:\n",
    "    link = ''  ## enter bikeshare data link here\n",
    "    contents = single_query(link)\n",
    "    with open('', mode='a') as file:\n",
    "        file.write(contents)\n",
    "    \n",
    "    \n",
    "    \n",
    "    time.sleep(60)"
   ]
  },
  {
   "cell_type": "code",
   "execution_count": 42,
   "metadata": {},
   "outputs": [],
   "source": [
    "link = 'https://sc.jumpbikes.com/opendata/free_bike_status.json'  ## enter bikeshare data link here\n",
    "contents = single_query(link)"
   ]
  },
  {
   "cell_type": "code",
   "execution_count": 32,
   "metadata": {},
   "outputs": [],
   "source": [
    "response = requests.get(link)\n",
    "df = pd.read_json('https://sc.jumpbikes.com/opendata/free_bike_status.json')"
   ]
  },
  {
   "cell_type": "code",
   "execution_count": 43,
   "metadata": {},
   "outputs": [],
   "source": [
    "df = pd.DataFrame.from_dict(contents['data']['bikes'])"
   ]
  },
  {
   "cell_type": "code",
   "execution_count": 44,
   "metadata": {},
   "outputs": [],
   "source": [
    "df['datetime'] = contents['last_updated']"
   ]
  },
  {
   "cell_type": "code",
   "execution_count": 84,
   "metadata": {},
   "outputs": [
    {
     "data": {
      "text/html": [
       "<div>\n",
       "<style scoped>\n",
       "    .dataframe tbody tr th:only-of-type {\n",
       "        vertical-align: middle;\n",
       "    }\n",
       "\n",
       "    .dataframe tbody tr th {\n",
       "        vertical-align: top;\n",
       "    }\n",
       "\n",
       "    .dataframe thead th {\n",
       "        text-align: right;\n",
       "    }\n",
       "</style>\n",
       "<table border=\"1\" class=\"dataframe\">\n",
       "  <thead>\n",
       "    <tr style=\"text-align: right;\">\n",
       "      <th></th>\n",
       "      <th>bike_id</th>\n",
       "      <th>is_disabled</th>\n",
       "      <th>is_reserved</th>\n",
       "      <th>jump_ebike_battery_level</th>\n",
       "      <th>lat</th>\n",
       "      <th>lon</th>\n",
       "      <th>name</th>\n",
       "      <th>datetime</th>\n",
       "    </tr>\n",
       "  </thead>\n",
       "  <tbody>\n",
       "    <tr>\n",
       "      <th>0</th>\n",
       "      <td>bike_20803</td>\n",
       "      <td>0</td>\n",
       "      <td>0</td>\n",
       "      <td>77%</td>\n",
       "      <td>36.953217</td>\n",
       "      <td>-122.039740</td>\n",
       "      <td>0966</td>\n",
       "      <td>1540102412</td>\n",
       "    </tr>\n",
       "    <tr>\n",
       "      <th>1</th>\n",
       "      <td>bike_20799</td>\n",
       "      <td>0</td>\n",
       "      <td>0</td>\n",
       "      <td>55%</td>\n",
       "      <td>36.988575</td>\n",
       "      <td>-122.018083</td>\n",
       "      <td>0958</td>\n",
       "      <td>1540102412</td>\n",
       "    </tr>\n",
       "    <tr>\n",
       "      <th>2</th>\n",
       "      <td>bike_20796</td>\n",
       "      <td>0</td>\n",
       "      <td>0</td>\n",
       "      <td>58%</td>\n",
       "      <td>36.977508</td>\n",
       "      <td>-121.971137</td>\n",
       "      <td>0898</td>\n",
       "      <td>1540102412</td>\n",
       "    </tr>\n",
       "    <tr>\n",
       "      <th>3</th>\n",
       "      <td>bike_20662</td>\n",
       "      <td>0</td>\n",
       "      <td>0</td>\n",
       "      <td>45%</td>\n",
       "      <td>36.972365</td>\n",
       "      <td>-122.019225</td>\n",
       "      <td>1388</td>\n",
       "      <td>1540102412</td>\n",
       "    </tr>\n",
       "    <tr>\n",
       "      <th>4</th>\n",
       "      <td>bike_20665</td>\n",
       "      <td>0</td>\n",
       "      <td>0</td>\n",
       "      <td>52%</td>\n",
       "      <td>36.950002</td>\n",
       "      <td>-122.054582</td>\n",
       "      <td>0904</td>\n",
       "      <td>1540102412</td>\n",
       "    </tr>\n",
       "  </tbody>\n",
       "</table>\n",
       "</div>"
      ],
      "text/plain": [
       "      bike_id  is_disabled  is_reserved jump_ebike_battery_level        lat  \\\n",
       "0  bike_20803            0            0                      77%  36.953217   \n",
       "1  bike_20799            0            0                      55%  36.988575   \n",
       "2  bike_20796            0            0                      58%  36.977508   \n",
       "3  bike_20662            0            0                      45%  36.972365   \n",
       "4  bike_20665            0            0                      52%  36.950002   \n",
       "\n",
       "          lon  name    datetime  \n",
       "0 -122.039740  0966  1540102412  \n",
       "1 -122.018083  0958  1540102412  \n",
       "2 -121.971137  0898  1540102412  \n",
       "3 -122.019225  1388  1540102412  \n",
       "4 -122.054582  0904  1540102412  "
      ]
     },
     "execution_count": 84,
     "metadata": {},
     "output_type": "execute_result"
    }
   ],
   "source": [
    "df.head()"
   ]
  },
  {
   "cell_type": "code",
   "execution_count": 57,
   "metadata": {},
   "outputs": [],
   "source": [
    "with open('bike_test.csv', mode='w') as file:\n",
    "    file.write(df.to_csv())"
   ]
  },
  {
   "cell_type": "code",
   "execution_count": 58,
   "metadata": {},
   "outputs": [],
   "source": [
    "with open('bike_test.csv', mode='a') as file:\n",
    "    file.write(df.to_csv(header=False))"
   ]
  },
  {
   "cell_type": "code",
   "execution_count": 53,
   "metadata": {},
   "outputs": [],
   "source": [
    "f = np.array(df)"
   ]
  },
  {
   "cell_type": "code",
   "execution_count": 56,
   "metadata": {},
   "outputs": [],
   "source": [
    "with open('bike_test.csv', mode='a') as file:\n",
    "    f.tofile(file, sep=\",\")"
   ]
  },
  {
   "cell_type": "code",
   "execution_count": 60,
   "metadata": {},
   "outputs": [],
   "source": [
    "csv_load = pd.read_csv('bike_test.csv')"
   ]
  },
  {
   "cell_type": "code",
   "execution_count": 63,
   "metadata": {},
   "outputs": [
    {
     "name": "stdout",
     "output_type": "stream",
     "text": [
      "<class 'pandas.core.frame.DataFrame'>\n",
      "RangeIndex: 180 entries, 0 to 179\n",
      "Data columns (total 9 columns):\n",
      "Unnamed: 0                  180 non-null int64\n",
      "bike_id                     180 non-null object\n",
      "is_disabled                 180 non-null int64\n",
      "is_reserved                 180 non-null int64\n",
      "jump_ebike_battery_level    180 non-null object\n",
      "lat                         180 non-null float64\n",
      "lon                         180 non-null float64\n",
      "name                        180 non-null int64\n",
      "datetime                    180 non-null int64\n",
      "dtypes: float64(2), int64(5), object(2)\n",
      "memory usage: 12.7+ KB\n"
     ]
    }
   ],
   "source": [
    "csv_load.info()"
   ]
  },
  {
   "cell_type": "code",
   "execution_count": 64,
   "metadata": {},
   "outputs": [
    {
     "data": {
      "text/html": [
       "<div>\n",
       "<style scoped>\n",
       "    .dataframe tbody tr th:only-of-type {\n",
       "        vertical-align: middle;\n",
       "    }\n",
       "\n",
       "    .dataframe tbody tr th {\n",
       "        vertical-align: top;\n",
       "    }\n",
       "\n",
       "    .dataframe thead th {\n",
       "        text-align: right;\n",
       "    }\n",
       "</style>\n",
       "<table border=\"1\" class=\"dataframe\">\n",
       "  <thead>\n",
       "    <tr style=\"text-align: right;\">\n",
       "      <th></th>\n",
       "      <th>Unnamed: 0</th>\n",
       "      <th>bike_id</th>\n",
       "      <th>is_disabled</th>\n",
       "      <th>is_reserved</th>\n",
       "      <th>jump_ebike_battery_level</th>\n",
       "      <th>lat</th>\n",
       "      <th>lon</th>\n",
       "      <th>name</th>\n",
       "      <th>datetime</th>\n",
       "    </tr>\n",
       "  </thead>\n",
       "  <tbody>\n",
       "    <tr>\n",
       "      <th>0</th>\n",
       "      <td>0</td>\n",
       "      <td>bike_20803</td>\n",
       "      <td>0</td>\n",
       "      <td>0</td>\n",
       "      <td>77%</td>\n",
       "      <td>36.953217</td>\n",
       "      <td>-122.039740</td>\n",
       "      <td>966</td>\n",
       "      <td>1540102412</td>\n",
       "    </tr>\n",
       "    <tr>\n",
       "      <th>1</th>\n",
       "      <td>1</td>\n",
       "      <td>bike_20799</td>\n",
       "      <td>0</td>\n",
       "      <td>0</td>\n",
       "      <td>55%</td>\n",
       "      <td>36.988575</td>\n",
       "      <td>-122.018083</td>\n",
       "      <td>958</td>\n",
       "      <td>1540102412</td>\n",
       "    </tr>\n",
       "    <tr>\n",
       "      <th>2</th>\n",
       "      <td>2</td>\n",
       "      <td>bike_20796</td>\n",
       "      <td>0</td>\n",
       "      <td>0</td>\n",
       "      <td>58%</td>\n",
       "      <td>36.977508</td>\n",
       "      <td>-121.971137</td>\n",
       "      <td>898</td>\n",
       "      <td>1540102412</td>\n",
       "    </tr>\n",
       "    <tr>\n",
       "      <th>3</th>\n",
       "      <td>3</td>\n",
       "      <td>bike_20662</td>\n",
       "      <td>0</td>\n",
       "      <td>0</td>\n",
       "      <td>45%</td>\n",
       "      <td>36.972365</td>\n",
       "      <td>-122.019225</td>\n",
       "      <td>1388</td>\n",
       "      <td>1540102412</td>\n",
       "    </tr>\n",
       "    <tr>\n",
       "      <th>4</th>\n",
       "      <td>4</td>\n",
       "      <td>bike_20665</td>\n",
       "      <td>0</td>\n",
       "      <td>0</td>\n",
       "      <td>52%</td>\n",
       "      <td>36.950002</td>\n",
       "      <td>-122.054582</td>\n",
       "      <td>904</td>\n",
       "      <td>1540102412</td>\n",
       "    </tr>\n",
       "  </tbody>\n",
       "</table>\n",
       "</div>"
      ],
      "text/plain": [
       "   Unnamed: 0     bike_id  is_disabled  is_reserved jump_ebike_battery_level  \\\n",
       "0           0  bike_20803            0            0                      77%   \n",
       "1           1  bike_20799            0            0                      55%   \n",
       "2           2  bike_20796            0            0                      58%   \n",
       "3           3  bike_20662            0            0                      45%   \n",
       "4           4  bike_20665            0            0                      52%   \n",
       "\n",
       "         lat         lon  name    datetime  \n",
       "0  36.953217 -122.039740   966  1540102412  \n",
       "1  36.988575 -122.018083   958  1540102412  \n",
       "2  36.977508 -121.971137   898  1540102412  \n",
       "3  36.972365 -122.019225  1388  1540102412  \n",
       "4  36.950002 -122.054582   904  1540102412  "
      ]
     },
     "execution_count": 64,
     "metadata": {},
     "output_type": "execute_result"
    }
   ],
   "source": [
    "csv_load.head()"
   ]
  },
  {
   "cell_type": "code",
   "execution_count": 82,
   "metadata": {},
   "outputs": [],
   "source": [
    "j = pd.DataFrame(contents['data']['bikes'])"
   ]
  },
  {
   "cell_type": "code",
   "execution_count": 85,
   "metadata": {},
   "outputs": [],
   "source": [
    "j['datetime'] = contents['last_updated']"
   ]
  },
  {
   "cell_type": "code",
   "execution_count": 86,
   "metadata": {},
   "outputs": [],
   "source": [
    "with open('bike_test.csv', mode='a') as file:\n",
    "    file.write(j.to_csv(header=False))"
   ]
  },
  {
   "cell_type": "code",
   "execution_count": 90,
   "metadata": {},
   "outputs": [
    {
     "name": "stdout",
     "output_type": "stream",
     "text": [
      "1540149966.792733\n"
     ]
    }
   ],
   "source": [
    "time.time()"
   ]
  },
  {
   "cell_type": "code",
   "execution_count": null,
   "metadata": {},
   "outputs": [],
   "source": []
  }
 ],
 "metadata": {
  "kernelspec": {
   "display_name": "Python 3",
   "language": "python",
   "name": "python3"
  },
  "language_info": {
   "codemirror_mode": {
    "name": "ipython",
    "version": 3
   },
   "file_extension": ".py",
   "mimetype": "text/x-python",
   "name": "python",
   "nbconvert_exporter": "python",
   "pygments_lexer": "ipython3",
   "version": "3.6.5"
  }
 },
 "nbformat": 4,
 "nbformat_minor": 2
}
