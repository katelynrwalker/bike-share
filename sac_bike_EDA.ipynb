{
 "cells": [
  {
   "cell_type": "code",
   "execution_count": 21,
   "metadata": {},
   "outputs": [],
   "source": [
    "import pandas as pd\n",
    "import numpy as np\n",
    "import matplotlib.pyplot as plt\n",
    "import time\n",
    "import datetime"
   ]
  },
  {
   "cell_type": "code",
   "execution_count": 2,
   "metadata": {},
   "outputs": [
    {
     "name": "stderr",
     "output_type": "stream",
     "text": [
      "/anaconda3/lib/python3.6/site-packages/IPython/core/interactiveshell.py:2785: DtypeWarning: Columns (7) have mixed types. Specify dtype option on import or set low_memory=False.\n",
      "  interactivity=interactivity, compiler=compiler, result=result)\n"
     ]
    }
   ],
   "source": [
    "data = pd.read_csv(\"sac-bike-data.csv\")"
   ]
  },
  {
   "cell_type": "code",
   "execution_count": 6,
   "metadata": {},
   "outputs": [
    {
     "data": {
      "text/html": [
       "<div>\n",
       "<style scoped>\n",
       "    .dataframe tbody tr th:only-of-type {\n",
       "        vertical-align: middle;\n",
       "    }\n",
       "\n",
       "    .dataframe tbody tr th {\n",
       "        vertical-align: top;\n",
       "    }\n",
       "\n",
       "    .dataframe thead th {\n",
       "        text-align: right;\n",
       "    }\n",
       "</style>\n",
       "<table border=\"1\" class=\"dataframe\">\n",
       "  <thead>\n",
       "    <tr style=\"text-align: right;\">\n",
       "      <th></th>\n",
       "      <th>Unnamed: 0</th>\n",
       "      <th>bike_id</th>\n",
       "      <th>is_disabled</th>\n",
       "      <th>is_reserved</th>\n",
       "      <th>jump_ebike_battery_level</th>\n",
       "      <th>lat</th>\n",
       "      <th>lon</th>\n",
       "      <th>name</th>\n",
       "      <th>datetime</th>\n",
       "    </tr>\n",
       "  </thead>\n",
       "  <tbody>\n",
       "    <tr>\n",
       "      <th>84437</th>\n",
       "      <td>20</td>\n",
       "      <td>bike_20795</td>\n",
       "      <td>0</td>\n",
       "      <td>0</td>\n",
       "      <td>68%</td>\n",
       "      <td>36.964205</td>\n",
       "      <td>-122.011480</td>\n",
       "      <td>0896</td>\n",
       "      <td>1540351671</td>\n",
       "    </tr>\n",
       "    <tr>\n",
       "      <th>652978</th>\n",
       "      <td>37</td>\n",
       "      <td>bike_23363</td>\n",
       "      <td>0</td>\n",
       "      <td>0</td>\n",
       "      <td>57%</td>\n",
       "      <td>36.976388</td>\n",
       "      <td>-121.977745</td>\n",
       "      <td>1389</td>\n",
       "      <td>1540609335</td>\n",
       "    </tr>\n",
       "    <tr>\n",
       "      <th>308356</th>\n",
       "      <td>19</td>\n",
       "      <td>bike_23364</td>\n",
       "      <td>0</td>\n",
       "      <td>0</td>\n",
       "      <td>89%</td>\n",
       "      <td>36.966905</td>\n",
       "      <td>-122.007922</td>\n",
       "      <td>1517</td>\n",
       "      <td>1540455627</td>\n",
       "    </tr>\n",
       "    <tr>\n",
       "      <th>580485</th>\n",
       "      <td>107</td>\n",
       "      <td>bike_20805</td>\n",
       "      <td>0</td>\n",
       "      <td>0</td>\n",
       "      <td>58%</td>\n",
       "      <td>36.948937</td>\n",
       "      <td>-122.065345</td>\n",
       "      <td>972</td>\n",
       "      <td>1540572534</td>\n",
       "    </tr>\n",
       "    <tr>\n",
       "      <th>423674</th>\n",
       "      <td>74</td>\n",
       "      <td>bike_23375</td>\n",
       "      <td>0</td>\n",
       "      <td>0</td>\n",
       "      <td>85%</td>\n",
       "      <td>36.981335</td>\n",
       "      <td>-122.009600</td>\n",
       "      <td>1556</td>\n",
       "      <td>1540510934</td>\n",
       "    </tr>\n",
       "    <tr>\n",
       "      <th>3759</th>\n",
       "      <td>36</td>\n",
       "      <td>bike_21173</td>\n",
       "      <td>0</td>\n",
       "      <td>0</td>\n",
       "      <td>52%</td>\n",
       "      <td>36.983998</td>\n",
       "      <td>-121.991300</td>\n",
       "      <td>980</td>\n",
       "      <td>1540310310</td>\n",
       "    </tr>\n",
       "    <tr>\n",
       "      <th>194040</th>\n",
       "      <td>70</td>\n",
       "      <td>bike_23285</td>\n",
       "      <td>0</td>\n",
       "      <td>0</td>\n",
       "      <td>41%</td>\n",
       "      <td>36.985722</td>\n",
       "      <td>-122.021988</td>\n",
       "      <td>1334</td>\n",
       "      <td>1540398176</td>\n",
       "    </tr>\n",
       "    <tr>\n",
       "      <th>157808</th>\n",
       "      <td>18</td>\n",
       "      <td>bike_23269</td>\n",
       "      <td>0</td>\n",
       "      <td>0</td>\n",
       "      <td>37%</td>\n",
       "      <td>36.965693</td>\n",
       "      <td>-122.008990</td>\n",
       "      <td>1355</td>\n",
       "      <td>1540382636</td>\n",
       "    </tr>\n",
       "    <tr>\n",
       "      <th>274860</th>\n",
       "      <td>2</td>\n",
       "      <td>bike_23324</td>\n",
       "      <td>0</td>\n",
       "      <td>0</td>\n",
       "      <td>72%</td>\n",
       "      <td>36.951467</td>\n",
       "      <td>-122.042787</td>\n",
       "      <td>1551</td>\n",
       "      <td>1540439944</td>\n",
       "    </tr>\n",
       "    <tr>\n",
       "      <th>7651</th>\n",
       "      <td>110</td>\n",
       "      <td>bike_20805</td>\n",
       "      <td>0</td>\n",
       "      <td>0</td>\n",
       "      <td>73%</td>\n",
       "      <td>36.974948</td>\n",
       "      <td>-122.026228</td>\n",
       "      <td>972</td>\n",
       "      <td>1540312071</td>\n",
       "    </tr>\n",
       "  </tbody>\n",
       "</table>\n",
       "</div>"
      ],
      "text/plain": [
       "        Unnamed: 0     bike_id  is_disabled  is_reserved  \\\n",
       "84437           20  bike_20795            0            0   \n",
       "652978          37  bike_23363            0            0   \n",
       "308356          19  bike_23364            0            0   \n",
       "580485         107  bike_20805            0            0   \n",
       "423674          74  bike_23375            0            0   \n",
       "3759            36  bike_21173            0            0   \n",
       "194040          70  bike_23285            0            0   \n",
       "157808          18  bike_23269            0            0   \n",
       "274860           2  bike_23324            0            0   \n",
       "7651           110  bike_20805            0            0   \n",
       "\n",
       "       jump_ebike_battery_level        lat         lon  name    datetime  \n",
       "84437                       68%  36.964205 -122.011480  0896  1540351671  \n",
       "652978                      57%  36.976388 -121.977745  1389  1540609335  \n",
       "308356                      89%  36.966905 -122.007922  1517  1540455627  \n",
       "580485                      58%  36.948937 -122.065345   972  1540572534  \n",
       "423674                      85%  36.981335 -122.009600  1556  1540510934  \n",
       "3759                        52%  36.983998 -121.991300   980  1540310310  \n",
       "194040                      41%  36.985722 -122.021988  1334  1540398176  \n",
       "157808                      37%  36.965693 -122.008990  1355  1540382636  \n",
       "274860                      72%  36.951467 -122.042787  1551  1540439944  \n",
       "7651                        73%  36.974948 -122.026228   972  1540312071  "
      ]
     },
     "execution_count": 6,
     "metadata": {},
     "output_type": "execute_result"
    }
   ],
   "source": [
    "data.sample(10)"
   ]
  },
  {
   "cell_type": "code",
   "execution_count": 30,
   "metadata": {},
   "outputs": [],
   "source": [
    "data['jump_ebike_battery_level'] = data['jump_ebike_battery_level'].str.strip('%').astype(int)"
   ]
  },
  {
   "cell_type": "code",
   "execution_count": 31,
   "metadata": {},
   "outputs": [
    {
     "name": "stdout",
     "output_type": "stream",
     "text": [
      "<class 'pandas.core.frame.DataFrame'>\n",
      "RangeIndex: 811913 entries, 0 to 811912\n",
      "Data columns (total 9 columns):\n",
      "Unnamed: 0                  811913 non-null int64\n",
      "bike_id                     811913 non-null object\n",
      "is_disabled                 811913 non-null int64\n",
      "is_reserved                 811913 non-null int64\n",
      "jump_ebike_battery_level    811913 non-null int64\n",
      "lat                         811913 non-null float64\n",
      "lon                         811913 non-null float64\n",
      "name                        811913 non-null object\n",
      "datetime                    811913 non-null int64\n",
      "dtypes: float64(2), int64(5), object(2)\n",
      "memory usage: 55.7+ MB\n"
     ]
    }
   ],
   "source": [
    "data.info()"
   ]
  },
  {
   "cell_type": "code",
   "execution_count": 22,
   "metadata": {},
   "outputs": [
    {
     "data": {
      "text/plain": [
       "'2018-10-23 20:27:51'"
      ]
     },
     "execution_count": 22,
     "metadata": {},
     "output_type": "execute_result"
    }
   ],
   "source": [
    "time.strftime('%Y-%m-%d %H:%M:%S', time.localtime(1540351671))"
   ]
  },
  {
   "cell_type": "code",
   "execution_count": 24,
   "metadata": {},
   "outputs": [
    {
     "data": {
      "text/plain": [
       "-61"
      ]
     },
     "execution_count": 24,
     "metadata": {},
     "output_type": "execute_result"
    }
   ],
   "source": [
    "1540308607-1540308668"
   ]
  },
  {
   "cell_type": "code",
   "execution_count": 32,
   "metadata": {},
   "outputs": [],
   "source": [
    "bike23360 = data[data['bike_id'] == 'bike_23360']"
   ]
  },
  {
   "cell_type": "code",
   "execution_count": 33,
   "metadata": {},
   "outputs": [
    {
     "data": {
      "text/plain": [
       "[<matplotlib.lines.Line2D at 0x10c4862b0>]"
      ]
     },
     "execution_count": 33,
     "metadata": {},
     "output_type": "execute_result"
    },
    {
     "data": {
      "image/png": "[encoded data removed]",
      "text/plain": [
       "<Figure size 432x288 with 1 Axes>"
      ]
     },
     "metadata": {},
     "output_type": "display_data"
    }
   ],
   "source": [
    "plt.plot(bike23360['datetime'], bike23360['jump_ebike_battery_level'])"
   ]
  },
  {
   "cell_type": "code",
   "execution_count": null,
   "metadata": {},
   "outputs": [],
   "source": []
  }
 ],
 "metadata": {
  "kernelspec": {
   "display_name": "Python 3",
   "language": "python",
   "name": "python3"
  },
  "language_info": {
   "codemirror_mode": {
    "name": "ipython",
    "version": 3
   },
   "file_extension": ".py",
   "mimetype": "text/x-python",
   "name": "python",
   "nbconvert_exporter": "python",
   "pygments_lexer": "ipython3",
   "version": "3.6.5"
  }
 },
 "nbformat": 4,
 "nbformat_minor": 2
}
