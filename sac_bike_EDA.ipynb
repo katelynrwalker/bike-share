{
 "cells": [
  {
   "cell_type": "code",
   "execution_count": 1,
   "metadata": {},
   "outputs": [],
   "source": [
    "import pandas as pd\n",
    "import numpy as np\n",
    "import matplotlib.pyplot as plt\n",
    "import time\n",
    "import datetime"
   ]
  },
  {
   "cell_type": "code",
   "execution_count": 2,
   "metadata": {},
   "outputs": [
    {
     "name": "stderr",
     "output_type": "stream",
     "text": [
      "/anaconda3/lib/python3.6/site-packages/IPython/core/interactiveshell.py:2785: DtypeWarning: Columns (7) have mixed types. Specify dtype option on import or set low_memory=False.\n",
      "  interactivity=interactivity, compiler=compiler, result=result)\n"
     ]
    }
   ],
   "source": [
    "data = pd.read_csv(\"sac-bike-data.csv\")"
   ]
  },
  {
   "cell_type": "code",
   "execution_count": 3,
   "metadata": {},
   "outputs": [
    {
     "data": {
      "text/html": [
       "<div>\n",
       "<style scoped>\n",
       "    .dataframe tbody tr th:only-of-type {\n",
       "        vertical-align: middle;\n",
       "    }\n",
       "\n",
       "    .dataframe tbody tr th {\n",
       "        vertical-align: top;\n",
       "    }\n",
       "\n",
       "    .dataframe thead th {\n",
       "        text-align: right;\n",
       "    }\n",
       "</style>\n",
       "<table border=\"1\" class=\"dataframe\">\n",
       "  <thead>\n",
       "    <tr style=\"text-align: right;\">\n",
       "      <th></th>\n",
       "      <th>Unnamed: 0</th>\n",
       "      <th>bike_id</th>\n",
       "      <th>is_disabled</th>\n",
       "      <th>is_reserved</th>\n",
       "      <th>jump_ebike_battery_level</th>\n",
       "      <th>lat</th>\n",
       "      <th>lon</th>\n",
       "      <th>name</th>\n",
       "      <th>datetime</th>\n",
       "    </tr>\n",
       "  </thead>\n",
       "  <tbody>\n",
       "    <tr>\n",
       "      <th>491815</th>\n",
       "      <td>112</td>\n",
       "      <td>bike_21409</td>\n",
       "      <td>0</td>\n",
       "      <td>0</td>\n",
       "      <td>78%</td>\n",
       "      <td>36.985727</td>\n",
       "      <td>-122.021992</td>\n",
       "      <td>1336</td>\n",
       "      <td>1540539400</td>\n",
       "    </tr>\n",
       "    <tr>\n",
       "      <th>378748</th>\n",
       "      <td>21</td>\n",
       "      <td>bike_20666</td>\n",
       "      <td>0</td>\n",
       "      <td>0</td>\n",
       "      <td>72%</td>\n",
       "      <td>36.974000</td>\n",
       "      <td>-122.026145</td>\n",
       "      <td>0910</td>\n",
       "      <td>1540488469</td>\n",
       "    </tr>\n",
       "    <tr>\n",
       "      <th>746916</th>\n",
       "      <td>112</td>\n",
       "      <td>bike_20794</td>\n",
       "      <td>0</td>\n",
       "      <td>0</td>\n",
       "      <td>61%</td>\n",
       "      <td>36.988677</td>\n",
       "      <td>-122.026495</td>\n",
       "      <td>894</td>\n",
       "      <td>1540648084</td>\n",
       "    </tr>\n",
       "    <tr>\n",
       "      <th>448376</th>\n",
       "      <td>83</td>\n",
       "      <td>bike_26977</td>\n",
       "      <td>0</td>\n",
       "      <td>0</td>\n",
       "      <td>40%</td>\n",
       "      <td>36.965658</td>\n",
       "      <td>-122.008988</td>\n",
       "      <td>1380</td>\n",
       "      <td>1540522245</td>\n",
       "    </tr>\n",
       "    <tr>\n",
       "      <th>3619</th>\n",
       "      <td>27</td>\n",
       "      <td>bike_20785</td>\n",
       "      <td>0</td>\n",
       "      <td>0</td>\n",
       "      <td>32%</td>\n",
       "      <td>36.996388</td>\n",
       "      <td>-122.053833</td>\n",
       "      <td>880</td>\n",
       "      <td>1540310249</td>\n",
       "    </tr>\n",
       "    <tr>\n",
       "      <th>461729</th>\n",
       "      <td>24</td>\n",
       "      <td>bike_20652</td>\n",
       "      <td>0</td>\n",
       "      <td>0</td>\n",
       "      <td>94%</td>\n",
       "      <td>36.979313</td>\n",
       "      <td>-122.007342</td>\n",
       "      <td>944</td>\n",
       "      <td>1540527736</td>\n",
       "    </tr>\n",
       "    <tr>\n",
       "      <th>154137</th>\n",
       "      <td>137</td>\n",
       "      <td>bike_23399</td>\n",
       "      <td>0</td>\n",
       "      <td>0</td>\n",
       "      <td>44%</td>\n",
       "      <td>36.957815</td>\n",
       "      <td>-122.044185</td>\n",
       "      <td>1540</td>\n",
       "      <td>1540381066</td>\n",
       "    </tr>\n",
       "    <tr>\n",
       "      <th>696542</th>\n",
       "      <td>50</td>\n",
       "      <td>bike_20771</td>\n",
       "      <td>0</td>\n",
       "      <td>0</td>\n",
       "      <td>66%</td>\n",
       "      <td>36.991740</td>\n",
       "      <td>-122.029128</td>\n",
       "      <td>1396</td>\n",
       "      <td>1540628602</td>\n",
       "    </tr>\n",
       "    <tr>\n",
       "      <th>19426</th>\n",
       "      <td>29</td>\n",
       "      <td>bike_21407</td>\n",
       "      <td>0</td>\n",
       "      <td>0</td>\n",
       "      <td>63%</td>\n",
       "      <td>36.953010</td>\n",
       "      <td>-122.052243</td>\n",
       "      <td>1330</td>\n",
       "      <td>1540318103</td>\n",
       "    </tr>\n",
       "    <tr>\n",
       "      <th>676583</th>\n",
       "      <td>66</td>\n",
       "      <td>bike_23278</td>\n",
       "      <td>0</td>\n",
       "      <td>0</td>\n",
       "      <td>73%</td>\n",
       "      <td>36.976600</td>\n",
       "      <td>-122.034560</td>\n",
       "      <td>1532</td>\n",
       "      <td>1540620172</td>\n",
       "    </tr>\n",
       "  </tbody>\n",
       "</table>\n",
       "</div>"
      ],
      "text/plain": [
       "        Unnamed: 0     bike_id  is_disabled  is_reserved  \\\n",
       "491815         112  bike_21409            0            0   \n",
       "378748          21  bike_20666            0            0   \n",
       "746916         112  bike_20794            0            0   \n",
       "448376          83  bike_26977            0            0   \n",
       "3619            27  bike_20785            0            0   \n",
       "461729          24  bike_20652            0            0   \n",
       "154137         137  bike_23399            0            0   \n",
       "696542          50  bike_20771            0            0   \n",
       "19426           29  bike_21407            0            0   \n",
       "676583          66  bike_23278            0            0   \n",
       "\n",
       "       jump_ebike_battery_level        lat         lon  name    datetime  \n",
       "491815                      78%  36.985727 -122.021992  1336  1540539400  \n",
       "378748                      72%  36.974000 -122.026145  0910  1540488469  \n",
       "746916                      61%  36.988677 -122.026495   894  1540648084  \n",
       "448376                      40%  36.965658 -122.008988  1380  1540522245  \n",
       "3619                        32%  36.996388 -122.053833   880  1540310249  \n",
       "461729                      94%  36.979313 -122.007342   944  1540527736  \n",
       "154137                      44%  36.957815 -122.044185  1540  1540381066  \n",
       "696542                      66%  36.991740 -122.029128  1396  1540628602  \n",
       "19426                       63%  36.953010 -122.052243  1330  1540318103  \n",
       "676583                      73%  36.976600 -122.034560  1532  1540620172  "
      ]
     },
     "execution_count": 3,
     "metadata": {},
     "output_type": "execute_result"
    }
   ],
   "source": [
    "data.sample(10)"
   ]
  },
  {
   "cell_type": "code",
   "execution_count": 4,
   "metadata": {},
   "outputs": [],
   "source": [
    "data['jump_ebike_battery_level'] = data['jump_ebike_battery_level'].str.strip('%').astype(int)"
   ]
  },
  {
   "cell_type": "code",
   "execution_count": 5,
   "metadata": {},
   "outputs": [
    {
     "name": "stdout",
     "output_type": "stream",
     "text": [
      "<class 'pandas.core.frame.DataFrame'>\n",
      "RangeIndex: 811913 entries, 0 to 811912\n",
      "Data columns (total 9 columns):\n",
      "Unnamed: 0                  811913 non-null int64\n",
      "bike_id                     811913 non-null object\n",
      "is_disabled                 811913 non-null int64\n",
      "is_reserved                 811913 non-null int64\n",
      "jump_ebike_battery_level    811913 non-null int64\n",
      "lat                         811913 non-null float64\n",
      "lon                         811913 non-null float64\n",
      "name                        811913 non-null object\n",
      "datetime                    811913 non-null int64\n",
      "dtypes: float64(2), int64(5), object(2)\n",
      "memory usage: 55.7+ MB\n"
     ]
    }
   ],
   "source": [
    "data.info()"
   ]
  },
  {
   "cell_type": "code",
   "execution_count": 6,
   "metadata": {},
   "outputs": [
    {
     "data": {
      "text/plain": [
       "'2018-10-23 20:27:51'"
      ]
     },
     "execution_count": 6,
     "metadata": {},
     "output_type": "execute_result"
    }
   ],
   "source": [
    "time.strftime('%Y-%m-%d %H:%M:%S', time.localtime(1540351671))"
   ]
  },
  {
   "cell_type": "code",
   "execution_count": 7,
   "metadata": {},
   "outputs": [
    {
     "data": {
      "text/plain": [
       "-61"
      ]
     },
     "execution_count": 7,
     "metadata": {},
     "output_type": "execute_result"
    }
   ],
   "source": [
    "1540308607-1540308668"
   ]
  },
  {
   "cell_type": "code",
   "execution_count": 8,
   "metadata": {},
   "outputs": [],
   "source": [
    "bike23360 = data[data['bike_id'] == 'bike_23360']"
   ]
  },
  {
   "cell_type": "code",
   "execution_count": 9,
   "metadata": {},
   "outputs": [
    {
     "data": {
      "text/plain": [
       "[<matplotlib.lines.Line2D at 0x10aa82860>]"
      ]
     },
     "execution_count": 9,
     "metadata": {},
     "output_type": "execute_result"
    },
    {
     "data": {
      "image/png": "[encoded data removed]",
      "text/plain": [
       "<Figure size 432x288 with 1 Axes>"
      ]
     },
     "metadata": {},
     "output_type": "display_data"
    }
   ],
   "source": [
    "plt.plot(bike23360['datetime'], bike23360['jump_ebike_battery_level'])"
   ]
  },
  {
   "cell_type": "code",
   "execution_count": 30,
   "metadata": {},
   "outputs": [
    {
     "data": {
      "text/plain": [
       "6089"
      ]
     },
     "execution_count": 30,
     "metadata": {},
     "output_type": "execute_result"
    }
   ],
   "source": [
    "len(data['regtime'].unique())"
   ]
  },
  {
   "cell_type": "code",
   "execution_count": 32,
   "metadata": {},
   "outputs": [
    {
     "data": {
      "image/png": "[encoded data removed]",
      "text/plain": [
       "<Figure size 1296x720 with 1 Axes>"
      ]
     },
     "metadata": {},
     "output_type": "display_data"
    }
   ],
   "source": [
    "fig, ax = plt.subplots( figsize = (18,10))\n",
    "ax.hist(data['regtime'], bins=1000)\n",
    "plt.show()"
   ]
  },
  {
   "cell_type": "code",
   "execution_count": 16,
   "metadata": {},
   "outputs": [],
   "source": [
    "data['regtime'] = pd.to_datetime(data['datetime'], unit='s')"
   ]
  },
  {
   "cell_type": "code",
   "execution_count": 21,
   "metadata": {},
   "outputs": [
    {
     "data": {
      "text/plain": [
       "0        2018-10-23 15:29:07\n",
       "1        2018-10-23 15:29:07\n",
       "2        2018-10-23 15:29:07\n",
       "3        2018-10-23 15:29:07\n",
       "4        2018-10-23 15:29:07\n",
       "5        2018-10-23 15:29:07\n",
       "6        2018-10-23 15:29:07\n",
       "7        2018-10-23 15:29:07\n",
       "8        2018-10-23 15:29:07\n",
       "9        2018-10-23 15:29:07\n",
       "10       2018-10-23 15:29:07\n",
       "11       2018-10-23 15:29:07\n",
       "12       2018-10-23 15:29:07\n",
       "13       2018-10-23 15:29:07\n",
       "14       2018-10-23 15:29:07\n",
       "15       2018-10-23 15:29:07\n",
       "16       2018-10-23 15:29:07\n",
       "17       2018-10-23 15:29:07\n",
       "18       2018-10-23 15:29:07\n",
       "19       2018-10-23 15:29:07\n",
       "20       2018-10-23 15:29:07\n",
       "21       2018-10-23 15:29:07\n",
       "22       2018-10-23 15:29:07\n",
       "23       2018-10-23 15:29:07\n",
       "24       2018-10-23 15:29:07\n",
       "25       2018-10-23 15:29:07\n",
       "26       2018-10-23 15:29:07\n",
       "27       2018-10-23 15:29:07\n",
       "28       2018-10-23 15:29:07\n",
       "29       2018-10-23 15:29:07\n",
       "                 ...        \n",
       "811883   2018-10-27 22:23:02\n",
       "811884   2018-10-27 22:23:02\n",
       "811885   2018-10-27 22:23:02\n",
       "811886   2018-10-27 22:23:02\n",
       "811887   2018-10-27 22:23:02\n",
       "811888   2018-10-27 22:23:02\n",
       "811889   2018-10-27 22:23:02\n",
       "811890   2018-10-27 22:23:02\n",
       "811891   2018-10-27 22:23:02\n",
       "811892   2018-10-27 22:23:02\n",
       "811893   2018-10-27 22:23:02\n",
       "811894   2018-10-27 22:23:02\n",
       "811895   2018-10-27 22:23:02\n",
       "811896   2018-10-27 22:23:02\n",
       "811897   2018-10-27 22:23:02\n",
       "811898   2018-10-27 22:23:02\n",
       "811899   2018-10-27 22:23:02\n",
       "811900   2018-10-27 22:23:02\n",
       "811901   2018-10-27 22:23:02\n",
       "811902   2018-10-27 22:23:02\n",
       "811903   2018-10-27 22:23:02\n",
       "811904   2018-10-27 22:23:02\n",
       "811905   2018-10-27 22:23:02\n",
       "811906   2018-10-27 22:23:02\n",
       "811907   2018-10-27 22:23:02\n",
       "811908   2018-10-27 22:23:02\n",
       "811909   2018-10-27 22:23:02\n",
       "811910   2018-10-27 22:23:02\n",
       "811911   2018-10-27 22:23:02\n",
       "811912   2018-10-27 22:23:02\n",
       "Name: regtime, Length: 811913, dtype: datetime64[ns]"
      ]
     },
     "execution_count": 21,
     "metadata": {},
     "output_type": "execute_result"
    }
   ],
   "source": [
    "data['regtime']"
   ]
  },
  {
   "cell_type": "code",
   "execution_count": null,
   "metadata": {},
   "outputs": [],
   "source": []
  }
 ],
 "metadata": {
  "kernelspec": {
   "display_name": "Python 3",
   "language": "python",
   "name": "python3"
  },
  "language_info": {
   "codemirror_mode": {
    "name": "ipython",
    "version": 3
   },
   "file_extension": ".py",
   "mimetype": "text/x-python",
   "name": "python",
   "nbconvert_exporter": "python",
   "pygments_lexer": "ipython3",
   "version": "3.6.5"
  }
 },
 "nbformat": 4,
 "nbformat_minor": 2
}
