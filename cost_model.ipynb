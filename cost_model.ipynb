{
 "cells": [
  {
   "cell_type": "code",
   "execution_count": 1,
   "metadata": {},
   "outputs": [],
   "source": [
    "import featurization\n",
    "import helpers\n",
    "import model_neighbors\n",
    "\n",
    "import pandas as pd\n",
    "import geopandas\n",
    "import matplotlib.pyplot as plt\n",
    "import numpy as np\n",
    "import scipy.stats as scs\n",
    "import pickle\n",
    "\n",
    "%reload_ext autoreload\n",
    "%autoreload 2"
   ]
  },
  {
   "cell_type": "code",
   "execution_count": 2,
   "metadata": {},
   "outputs": [
    {
     "name": "stdout",
     "output_type": "stream",
     "text": [
      "Dropping 0 entries where end time was before start time\n"
     ]
    }
   ],
   "source": [
    "test_geodf = featurization.all_featurization(\"bike-data/sc-bike-data-ending1109.csv\")"
   ]
  },
  {
   "cell_type": "code",
   "execution_count": 17,
   "metadata": {},
   "outputs": [
    {
     "name": "stderr",
     "output_type": "stream",
     "text": [
      "/anaconda3/lib/python3.6/site-packages/IPython/core/interactiveshell.py:3267: DtypeWarning: Columns (6) have mixed types. Specify dtype option on import or set low_memory=False.\n",
      "  exec(code_obj, self.user_global_ns, self.user_ns)\n"
     ]
    },
    {
     "name": "stdout",
     "output_type": "stream",
     "text": [
      "Dropping 1 entries where end time was before start time\n"
     ]
    }
   ],
   "source": [
    "train_geodf = featurization.all_featurization(\"all-sc-bike-data-1101.csv\")"
   ]
  },
  {
   "cell_type": "code",
   "execution_count": 3,
   "metadata": {},
   "outputs": [],
   "source": [
    "knn_model = pickle.load(open('knn_pickle.p', \"rb\"))\n",
    "scaler = pickle.load(open('scaler.p', \"rb\"))\n",
    "X_test_raw = test_geodf[[\"lon\", \"lat\", \"time_of_day_start\", \"day_of_week\"]]\n",
    "X_test = scaler.transform(X_test_raw.astype(float))\n",
    "y_true = test_geodf['idle_hours']\n",
    "y_pred = knn_model.predict(X_test)"
   ]
  },
  {
   "cell_type": "code",
   "execution_count": 18,
   "metadata": {},
   "outputs": [
    {
     "data": {
      "text/plain": [
       "3.857608695652174"
      ]
     },
     "execution_count": 18,
     "metadata": {},
     "output_type": "execute_result"
    }
   ],
   "source": [
    "#avg_rentals_per_bike_per_day\n",
    "train_geodf.groupby([train_geodf['local_time_start'].dt.date, train_geodf['bike_id']])['idle_time'].count().mean()"
   ]
  },
  {
   "cell_type": "markdown",
   "metadata": {},
   "source": [
    "So bikes are rented, on average, 3.8 times per day. Lets say each rental makes $2. And nighttime hours don't count because bikes are so rarely rented then. This means on average a bike should make about 40 cents an hour for the company."
   ]
  },
  {
   "cell_type": "code",
   "execution_count": 20,
   "metadata": {},
   "outputs": [
    {
     "data": {
      "text/plain": [
       "0.39999999999999997"
      ]
     },
     "execution_count": 20,
     "metadata": {},
     "output_type": "execute_result"
    }
   ],
   "source": [
    "2.8*2/14"
   ]
  },
  {
   "cell_type": "code",
   "execution_count": 99,
   "metadata": {},
   "outputs": [],
   "source": [
    "cost_relocate = 5\n",
    "cost_idle = 1"
   ]
  },
  {
   "cell_type": "markdown",
   "metadata": {},
   "source": [
    "Using the most basic math, you should relocate a bike if you expect it to sit for longer than 12.5 hours."
   ]
  },
  {
   "cell_type": "code",
   "execution_count": 100,
   "metadata": {},
   "outputs": [
    {
     "data": {
      "text/plain": [
       "5.0"
      ]
     },
     "execution_count": 100,
     "metadata": {},
     "output_type": "execute_result"
    }
   ],
   "source": [
    "relocate_time = cost_relocate/cost_idle\n",
    "relocate_time"
   ]
  },
  {
   "cell_type": "markdown",
   "metadata": {},
   "source": [
    "But what if we apply our exponential distributions of bike distributions to make a profit curve? At what certainty of sitting for 12.5 hours do we maximize profit?"
   ]
  },
  {
   "cell_type": "markdown",
   "metadata": {},
   "source": [
    "This tells us the probability that a bike will still be there after our break-even relocate time"
   ]
  },
  {
   "cell_type": "code",
   "execution_count": 101,
   "metadata": {},
   "outputs": [],
   "source": [
    "prob_bike_is_there = [1-scs.expon(scale=y_pred[i]).cdf(relocate_time) for i in range(len(y_pred))]"
   ]
  },
  {
   "cell_type": "code",
   "execution_count": 102,
   "metadata": {},
   "outputs": [],
   "source": [
    "labels = (y_true > relocate_time).astype(int)"
   ]
  },
  {
   "cell_type": "code",
   "execution_count": 103,
   "metadata": {},
   "outputs": [],
   "source": [
    "def standard_confusion_matrix(y_t, y_p):\n",
    "    y_true = np.array(y_t)\n",
    "    y_predict = np.array(y_p)\n",
    "    tp = np.sum((y_true == y_predict) & (y_true == 1))\n",
    "    fp = np.sum((y_true != y_predict) & (y_true == 0))\n",
    "    fn = np.sum((y_true != y_predict) & (y_true == 1))\n",
    "    tn = np.sum((y_true == y_predict) & (y_true == 0))\n",
    "    return np.array([[tp, fp], [fn, tn]])"
   ]
  },
  {
   "cell_type": "markdown",
   "metadata": {},
   "source": [
    "A test case on the confusion matrix function"
   ]
  },
  {
   "cell_type": "code",
   "execution_count": 104,
   "metadata": {},
   "outputs": [
    {
     "data": {
      "text/plain": [
       "array([[215, 349],\n",
       "       [ 85, 660]])"
      ]
     },
     "execution_count": 104,
     "metadata": {},
     "output_type": "execute_result"
    }
   ],
   "source": [
    "bike_is_there_10 = np.array(prob_bike_is_there) > 0.1\n",
    "standard_confusion_matrix(labels, bike_is_there_10)"
   ]
  },
  {
   "cell_type": "markdown",
   "metadata": {},
   "source": [
    "From the training data, once a bike exceeds the 12.5 hour mark, it sits, on average, for another 6 hours"
   ]
  },
  {
   "cell_type": "markdown",
   "metadata": {},
   "source": [
    "***** consider if this is right? should it be multiplied by the entire sit time or just the part over 12.5 hours?"
   ]
  },
  {
   "cell_type": "code",
   "execution_count": 105,
   "metadata": {},
   "outputs": [],
   "source": [
    "cost_matrix = np.array([[ 6,  -10],\n",
    "                        [ 0,  0]])"
   ]
  },
  {
   "cell_type": "code",
   "execution_count": 106,
   "metadata": {},
   "outputs": [],
   "source": [
    "def profit_curve(cost_matrix, thresholds, probs, labels):\n",
    "    '''function profit_curve(cost_benefit, predicted_probs, labels):\n",
    "    1. Sort instances by their prediction strength (the probabilities)\n",
    "       - Add 1 at the beginning so that you consider all thresholds\n",
    "    2. For every instance in decreasing order of probability:\n",
    "       1. Set the threshold to be the probability\n",
    "       2. Set everything above the threshold to the positive class\n",
    "       3. Calculate the confusion matrix\n",
    "       4. Compute the expected profit:\n",
    "           - multiply each of the 4 entries in the confusion matrix by\n",
    "             their associated entry in the cost-benefit matrix\n",
    "           - sum up these values\n",
    "           - divide by the total number of data points\n",
    "    3. Return an array of the profits and their associated thresholds'''\n",
    "    profits = []\n",
    "    for t in thresholds:\n",
    "        cf = standard_confusion_matrix(labels, probs>t)\n",
    "        profits.append(np.sum(cf*cost_matrix)/np.sum(cf))\n",
    "#     return (thresholds,profits)  \n",
    "    return np.array([thresholds,profits]).T"
   ]
  },
  {
   "cell_type": "code",
   "execution_count": 107,
   "metadata": {},
   "outputs": [],
   "source": [
    "thresholds = np.linspace(0, 1)"
   ]
  },
  {
   "cell_type": "code",
   "execution_count": 108,
   "metadata": {},
   "outputs": [],
   "source": [
    "profit = profit_curve(cost_matrix, thresholds, prob_bike_is_there, labels)"
   ]
  },
  {
   "cell_type": "code",
   "execution_count": 109,
   "metadata": {},
   "outputs": [
    {
     "data": {
      "text/plain": [
       "0.03819709702062643"
      ]
     },
     "execution_count": 109,
     "metadata": {},
     "output_type": "execute_result"
    }
   ],
   "source": [
    "profit[:,1].max()"
   ]
  },
  {
   "cell_type": "code",
   "execution_count": 110,
   "metadata": {},
   "outputs": [
    {
     "data": {
      "text/plain": [
       "[<matplotlib.lines.Line2D at 0x1a30c6bc18>]"
      ]
     },
     "execution_count": 110,
     "metadata": {},
     "output_type": "execute_result"
    },
    {
     "data": {
      "image/png": "[encoded data removed]",
      "text/plain": [
       "<Figure size 432x288 with 1 Axes>"
      ]
     },
     "metadata": {
      "needs_background": "light"
     },
     "output_type": "display_data"
    }
   ],
   "source": [
    "plt.plot(profit[:,0], profit[:,1])"
   ]
  },
  {
   "cell_type": "code",
   "execution_count": null,
   "metadata": {},
   "outputs": [],
   "source": [
    "def plot_profit_curve(model, cost_benefit, X_train, X_test, y_train, y_test):\n",
    "    model.fit(X_train,y_train)\n",
    "    probs = model.predict_proba(X_test)[:,1]\n",
    "    profits = profit_curve(cost_benefit, probs, y_test)[:,1]\n",
    "    percentages = np.arange(0, 100, 100. / len(profits))\n",
    "    plt.plot(percentages, profits, label=model.__class__.__name__)\n",
    "    plt.title(\"Profit Curve\")\n",
    "    plt.xlabel(\"Percentage of test instances that we predict to churn\")\n",
    "    plt.ylabel(\"Profit\")"
   ]
  }
 ],
 "metadata": {
  "kernelspec": {
   "display_name": "Python 3",
   "language": "python",
   "name": "python3"
  },
  "language_info": {
   "codemirror_mode": {
    "name": "ipython",
    "version": 3
   },
   "file_extension": ".py",
   "mimetype": "text/x-python",
   "name": "python",
   "nbconvert_exporter": "python",
   "pygments_lexer": "ipython3",
   "version": "3.6.6"
  }
 },
 "nbformat": 4,
 "nbformat_minor": 2
}
