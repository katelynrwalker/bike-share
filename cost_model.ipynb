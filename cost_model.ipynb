{
 "cells": [
  {
   "cell_type": "code",
   "execution_count": 3,
   "metadata": {},
   "outputs": [],
   "source": [
    "import featurization\n",
    "import helpers\n",
    "import model_neighbors\n",
    "\n",
    "import pandas as pd\n",
    "import geopandas\n",
    "import matplotlib.pyplot as plt\n",
    "import numpy as np\n",
    "import scipy.stats as scs\n",
    "import pickle\n",
    "\n",
    "%reload_ext autoreload\n",
    "%autoreload 2"
   ]
  },
  {
   "cell_type": "code",
   "execution_count": 4,
   "metadata": {},
   "outputs": [
    {
     "name": "stdout",
     "output_type": "stream",
     "text": [
      "Dropping 0 entries where end time was before start time\n"
     ]
    }
   ],
   "source": [
    "test_df = featurization.featurization_for_knn(\"bike-data/sc-bike-data-ending1109.csv\")"
   ]
  },
  {
   "cell_type": "code",
   "execution_count": 5,
   "metadata": {},
   "outputs": [
    {
     "name": "stderr",
     "output_type": "stream",
     "text": [
      "/anaconda3/lib/python3.6/site-packages/IPython/core/interactiveshell.py:3267: DtypeWarning: Columns (6) have mixed types. Specify dtype option on import or set low_memory=False.\n",
      "  exec(code_obj, self.user_global_ns, self.user_ns)\n"
     ]
    },
    {
     "name": "stdout",
     "output_type": "stream",
     "text": [
      "Dropping 1 entries where end time was before start time\n"
     ]
    }
   ],
   "source": [
    "train_df = featurization.featurization_for_knn(\"all-sc-bike-data-1101.csv\")"
   ]
  },
  {
   "cell_type": "code",
   "execution_count": 6,
   "metadata": {},
   "outputs": [],
   "source": [
    "knn_model = pickle.load(open('knn_pickle.p', \"rb\"))\n",
    "scaler = pickle.load(open('scaler.p', \"rb\"))\n",
    "X_test_raw = test_df[[\"lon\", \"lat\", \"time_of_day_start\", \"day_of_week\"]]\n",
    "X_test = scaler.transform(X_test_raw.astype(float))\n",
    "y_true = test_df['idle_hours']\n",
    "y_pred = knn_model.predict(X_test)"
   ]
  },
  {
   "cell_type": "code",
   "execution_count": 10,
   "metadata": {},
   "outputs": [
    {
     "data": {
      "text/plain": [
       "3.947141316073355"
      ]
     },
     "execution_count": 10,
     "metadata": {},
     "output_type": "execute_result"
    }
   ],
   "source": [
    "#avg_rentals_per_bike_per_day\n",
    "train_df.groupby([train_df['local_time_start'].dt.date, train_df['bike_id']])['idle_time'].count().mean()"
   ]
  },
  {
   "cell_type": "markdown",
   "metadata": {},
   "source": [
    "So bikes are rented, on average, 3.9 times per day. Lets say each rental makes $2. And nighttime hours don't count because bikes are so rarely rented then. This means on average a bike should make about 45 cents an hour for the company."
   ]
  },
  {
   "cell_type": "code",
   "execution_count": 14,
   "metadata": {},
   "outputs": [
    {
     "data": {
      "text/plain": [
       "0.43333333333333335"
      ]
     },
     "execution_count": 14,
     "metadata": {},
     "output_type": "execute_result"
    }
   ],
   "source": [
    "3.9*2/18"
   ]
  },
  {
   "cell_type": "markdown",
   "metadata": {},
   "source": [
    "And we'll say, as a ballpark, that the cost of relocating the bike (employee time plus van operation) is $5."
   ]
  },
  {
   "cell_type": "code",
   "execution_count": 15,
   "metadata": {},
   "outputs": [],
   "source": [
    "cost_relocate = 5\n",
    "cost_idle = 0.5"
   ]
  },
  {
   "cell_type": "markdown",
   "metadata": {},
   "source": [
    "Using the most basic math, you should relocate a bike if you expect it to sit for longer than 10 hours."
   ]
  },
  {
   "cell_type": "code",
   "execution_count": 16,
   "metadata": {},
   "outputs": [
    {
     "data": {
      "text/plain": [
       "10.0"
      ]
     },
     "execution_count": 16,
     "metadata": {},
     "output_type": "execute_result"
    }
   ],
   "source": [
    "relocate_time = cost_relocate/cost_idle\n",
    "relocate_time"
   ]
  },
  {
   "cell_type": "markdown",
   "metadata": {},
   "source": [
    "But what if we apply our exponential distributions of bike distributions to make a profit curve? At what certainty of sitting for 10 hours do we maximize profit?"
   ]
  },
  {
   "cell_type": "markdown",
   "metadata": {},
   "source": [
    "This tells us the probability that a bike will still be there after our break-even relocate time"
   ]
  },
  {
   "cell_type": "code",
   "execution_count": 17,
   "metadata": {},
   "outputs": [],
   "source": [
    "prob_bike_is_there = [1-scs.expon(scale=y_pred[i]).cdf(relocate_time) for i in range(len(y_pred))]"
   ]
  },
  {
   "cell_type": "code",
   "execution_count": 20,
   "metadata": {},
   "outputs": [],
   "source": [
    "labels = (y_true > relocate_time).astype(int)"
   ]
  },
  {
   "cell_type": "code",
   "execution_count": 21,
   "metadata": {},
   "outputs": [],
   "source": [
    "def standard_confusion_matrix(y_t, y_p):\n",
    "    y_true = np.array(y_t)\n",
    "    y_predict = np.array(y_p)\n",
    "    tp = np.sum((y_true == y_predict) & (y_true == 1))\n",
    "    fp = np.sum((y_true != y_predict) & (y_true == 0))\n",
    "    fn = np.sum((y_true != y_predict) & (y_true == 1))\n",
    "    tn = np.sum((y_true == y_predict) & (y_true == 0))\n",
    "    return np.array([[tp, fp], [fn, tn]])"
   ]
  },
  {
   "cell_type": "markdown",
   "metadata": {},
   "source": [
    "A test case on the confusion matrix function"
   ]
  },
  {
   "cell_type": "code",
   "execution_count": 22,
   "metadata": {},
   "outputs": [
    {
     "data": {
      "text/plain": [
       "array([[  68,  113],\n",
       "       [ 134, 1033]])"
      ]
     },
     "execution_count": 22,
     "metadata": {},
     "output_type": "execute_result"
    }
   ],
   "source": [
    "bike_is_there_10 = np.array(prob_bike_is_there) > 0.1\n",
    "standard_confusion_matrix(labels, bike_is_there_10)"
   ]
  },
  {
   "cell_type": "markdown",
   "metadata": {},
   "source": [
    "From the training data, once a bike exceeds the relocate time threshhold (8 hours), it sits, on average, for 15 hours"
   ]
  },
  {
   "cell_type": "code",
   "execution_count": 23,
   "metadata": {},
   "outputs": [
    {
     "data": {
      "text/plain": [
       "2.8917501366493643"
      ]
     },
     "execution_count": 23,
     "metadata": {},
     "output_type": "execute_result"
    }
   ],
   "source": [
    "train_df['idle_hours'].mean()"
   ]
  },
  {
   "cell_type": "code",
   "execution_count": 24,
   "metadata": {},
   "outputs": [
    {
     "data": {
      "text/plain": [
       "16.812022556390975"
      ]
     },
     "execution_count": 24,
     "metadata": {},
     "output_type": "execute_result"
    }
   ],
   "source": [
    "avg_hours_idle = train_df[train_df['idle_hours']>relocate_time]['idle_hours'].mean()\n",
    "avg_hours_idle"
   ]
  },
  {
   "cell_type": "code",
   "execution_count": 25,
   "metadata": {},
   "outputs": [],
   "source": [
    "cost_matrix = np.array([[ avg_hours_idle*cost_idle,  -cost_relocate],\n",
    "                        [ 0,  0]])"
   ]
  },
  {
   "cell_type": "code",
   "execution_count": 26,
   "metadata": {},
   "outputs": [],
   "source": [
    "def profit_curve(cost_matrix, thresholds, probs, labels):\n",
    "    '''function profit_curve(cost_benefit, predicted_probs, labels):\n",
    "    1. Sort instances by their prediction strength (the probabilities)\n",
    "       - Add 1 at the beginning so that you consider all thresholds\n",
    "    2. For every instance in decreasing order of probability:\n",
    "       1. Set the threshold to be the probability\n",
    "       2. Set everything above the threshold to the positive class\n",
    "       3. Calculate the confusion matrix\n",
    "       4. Compute the expected profit:\n",
    "           - multiply each of the 4 entries in the confusion matrix by\n",
    "             their associated entry in the cost-benefit matrix\n",
    "           - sum up these values\n",
    "           - divide by the total number of data points\n",
    "    3. Return an array of the profits and their associated thresholds'''\n",
    "    profits = []\n",
    "    for t in thresholds:\n",
    "        cf = standard_confusion_matrix(labels, probs>t)\n",
    "        profits.append(np.sum(cf*cost_matrix)/np.sum(cf))\n",
    "#     return (thresholds,profits)  \n",
    "    return np.array([thresholds,profits]).T"
   ]
  },
  {
   "cell_type": "code",
   "execution_count": 27,
   "metadata": {},
   "outputs": [],
   "source": [
    "thresholds = np.linspace(0.05, 1)"
   ]
  },
  {
   "cell_type": "code",
   "execution_count": 28,
   "metadata": {},
   "outputs": [],
   "source": [
    "profit = profit_curve(cost_matrix, thresholds, prob_bike_is_there, labels)"
   ]
  },
  {
   "cell_type": "code",
   "execution_count": 29,
   "metadata": {},
   "outputs": [
    {
     "data": {
      "text/plain": [
       "0.07811614533366053"
      ]
     },
     "execution_count": 29,
     "metadata": {},
     "output_type": "execute_result"
    }
   ],
   "source": [
    "profit[:,1].max()"
   ]
  },
  {
   "cell_type": "code",
   "execution_count": 30,
   "metadata": {},
   "outputs": [
    {
     "data": {
      "text/plain": [
       "0.1663265306122449"
      ]
     },
     "execution_count": 30,
     "metadata": {},
     "output_type": "execute_result"
    }
   ],
   "source": [
    "profit[profit[:,1].argmax(),0]"
   ]
  },
  {
   "cell_type": "markdown",
   "metadata": {},
   "source": [
    "So if our model shows a 16% probability that a bike will sit for more than 10 hours, we should send someone out to relocate it"
   ]
  },
  {
   "cell_type": "code",
   "execution_count": 139,
   "metadata": {},
   "outputs": [
    {
     "data": {
      "image/png": "[encoded data removed]",
      "text/plain": [
       "<Figure size 432x288 with 1 Axes>"
      ]
     },
     "metadata": {
      "needs_background": "light"
     },
     "output_type": "display_data"
    }
   ],
   "source": [
    "plt.plot(profit[:,0], profit[:,1], c='firebrick')\n",
    "plt.title(\"Profit Curve\")\n",
    "plt.xlabel(\"Threshold probability of bike sitting for more than 10 hours\")\n",
    "plt.ylabel(\"Profit\")\n",
    "plt.show()"
   ]
  },
  {
   "cell_type": "code",
   "execution_count": 137,
   "metadata": {},
   "outputs": [
    {
     "data": {
      "text/plain": [
       "array([[  50,   64],\n",
       "       [ 152, 1082]])"
      ]
     },
     "execution_count": 137,
     "metadata": {},
     "output_type": "execute_result"
    }
   ],
   "source": [
    "standard_confusion_matrix(labels, np.array(prob_bike_is_there)>0.166)"
   ]
  },
  {
   "cell_type": "code",
   "execution_count": 209,
   "metadata": {},
   "outputs": [],
   "source": [
    "def plot_profit_curve(model, cost_benefit, X_train, X_test, y_train, y_test):\n",
    "    model.fit(X_train,y_train)\n",
    "    probs = model.predict_proba(X_test)[:,1]\n",
    "    profits = profit_curve(cost_benefit, probs, y_test)[:,1]\n",
    "    percentages = np.arange(0, 100, 100. / len(profits))\n",
    "    plt.plot(percentages, profits, label=model.__class__.__name__)\n",
    "    plt.title(\"Profit Curve\")\n",
    "    plt.xlabel(\"Percentage of test instances that we predict to churn\")\n",
    "    plt.ylabel(\"Profit\")"
   ]
  },
  {
   "cell_type": "code",
   "execution_count": 33,
   "metadata": {},
   "outputs": [
    {
     "data": {
      "text/plain": [
       "time_of_day_start\n",
       "0     2\n",
       "1     3\n",
       "4     1\n",
       "16    4\n",
       "17    8\n",
       "18    6\n",
       "19    5\n",
       "20    9\n",
       "21    7\n",
       "22    3\n",
       "23    3\n",
       "Name: time_of_day_start, dtype: int64"
      ]
     },
     "execution_count": 33,
     "metadata": {},
     "output_type": "execute_result"
    }
   ],
   "source": [
    "times = test_df[(np.array(prob_bike_is_there) > 0.16) & (labels)].time_of_day_start\n",
    "times.groupby(times).count()"
   ]
  },
  {
   "cell_type": "code",
   "execution_count": null,
   "metadata": {},
   "outputs": [],
   "source": []
  },
  {
   "cell_type": "code",
   "execution_count": null,
   "metadata": {},
   "outputs": [],
   "source": []
  },
  {
   "cell_type": "code",
   "execution_count": 122,
   "metadata": {},
   "outputs": [],
   "source": [
    "departure_99 = [scs.expon(scale=y_pred[i]).ppf(.999) for i in range(len(y_pred))]"
   ]
  },
  {
   "cell_type": "code",
   "execution_count": 123,
   "metadata": {},
   "outputs": [],
   "source": [
    "exceeded_departure_99 = test_df.idle_hours > departure_99"
   ]
  },
  {
   "cell_type": "code",
   "execution_count": 124,
   "metadata": {},
   "outputs": [],
   "source": [
    "time_over_99 = test_df.idle_hours[exceeded_departure_99] - np.array(departure_99)[exceeded_departure_99]"
   ]
  },
  {
   "cell_type": "code",
   "execution_count": 125,
   "metadata": {},
   "outputs": [
    {
     "data": {
      "text/plain": [
       "count    75.000000\n",
       "mean      6.098178\n",
       "std       4.876384\n",
       "min       0.044424\n",
       "25%       1.667290\n",
       "50%       5.726630\n",
       "75%       8.830050\n",
       "max      19.258892\n",
       "Name: idle_hours, dtype: float64"
      ]
     },
     "execution_count": 125,
     "metadata": {},
     "output_type": "execute_result"
    }
   ],
   "source": [
    "time_over_99.describe()"
   ]
  },
  {
   "cell_type": "code",
   "execution_count": 126,
   "metadata": {},
   "outputs": [
    {
     "data": {
      "text/plain": [
       "-146.31831971433172"
      ]
     },
     "execution_count": 126,
     "metadata": {},
     "output_type": "execute_result"
    }
   ],
   "source": [
    "(time_over_99*0.5 - 5).sum()"
   ]
  },
  {
   "cell_type": "code",
   "execution_count": 127,
   "metadata": {},
   "outputs": [
    {
     "data": {
      "text/plain": [
       "next_action\n",
       "gets_pickedup_charged    0.053333\n",
       "gets_relocated           0.120000\n",
       "rented                   0.826667\n",
       "Name: next_action, dtype: float64"
      ]
     },
     "execution_count": 127,
     "metadata": {},
     "output_type": "execute_result"
    }
   ],
   "source": [
    "(test_df.next_action[exceeded_departure_99].groupby(test_df.next_action).count())/len(test_df[exceeded_departure_99])"
   ]
  },
  {
   "cell_type": "code",
   "execution_count": 128,
   "metadata": {},
   "outputs": [
    {
     "data": {
      "text/plain": [
       "next_action\n",
       "gets_pickedup_charged    0.051929\n",
       "gets_relocated           0.113501\n",
       "rented                   0.834570\n",
       "Name: next_action, dtype: float64"
      ]
     },
     "execution_count": 128,
     "metadata": {},
     "output_type": "execute_result"
    }
   ],
   "source": [
    "test_df.next_action.groupby(test_df.next_action).count()/len(test_df)"
   ]
  },
  {
   "cell_type": "code",
   "execution_count": 132,
   "metadata": {},
   "outputs": [
    {
     "data": {
      "text/plain": [
       "(array([21., 10.,  8., 13.,  8.,  4.,  3.,  2.,  5.,  1.]),\n",
       " array([ 0.04442384,  1.96587065,  3.88731746,  5.80876427,  7.73021107,\n",
       "         9.65165788, 11.57310469, 13.49455149, 15.4159983 , 17.33744511,\n",
       "        19.25889192]),\n",
       " <a list of 10 Patch objects>)"
      ]
     },
     "execution_count": 132,
     "metadata": {},
     "output_type": "execute_result"
    },
    {
     "data": {
      "image/png": "[encoded data removed]",
      "text/plain": [
       "<Figure size 432x288 with 1 Axes>"
      ]
     },
     "metadata": {
      "needs_background": "light"
     },
     "output_type": "display_data"
    }
   ],
   "source": [
    "plt.hist(time_over_99, bins = 10)"
   ]
  },
  {
   "cell_type": "code",
   "execution_count": null,
   "metadata": {},
   "outputs": [],
   "source": []
  }
 ],
 "metadata": {
  "kernelspec": {
   "display_name": "Python 3",
   "language": "python",
   "name": "python3"
  },
  "language_info": {
   "codemirror_mode": {
    "name": "ipython",
    "version": 3
   },
   "file_extension": ".py",
   "mimetype": "text/x-python",
   "name": "python",
   "nbconvert_exporter": "python",
   "pygments_lexer": "ipython3",
   "version": "3.6.6"
  }
 },
 "nbformat": 4,
 "nbformat_minor": 2
}
