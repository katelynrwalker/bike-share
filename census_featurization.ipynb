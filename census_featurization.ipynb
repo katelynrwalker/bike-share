{
 "cells": [
  {
   "cell_type": "code",
   "execution_count": 1,
   "metadata": {},
   "outputs": [],
   "source": [
    "import featurization\n",
    "import helpers\n",
    "\n",
    "import pandas as pd\n",
    "import geopandas\n",
    "import matplotlib.pyplot as plt\n",
    "\n",
    "import contextily as ctx\n",
    "from shapely.geometry import Point, Polygon\n",
    "\n",
    "%load_ext autoreload\n",
    "%autoreload 2"
   ]
  },
  {
   "cell_type": "code",
   "execution_count": 113,
   "metadata": {},
   "outputs": [],
   "source": [
    "geodf = featurization.all_featurization(\"all-sc-bike-data-1101.csv\")"
   ]
  },
  {
   "cell_type": "code",
   "execution_count": 114,
   "metadata": {},
   "outputs": [],
   "source": [
    "geodf = featurization.add_zoning(geodf, 'Zoning')"
   ]
  },
  {
   "cell_type": "code",
   "execution_count": 115,
   "metadata": {},
   "outputs": [
    {
     "data": {
      "text/html": [
       "<div>\n",
       "<style scoped>\n",
       "    .dataframe tbody tr th:only-of-type {\n",
       "        vertical-align: middle;\n",
       "    }\n",
       "\n",
       "    .dataframe tbody tr th {\n",
       "        vertical-align: top;\n",
       "    }\n",
       "\n",
       "    .dataframe thead th {\n",
       "        text-align: right;\n",
       "    }\n",
       "</style>\n",
       "<table border=\"1\" class=\"dataframe\">\n",
       "  <thead>\n",
       "    <tr style=\"text-align: right;\">\n",
       "      <th></th>\n",
       "      <th>bike_id</th>\n",
       "      <th>lat</th>\n",
       "      <th>lon</th>\n",
       "      <th>idle_time</th>\n",
       "      <th>batt_start</th>\n",
       "      <th>batt_end</th>\n",
       "      <th>utc_time_start</th>\n",
       "      <th>utc_time_end</th>\n",
       "      <th>local_time_start</th>\n",
       "      <th>day_of_week</th>\n",
       "      <th>gets_pickedup_charged</th>\n",
       "      <th>gets_pickedup_not_charged</th>\n",
       "      <th>in_charger</th>\n",
       "      <th>next_action</th>\n",
       "      <th>geolocation</th>\n",
       "      <th>ZONING</th>\n",
       "    </tr>\n",
       "  </thead>\n",
       "  <tbody>\n",
       "    <tr>\n",
       "      <th>58</th>\n",
       "      <td>bike_20631</td>\n",
       "      <td>36.98725</td>\n",
       "      <td>-122.03416</td>\n",
       "      <td>00:47:18</td>\n",
       "      <td>94</td>\n",
       "      <td>94</td>\n",
       "      <td>2018-10-23 19:26:39+00:00</td>\n",
       "      <td>2018-10-23 20:13:57+00:00</td>\n",
       "      <td>2018-10-23 12:26:39-07:00</td>\n",
       "      <td>1</td>\n",
       "      <td>False</td>\n",
       "      <td>False</td>\n",
       "      <td>False</td>\n",
       "      <td>rented</td>\n",
       "      <td>POINT (-122.03416 36.98725)</td>\n",
       "      <td>IG</td>\n",
       "    </tr>\n",
       "    <tr>\n",
       "      <th>59</th>\n",
       "      <td>bike_20631</td>\n",
       "      <td>36.98733</td>\n",
       "      <td>-122.03417</td>\n",
       "      <td>00:51:33</td>\n",
       "      <td>96</td>\n",
       "      <td>96</td>\n",
       "      <td>2018-10-23 20:28:01+00:00</td>\n",
       "      <td>2018-10-23 21:19:34+00:00</td>\n",
       "      <td>2018-10-23 13:28:01-07:00</td>\n",
       "      <td>1</td>\n",
       "      <td>False</td>\n",
       "      <td>False</td>\n",
       "      <td>False</td>\n",
       "      <td>rented</td>\n",
       "      <td>POINT (-122.03417 36.98733)</td>\n",
       "      <td>IG</td>\n",
       "    </tr>\n",
       "    <tr>\n",
       "      <th>39</th>\n",
       "      <td>bike_20631</td>\n",
       "      <td>36.97425</td>\n",
       "      <td>-122.02437</td>\n",
       "      <td>00:05:13</td>\n",
       "      <td>93</td>\n",
       "      <td>93</td>\n",
       "      <td>2018-10-23 21:37:55+00:00</td>\n",
       "      <td>2018-10-23 21:43:08+00:00</td>\n",
       "      <td>2018-10-23 14:37:55-07:00</td>\n",
       "      <td>1</td>\n",
       "      <td>False</td>\n",
       "      <td>False</td>\n",
       "      <td>False</td>\n",
       "      <td>rented</td>\n",
       "      <td>POINT (-122.02437 36.97425)</td>\n",
       "      <td>CBD</td>\n",
       "    </tr>\n",
       "    <tr>\n",
       "      <th>14</th>\n",
       "      <td>bike_20631</td>\n",
       "      <td>36.96690</td>\n",
       "      <td>-122.04056</td>\n",
       "      <td>02:13:47</td>\n",
       "      <td>49</td>\n",
       "      <td>49</td>\n",
       "      <td>2018-10-25 01:11:07+00:00</td>\n",
       "      <td>2018-10-25 03:24:54+00:00</td>\n",
       "      <td>2018-10-24 18:11:07-07:00</td>\n",
       "      <td>2</td>\n",
       "      <td>False</td>\n",
       "      <td>False</td>\n",
       "      <td>False</td>\n",
       "      <td>rented</td>\n",
       "      <td>POINT (-122.04056 36.9669)</td>\n",
       "      <td>CC</td>\n",
       "    </tr>\n",
       "    <tr>\n",
       "      <th>43</th>\n",
       "      <td>bike_20631</td>\n",
       "      <td>36.97576</td>\n",
       "      <td>-122.02842</td>\n",
       "      <td>00:15:05</td>\n",
       "      <td>42</td>\n",
       "      <td>42</td>\n",
       "      <td>2018-10-25 03:44:59+00:00</td>\n",
       "      <td>2018-10-25 04:00:04+00:00</td>\n",
       "      <td>2018-10-24 20:44:59-07:00</td>\n",
       "      <td>2</td>\n",
       "      <td>False</td>\n",
       "      <td>False</td>\n",
       "      <td>False</td>\n",
       "      <td>rented</td>\n",
       "      <td>POINT (-122.02842 36.97576)</td>\n",
       "      <td>CBD</td>\n",
       "    </tr>\n",
       "  </tbody>\n",
       "</table>\n",
       "</div>"
      ],
      "text/plain": [
       "       bike_id       lat        lon idle_time  batt_start  batt_end  \\\n",
       "58  bike_20631  36.98725 -122.03416  00:47:18          94        94   \n",
       "59  bike_20631  36.98733 -122.03417  00:51:33          96        96   \n",
       "39  bike_20631  36.97425 -122.02437  00:05:13          93        93   \n",
       "14  bike_20631  36.96690 -122.04056  02:13:47          49        49   \n",
       "43  bike_20631  36.97576 -122.02842  00:15:05          42        42   \n",
       "\n",
       "              utc_time_start              utc_time_end  \\\n",
       "58 2018-10-23 19:26:39+00:00 2018-10-23 20:13:57+00:00   \n",
       "59 2018-10-23 20:28:01+00:00 2018-10-23 21:19:34+00:00   \n",
       "39 2018-10-23 21:37:55+00:00 2018-10-23 21:43:08+00:00   \n",
       "14 2018-10-25 01:11:07+00:00 2018-10-25 03:24:54+00:00   \n",
       "43 2018-10-25 03:44:59+00:00 2018-10-25 04:00:04+00:00   \n",
       "\n",
       "            local_time_start  day_of_week  gets_pickedup_charged  \\\n",
       "58 2018-10-23 12:26:39-07:00            1                  False   \n",
       "59 2018-10-23 13:28:01-07:00            1                  False   \n",
       "39 2018-10-23 14:37:55-07:00            1                  False   \n",
       "14 2018-10-24 18:11:07-07:00            2                  False   \n",
       "43 2018-10-24 20:44:59-07:00            2                  False   \n",
       "\n",
       "    gets_pickedup_not_charged  in_charger next_action  \\\n",
       "58                      False       False      rented   \n",
       "59                      False       False      rented   \n",
       "39                      False       False      rented   \n",
       "14                      False       False      rented   \n",
       "43                      False       False      rented   \n",
       "\n",
       "                    geolocation ZONING  \n",
       "58  POINT (-122.03416 36.98725)     IG  \n",
       "59  POINT (-122.03417 36.98733)     IG  \n",
       "39  POINT (-122.02437 36.97425)    CBD  \n",
       "14   POINT (-122.04056 36.9669)     CC  \n",
       "43  POINT (-122.02842 36.97576)    CBD  "
      ]
     },
     "execution_count": 115,
     "metadata": {},
     "output_type": "execute_result"
    }
   ],
   "source": [
    "geodf.head()"
   ]
  },
  {
   "cell_type": "code",
   "execution_count": 105,
   "metadata": {},
   "outputs": [
    {
     "data": {
      "text/plain": [
       "['X00_COUNTS',\n",
       " 'X01_AGE_AND_SEX',\n",
       " 'X02_RACE',\n",
       " 'X03_HISPANIC_OR_LATINO_ORIGIN',\n",
       " 'X07_MIGRATION',\n",
       " 'X08_COMMUTING',\n",
       " 'X09_CHILDREN_HOUSEHOLD_RELATIONSHIP',\n",
       " 'X11_HOUSEHOLD_FAMILY_SUBFAMILIES',\n",
       " 'X12_MARITAL_STATUS_AND_HISTORY',\n",
       " 'X14_SCHOOL_ENROLLMENT',\n",
       " 'X15_EDUCATIONAL_ATTAINMENT',\n",
       " 'X16_LANGUAGE_SPOKEN_AT_HOME',\n",
       " 'X17_POVERTY',\n",
       " 'X19_INCOME',\n",
       " 'X20_EARNINGS',\n",
       " 'X21_VETERAN_STATUS',\n",
       " 'X22_FOOD_STAMPS',\n",
       " 'X23_EMPLOYMENT_STATUS',\n",
       " 'X24_INDUSTRY_OCCUPATION',\n",
       " 'X25_HOUSING_CHARACTERISTICS',\n",
       " 'X27_HEALTH_INSURANCE',\n",
       " 'X99_IMPUTATION',\n",
       " 'BG_METADATA_2016',\n",
       " 'ACS_2016_5YR_BG_06_CALIFORNIA']"
      ]
     },
     "execution_count": 105,
     "metadata": {},
     "output_type": "execute_result"
    }
   ],
   "source": [
    "import fiona\n",
    "fiona.listlayers('ACS_2016_5YR_BG_06_CALIFORNIA.gdb')"
   ]
  },
  {
   "cell_type": "code",
   "execution_count": 106,
   "metadata": {},
   "outputs": [],
   "source": [
    "layers = fiona.listlayers('ACS_2016_5YR_BG_06_CALIFORNIA.gdb')"
   ]
  },
  {
   "cell_type": "code",
   "execution_count": 116,
   "metadata": {},
   "outputs": [],
   "source": [
    "b = geopandas.read_file('tl_2016_06_bg')"
   ]
  },
  {
   "cell_type": "code",
   "execution_count": 117,
   "metadata": {},
   "outputs": [],
   "source": [
    "b.crs = {'init':'epsg:4269'}"
   ]
  },
  {
   "cell_type": "code",
   "execution_count": 118,
   "metadata": {},
   "outputs": [
    {
     "data": {
      "text/plain": [
       "{'init': 'epsg:4269'}"
      ]
     },
     "execution_count": 118,
     "metadata": {},
     "output_type": "execute_result"
    }
   ],
   "source": [
    "b.crs"
   ]
  },
  {
   "cell_type": "code",
   "execution_count": 119,
   "metadata": {},
   "outputs": [
    {
     "data": {
      "text/html": [
       "<div>\n",
       "<style scoped>\n",
       "    .dataframe tbody tr th:only-of-type {\n",
       "        vertical-align: middle;\n",
       "    }\n",
       "\n",
       "    .dataframe tbody tr th {\n",
       "        vertical-align: top;\n",
       "    }\n",
       "\n",
       "    .dataframe thead th {\n",
       "        text-align: right;\n",
       "    }\n",
       "</style>\n",
       "<table border=\"1\" class=\"dataframe\">\n",
       "  <thead>\n",
       "    <tr style=\"text-align: right;\">\n",
       "      <th></th>\n",
       "      <th>STATEFP</th>\n",
       "      <th>COUNTYFP</th>\n",
       "      <th>TRACTCE</th>\n",
       "      <th>BLKGRPCE</th>\n",
       "      <th>GEOID</th>\n",
       "      <th>NAMELSAD</th>\n",
       "      <th>MTFCC</th>\n",
       "      <th>FUNCSTAT</th>\n",
       "      <th>ALAND</th>\n",
       "      <th>AWATER</th>\n",
       "      <th>INTPTLAT</th>\n",
       "      <th>INTPTLON</th>\n",
       "      <th>geometry</th>\n",
       "    </tr>\n",
       "  </thead>\n",
       "  <tbody>\n",
       "    <tr>\n",
       "      <th>0</th>\n",
       "      <td>06</td>\n",
       "      <td>025</td>\n",
       "      <td>940000</td>\n",
       "      <td>3</td>\n",
       "      <td>060259400003</td>\n",
       "      <td>Block Group 3</td>\n",
       "      <td>G5030</td>\n",
       "      <td>S</td>\n",
       "      <td>12266417</td>\n",
       "      <td>680361</td>\n",
       "      <td>+32.7424027</td>\n",
       "      <td>-114.6675664</td>\n",
       "      <td>POLYGON ((-114.726531 32.718236, -114.726392 3...</td>\n",
       "    </tr>\n",
       "    <tr>\n",
       "      <th>1</th>\n",
       "      <td>06</td>\n",
       "      <td>025</td>\n",
       "      <td>010800</td>\n",
       "      <td>2</td>\n",
       "      <td>060250108002</td>\n",
       "      <td>Block Group 2</td>\n",
       "      <td>G5030</td>\n",
       "      <td>S</td>\n",
       "      <td>59331725</td>\n",
       "      <td>0</td>\n",
       "      <td>+32.7658550</td>\n",
       "      <td>-115.3923892</td>\n",
       "      <td>POLYGON ((-115.430817 32.730903, -115.430817 3...</td>\n",
       "    </tr>\n",
       "    <tr>\n",
       "      <th>2</th>\n",
       "      <td>06</td>\n",
       "      <td>025</td>\n",
       "      <td>010800</td>\n",
       "      <td>1</td>\n",
       "      <td>060250108001</td>\n",
       "      <td>Block Group 1</td>\n",
       "      <td>G5030</td>\n",
       "      <td>S</td>\n",
       "      <td>230656791</td>\n",
       "      <td>0</td>\n",
       "      <td>+32.8363463</td>\n",
       "      <td>-115.3514134</td>\n",
       "      <td>POLYGON ((-115.457835 32.908953, -115.457726 3...</td>\n",
       "    </tr>\n",
       "    <tr>\n",
       "      <th>3</th>\n",
       "      <td>06</td>\n",
       "      <td>025</td>\n",
       "      <td>011100</td>\n",
       "      <td>3</td>\n",
       "      <td>060250111003</td>\n",
       "      <td>Block Group 3</td>\n",
       "      <td>G5030</td>\n",
       "      <td>S</td>\n",
       "      <td>1209336</td>\n",
       "      <td>0</td>\n",
       "      <td>+32.7932442</td>\n",
       "      <td>-115.6903925</td>\n",
       "      <td>POLYGON ((-115.701342 32.790854, -115.70091 32...</td>\n",
       "    </tr>\n",
       "    <tr>\n",
       "      <th>4</th>\n",
       "      <td>06</td>\n",
       "      <td>073</td>\n",
       "      <td>010013</td>\n",
       "      <td>2</td>\n",
       "      <td>060730100132</td>\n",
       "      <td>Block Group 2</td>\n",
       "      <td>G5030</td>\n",
       "      <td>S</td>\n",
       "      <td>404606</td>\n",
       "      <td>0</td>\n",
       "      <td>+32.5564082</td>\n",
       "      <td>-117.0507980</td>\n",
       "      <td>POLYGON ((-117.054301 32.555424, -117.054296 3...</td>\n",
       "    </tr>\n",
       "  </tbody>\n",
       "</table>\n",
       "</div>"
      ],
      "text/plain": [
       "  STATEFP COUNTYFP TRACTCE BLKGRPCE         GEOID       NAMELSAD  MTFCC  \\\n",
       "0      06      025  940000        3  060259400003  Block Group 3  G5030   \n",
       "1      06      025  010800        2  060250108002  Block Group 2  G5030   \n",
       "2      06      025  010800        1  060250108001  Block Group 1  G5030   \n",
       "3      06      025  011100        3  060250111003  Block Group 3  G5030   \n",
       "4      06      073  010013        2  060730100132  Block Group 2  G5030   \n",
       "\n",
       "  FUNCSTAT      ALAND  AWATER     INTPTLAT      INTPTLON  \\\n",
       "0        S   12266417  680361  +32.7424027  -114.6675664   \n",
       "1        S   59331725       0  +32.7658550  -115.3923892   \n",
       "2        S  230656791       0  +32.8363463  -115.3514134   \n",
       "3        S    1209336       0  +32.7932442  -115.6903925   \n",
       "4        S     404606       0  +32.5564082  -117.0507980   \n",
       "\n",
       "                                            geometry  \n",
       "0  POLYGON ((-114.726531 32.718236, -114.726392 3...  \n",
       "1  POLYGON ((-115.430817 32.730903, -115.430817 3...  \n",
       "2  POLYGON ((-115.457835 32.908953, -115.457726 3...  \n",
       "3  POLYGON ((-115.701342 32.790854, -115.70091 32...  \n",
       "4  POLYGON ((-117.054301 32.555424, -117.054296 3...  "
      ]
     },
     "execution_count": 119,
     "metadata": {},
     "output_type": "execute_result"
    }
   ],
   "source": [
    "b.head()"
   ]
  },
  {
   "cell_type": "code",
   "execution_count": 120,
   "metadata": {},
   "outputs": [],
   "source": [
    "blockgroupdf = geopandas.read_file('ACS_2016_5YR_BG_06_CALIFORNIA.gdb', driver='FileGDB', layer='ACS_2016_5YR_BG_06_CALIFORNIA')"
   ]
  },
  {
   "cell_type": "code",
   "execution_count": 112,
   "metadata": {},
   "outputs": [
    {
     "name": "stdout",
     "output_type": "stream",
     "text": [
      "X00_COUNTS\n",
      "Index(['GEOID', 'B00001e1', 'B00001m1', 'B00002e1', 'B00002m1', 'geometry'], dtype='object')\n",
      "X01_AGE_AND_SEX\n",
      "Index(['GEOID', 'B01001e1', 'B01001m1', 'B01001e2', 'B01001m2', 'B01001e3',\n",
      "       'B01001m3', 'B01001e4', 'B01001m4', 'B01001e5',\n",
      "       ...\n",
      "       'B01002Hm3', 'B01002Ie1', 'B01002Im1', 'B01002Ie2', 'B01002Im2',\n",
      "       'B01002Ie3', 'B01002Im3', 'B01003e1', 'B01003m1', 'geometry'],\n",
      "      dtype='object', length=162)\n",
      "X02_RACE\n",
      "Index(['GEOID', 'B02001e1', 'B02001m1', 'B02001e2', 'B02001m2', 'B02001e3',\n",
      "       'B02001m3', 'B02001e4', 'B02001m4', 'B02001e5', 'B02001m5', 'B02001e6',\n",
      "       'B02001m6', 'B02001e7', 'B02001m7', 'B02001e8', 'B02001m8', 'B02001e9',\n",
      "       'B02001m9', 'B02001e10', 'B02001m10', 'B02008e1', 'B02008m1',\n",
      "       'B02009e1', 'B02009m1', 'B02010e1', 'B02010m1', 'B02011e1', 'B02011m1',\n",
      "       'B02012e1', 'B02012m1', 'B02013e1', 'B02013m1', 'C02003e1', 'C02003m1',\n",
      "       'C02003e2', 'C02003m2', 'C02003e3', 'C02003m3', 'C02003e4', 'C02003m4',\n",
      "       'C02003e5', 'C02003m5', 'C02003e6', 'C02003m6', 'C02003e7', 'C02003m7',\n",
      "       'C02003e8', 'C02003m8', 'C02003e9', 'C02003m9', 'C02003e10',\n",
      "       'C02003m10', 'C02003e11', 'C02003m11', 'C02003e12', 'C02003m12',\n",
      "       'C02003e13', 'C02003m13', 'C02003e14', 'C02003m14', 'C02003e15',\n",
      "       'C02003m15', 'C02003e16', 'C02003m16', 'C02003e17', 'C02003m17',\n",
      "       'C02003e18', 'C02003m18', 'C02003e19', 'C02003m19', 'geometry'],\n",
      "      dtype='object')\n",
      "X03_HISPANIC_OR_LATINO_ORIGIN\n",
      "Index(['GEOID', 'B03002e1', 'B03002m1', 'B03002e2', 'B03002m2', 'B03002e3',\n",
      "       'B03002m3', 'B03002e4', 'B03002m4', 'B03002e5', 'B03002m5', 'B03002e6',\n",
      "       'B03002m6', 'B03002e7', 'B03002m7', 'B03002e8', 'B03002m8', 'B03002e9',\n",
      "       'B03002m9', 'B03002e10', 'B03002m10', 'B03002e11', 'B03002m11',\n",
      "       'B03002e12', 'B03002m12', 'B03002e13', 'B03002m13', 'B03002e14',\n",
      "       'B03002m14', 'B03002e15', 'B03002m15', 'B03002e16', 'B03002m16',\n",
      "       'B03002e17', 'B03002m17', 'B03002e18', 'B03002m18', 'B03002e19',\n",
      "       'B03002m19', 'B03002e20', 'B03002m20', 'B03002e21', 'B03002m21',\n",
      "       'B03003e1', 'B03003m1', 'B03003e2', 'B03003m2', 'B03003e3', 'B03003m3',\n",
      "       'geometry'],\n",
      "      dtype='object')\n",
      "X07_MIGRATION\n",
      "Index(['GEOID', 'B07201e1', 'B07201m1', 'B07201e2', 'B07201m2', 'B07201e3',\n",
      "       'B07201m3', 'B07201e4', 'B07201m4', 'B07201e5',\n",
      "       ...\n",
      "       'B07203PRm4', 'B07203PRe5', 'B07203PRm5', 'B07203PRe6', 'B07203PRm6',\n",
      "       'B07203PRe7', 'B07203PRm7', 'B07203PRe8', 'B07203PRm8', 'geometry'],\n",
      "      dtype='object', length=162)\n",
      "X08_COMMUTING\n",
      "Index(['GEOID', 'B08007e1', 'B08007m1', 'B08007e2', 'B08007m2', 'B08007e3',\n",
      "       'B08007m3', 'B08007e4', 'B08007m4', 'B08007e5',\n",
      "       ...\n",
      "       'B08303m9', 'B08303e10', 'B08303m10', 'B08303e11', 'B08303m11',\n",
      "       'B08303e12', 'B08303m12', 'B08303e13', 'B08303m13', 'geometry'],\n",
      "      dtype='object', length=582)\n",
      "X09_CHILDREN_HOUSEHOLD_RELATIONSHIP\n",
      "Index(['GEOID', 'B09002e1', 'B09002m1', 'B09002e2', 'B09002m2', 'B09002e3',\n",
      "       'B09002m3', 'B09002e4', 'B09002m4', 'B09002e5',\n",
      "       ...\n",
      "       'B09021m24', 'B09021e25', 'B09021m25', 'B09021e26', 'B09021m26',\n",
      "       'B09021e27', 'B09021m27', 'B09021e28', 'B09021m28', 'geometry'],\n",
      "      dtype='object', length=232)\n",
      "X11_HOUSEHOLD_FAMILY_SUBFAMILIES\n",
      "Index(['GEOID', 'B11001e1', 'B11001m1', 'B11001e2', 'B11001m2', 'B11001e3',\n",
      "       'B11001m3', 'B11001e4', 'B11001m4', 'B11001e5',\n",
      "       ...\n",
      "       'B11016m12', 'B11016e13', 'B11016m13', 'B11016e14', 'B11016m14',\n",
      "       'B11016e15', 'B11016m15', 'B11016e16', 'B11016m16', 'geometry'],\n",
      "      dtype='object', length=630)\n",
      "X12_MARITAL_STATUS_AND_HISTORY\n",
      "Index(['GEOID', 'B12001e1', 'B12001m1', 'B12001e2', 'B12001m2', 'B12001e3',\n",
      "       'B12001m3', 'B12001e4', 'B12001m4', 'B12001e5', 'B12001m5', 'B12001e6',\n",
      "       'B12001m6', 'B12001e7', 'B12001m7', 'B12001e8', 'B12001m8', 'B12001e9',\n",
      "       'B12001m9', 'B12001e10', 'B12001m10', 'B12001e11', 'B12001m11',\n",
      "       'B12001e12', 'B12001m12', 'B12001e13', 'B12001m13', 'B12001e14',\n",
      "       'B12001m14', 'B12001e15', 'B12001m15', 'B12001e16', 'B12001m16',\n",
      "       'B12001e17', 'B12001m17', 'B12001e18', 'B12001m18', 'B12001e19',\n",
      "       'B12001m19', 'geometry'],\n",
      "      dtype='object')\n",
      "X14_SCHOOL_ENROLLMENT\n",
      "Index(['GEOID', 'B14002e1', 'B14002m1', 'B14002e2', 'B14002m2', 'B14002e3',\n",
      "       'B14002m3', 'B14002e4', 'B14002m4', 'B14002e5',\n",
      "       ...\n",
      "       'B14007Im15', 'B14007Ie16', 'B14007Im16', 'B14007Ie17', 'B14007Im17',\n",
      "       'B14007Ie18', 'B14007Im18', 'B14007Ie19', 'B14007Im19', 'geometry'],\n",
      "      dtype='object', length=538)\n"
     ]
    },
    {
     "ename": "KeyboardInterrupt",
     "evalue": "",
     "output_type": "error",
     "traceback": [
      "\u001b[0;31m---------------------------------------------------------------------------\u001b[0m",
      "\u001b[0;31mKeyboardInterrupt\u001b[0m                         Traceback (most recent call last)",
      "\u001b[0;32m<ipython-input-112-388818e8415b>\u001b[0m in \u001b[0;36m<module>\u001b[0;34m\u001b[0m\n\u001b[1;32m      1\u001b[0m \u001b[0;32mfor\u001b[0m \u001b[0ml\u001b[0m \u001b[0;32min\u001b[0m \u001b[0mlayers\u001b[0m\u001b[0;34m:\u001b[0m\u001b[0;34m\u001b[0m\u001b[0m\n\u001b[0;32m----> 2\u001b[0;31m     \u001b[0mblockgroupdf\u001b[0m \u001b[0;34m=\u001b[0m \u001b[0mgeopandas\u001b[0m\u001b[0;34m.\u001b[0m\u001b[0mread_file\u001b[0m\u001b[0;34m(\u001b[0m\u001b[0;34m'ACS_2016_5YR_BG_06_CALIFORNIA.gdb'\u001b[0m\u001b[0;34m,\u001b[0m \u001b[0mdriver\u001b[0m\u001b[0;34m=\u001b[0m\u001b[0;34m'FileGDB'\u001b[0m\u001b[0;34m,\u001b[0m \u001b[0mlayer\u001b[0m\u001b[0;34m=\u001b[0m\u001b[0ml\u001b[0m\u001b[0;34m)\u001b[0m\u001b[0;34m\u001b[0m\u001b[0m\n\u001b[0m\u001b[1;32m      3\u001b[0m     \u001b[0mprint\u001b[0m\u001b[0;34m(\u001b[0m\u001b[0ml\u001b[0m\u001b[0;34m)\u001b[0m\u001b[0;34m\u001b[0m\u001b[0m\n\u001b[1;32m      4\u001b[0m     \u001b[0mprint\u001b[0m \u001b[0;34m(\u001b[0m\u001b[0mblockgroupdf\u001b[0m\u001b[0;34m.\u001b[0m\u001b[0mcolumns\u001b[0m\u001b[0;34m)\u001b[0m\u001b[0;34m\u001b[0m\u001b[0m\n",
      "\u001b[0;32m/anaconda3/lib/python3.6/site-packages/geopandas/io/file.py\u001b[0m in \u001b[0;36mread_file\u001b[0;34m(filename, bbox, **kwargs)\u001b[0m\n\u001b[1;32m     74\u001b[0m \u001b[0;34m\u001b[0m\u001b[0m\n\u001b[1;32m     75\u001b[0m         \u001b[0mcolumns\u001b[0m \u001b[0;34m=\u001b[0m \u001b[0mlist\u001b[0m\u001b[0;34m(\u001b[0m\u001b[0mfeatures\u001b[0m\u001b[0;34m.\u001b[0m\u001b[0mmeta\u001b[0m\u001b[0;34m[\u001b[0m\u001b[0;34m\"schema\"\u001b[0m\u001b[0;34m]\u001b[0m\u001b[0;34m[\u001b[0m\u001b[0;34m\"properties\"\u001b[0m\u001b[0;34m]\u001b[0m\u001b[0;34m)\u001b[0m \u001b[0;34m+\u001b[0m \u001b[0;34m[\u001b[0m\u001b[0;34m\"geometry\"\u001b[0m\u001b[0;34m]\u001b[0m\u001b[0;34m\u001b[0m\u001b[0m\n\u001b[0;32m---> 76\u001b[0;31m         \u001b[0mgdf\u001b[0m \u001b[0;34m=\u001b[0m \u001b[0mGeoDataFrame\u001b[0m\u001b[0;34m.\u001b[0m\u001b[0mfrom_features\u001b[0m\u001b[0;34m(\u001b[0m\u001b[0mf_filt\u001b[0m\u001b[0;34m,\u001b[0m \u001b[0mcrs\u001b[0m\u001b[0;34m=\u001b[0m\u001b[0mcrs\u001b[0m\u001b[0;34m,\u001b[0m \u001b[0mcolumns\u001b[0m\u001b[0;34m=\u001b[0m\u001b[0mcolumns\u001b[0m\u001b[0;34m)\u001b[0m\u001b[0;34m\u001b[0m\u001b[0m\n\u001b[0m\u001b[1;32m     77\u001b[0m \u001b[0;34m\u001b[0m\u001b[0m\n\u001b[1;32m     78\u001b[0m     \u001b[0;32mreturn\u001b[0m \u001b[0mgdf\u001b[0m\u001b[0;34m\u001b[0m\u001b[0m\n",
      "\u001b[0;32m/anaconda3/lib/python3.6/site-packages/geopandas/geodataframe.py\u001b[0m in \u001b[0;36mfrom_features\u001b[0;34m(cls, features, crs, columns)\u001b[0m\n\u001b[1;32m    225\u001b[0m \u001b[0;34m\u001b[0m\u001b[0m\n\u001b[1;32m    226\u001b[0m         \u001b[0mrows\u001b[0m \u001b[0;34m=\u001b[0m \u001b[0;34m[\u001b[0m\u001b[0;34m]\u001b[0m\u001b[0;34m\u001b[0m\u001b[0m\n\u001b[0;32m--> 227\u001b[0;31m         \u001b[0;32mfor\u001b[0m \u001b[0mf\u001b[0m \u001b[0;32min\u001b[0m \u001b[0mfeatures_lst\u001b[0m\u001b[0;34m:\u001b[0m\u001b[0;34m\u001b[0m\u001b[0m\n\u001b[0m\u001b[1;32m    228\u001b[0m             \u001b[0;32mif\u001b[0m \u001b[0mhasattr\u001b[0m\u001b[0;34m(\u001b[0m\u001b[0mf\u001b[0m\u001b[0;34m,\u001b[0m \u001b[0;34m\"__geo_interface__\"\u001b[0m\u001b[0;34m)\u001b[0m\u001b[0;34m:\u001b[0m\u001b[0;34m\u001b[0m\u001b[0m\n\u001b[1;32m    229\u001b[0m                 \u001b[0mf\u001b[0m \u001b[0;34m=\u001b[0m \u001b[0mf\u001b[0m\u001b[0;34m.\u001b[0m\u001b[0m__geo_interface__\u001b[0m\u001b[0;34m\u001b[0m\u001b[0m\n",
      "\u001b[0;31mKeyboardInterrupt\u001b[0m: "
     ]
    }
   ],
   "source": [
    "# for l in layers:\n",
    "#     blockgroupdf = geopandas.read_file('ACS_2016_5YR_BG_06_CALIFORNIA.gdb', driver='FileGDB', layer=l)\n",
    "#     print(l)\n",
    "#     print (blockgroupdf.columns)"
   ]
  },
  {
   "cell_type": "code",
   "execution_count": 121,
   "metadata": {},
   "outputs": [],
   "source": [
    "blockgroup_pop = geopandas.read_file('ACS_2016_5YR_BG_06_CALIFORNIA.gdb', driver='FileGDB', layer='X00_COUNTS')"
   ]
  },
  {
   "cell_type": "code",
   "execution_count": 140,
   "metadata": {},
   "outputs": [
    {
     "data": {
      "text/plain": [
       "23212"
      ]
     },
     "execution_count": 140,
     "metadata": {},
     "output_type": "execute_result"
    }
   ],
   "source": [
    "len(blockgroupdf.GEOID_Data.unique())"
   ]
  },
  {
   "cell_type": "code",
   "execution_count": 123,
   "metadata": {},
   "outputs": [],
   "source": [
    "blockgroup_pop.rename({'GEOID':'GEOID_Data'}, axis=1, inplace=True)"
   ]
  },
  {
   "cell_type": "code",
   "execution_count": 124,
   "metadata": {},
   "outputs": [
    {
     "data": {
      "text/html": [
       "<div>\n",
       "<style scoped>\n",
       "    .dataframe tbody tr th:only-of-type {\n",
       "        vertical-align: middle;\n",
       "    }\n",
       "\n",
       "    .dataframe tbody tr th {\n",
       "        vertical-align: top;\n",
       "    }\n",
       "\n",
       "    .dataframe thead th {\n",
       "        text-align: right;\n",
       "    }\n",
       "</style>\n",
       "<table border=\"1\" class=\"dataframe\">\n",
       "  <thead>\n",
       "    <tr style=\"text-align: right;\">\n",
       "      <th></th>\n",
       "      <th>GEOID_Data</th>\n",
       "      <th>B00001e1</th>\n",
       "      <th>B00001m1</th>\n",
       "      <th>B00002e1</th>\n",
       "      <th>B00002m1</th>\n",
       "      <th>geometry</th>\n",
       "    </tr>\n",
       "  </thead>\n",
       "  <tbody>\n",
       "    <tr>\n",
       "      <th>0</th>\n",
       "      <td>15000US060014001001</td>\n",
       "      <td>324.0</td>\n",
       "      <td>-1.0</td>\n",
       "      <td>144.0</td>\n",
       "      <td>-1.0</td>\n",
       "      <td>None</td>\n",
       "    </tr>\n",
       "    <tr>\n",
       "      <th>1</th>\n",
       "      <td>15000US060014002001</td>\n",
       "      <td>184.0</td>\n",
       "      <td>-1.0</td>\n",
       "      <td>78.0</td>\n",
       "      <td>-1.0</td>\n",
       "      <td>None</td>\n",
       "    </tr>\n",
       "    <tr>\n",
       "      <th>2</th>\n",
       "      <td>15000US060014002002</td>\n",
       "      <td>138.0</td>\n",
       "      <td>-1.0</td>\n",
       "      <td>66.0</td>\n",
       "      <td>-1.0</td>\n",
       "      <td>None</td>\n",
       "    </tr>\n",
       "    <tr>\n",
       "      <th>3</th>\n",
       "      <td>15000US060014003001</td>\n",
       "      <td>69.0</td>\n",
       "      <td>-1.0</td>\n",
       "      <td>29.0</td>\n",
       "      <td>-1.0</td>\n",
       "      <td>None</td>\n",
       "    </tr>\n",
       "    <tr>\n",
       "      <th>4</th>\n",
       "      <td>15000US060014003002</td>\n",
       "      <td>89.0</td>\n",
       "      <td>-1.0</td>\n",
       "      <td>42.0</td>\n",
       "      <td>-1.0</td>\n",
       "      <td>None</td>\n",
       "    </tr>\n",
       "  </tbody>\n",
       "</table>\n",
       "</div>"
      ],
      "text/plain": [
       "            GEOID_Data  B00001e1  B00001m1  B00002e1  B00002m1 geometry\n",
       "0  15000US060014001001     324.0      -1.0     144.0      -1.0     None\n",
       "1  15000US060014002001     184.0      -1.0      78.0      -1.0     None\n",
       "2  15000US060014002002     138.0      -1.0      66.0      -1.0     None\n",
       "3  15000US060014003001      69.0      -1.0      29.0      -1.0     None\n",
       "4  15000US060014003002      89.0      -1.0      42.0      -1.0     None"
      ]
     },
     "execution_count": 124,
     "metadata": {},
     "output_type": "execute_result"
    }
   ],
   "source": [
    "blockgroup_pop.head()"
   ]
  },
  {
   "cell_type": "code",
   "execution_count": 125,
   "metadata": {},
   "outputs": [],
   "source": [
    "b2 = b.merge(blockgroupdf[['GEOID', 'Shape_Area', 'GEOID_Data']], on=\"GEOID\")"
   ]
  },
  {
   "cell_type": "code",
   "execution_count": 126,
   "metadata": {},
   "outputs": [],
   "source": [
    "blockgroupdf = b2.merge(blockgroup_pop, on='GEOID_Data')"
   ]
  },
  {
   "cell_type": "code",
   "execution_count": 127,
   "metadata": {},
   "outputs": [],
   "source": [
    "#blockgroupdf.drop(['B00001m1', 'B00002m1', 'geometry_y'], axis = 1, inplace=True)"
   ]
  },
  {
   "cell_type": "code",
   "execution_count": 128,
   "metadata": {},
   "outputs": [],
   "source": [
    "blockgroupdf['pop_density'] = blockgroupdf['B00001e1']/blockgroupdf['Shape_Area']"
   ]
  },
  {
   "cell_type": "code",
   "execution_count": 129,
   "metadata": {},
   "outputs": [],
   "source": [
    "blockgroupdf['people_per_house'] = blockgroupdf['B00001e1']/blockgroupdf['B00002e1']"
   ]
  },
  {
   "cell_type": "code",
   "execution_count": 130,
   "metadata": {},
   "outputs": [
    {
     "data": {
      "text/plain": [
       "{'init': 'epsg:4269'}"
      ]
     },
     "execution_count": 130,
     "metadata": {},
     "output_type": "execute_result"
    }
   ],
   "source": [
    "blockgroupdf.crs"
   ]
  },
  {
   "cell_type": "code",
   "execution_count": 131,
   "metadata": {},
   "outputs": [],
   "source": [
    "blockgroupdf_features = blockgroupdf[['GEOID_Data', 'geometry_x', 'pop_density', 'people_per_house']]"
   ]
  },
  {
   "cell_type": "code",
   "execution_count": 132,
   "metadata": {},
   "outputs": [],
   "source": [
    "blockgroupdf_features = geopandas.GeoDataFrame(blockgroupdf_features, geometry = 'geometry_x', crs={'init': 'epsg:4269'})"
   ]
  },
  {
   "cell_type": "code",
   "execution_count": 133,
   "metadata": {},
   "outputs": [
    {
     "data": {
      "text/plain": [
       "{'init': 'epsg:4269'}"
      ]
     },
     "execution_count": 133,
     "metadata": {},
     "output_type": "execute_result"
    }
   ],
   "source": [
    "blockgroupdf_features.crs"
   ]
  },
  {
   "cell_type": "code",
   "execution_count": 134,
   "metadata": {},
   "outputs": [],
   "source": [
    "blockgroupdf_features = blockgroupdf_features.to_crs(epsg='4326')"
   ]
  },
  {
   "cell_type": "code",
   "execution_count": 135,
   "metadata": {},
   "outputs": [
    {
     "data": {
      "text/plain": [
       "{'init': 'epsg:4326', 'no_defs': True}"
      ]
     },
     "execution_count": 135,
     "metadata": {},
     "output_type": "execute_result"
    }
   ],
   "source": [
    "geodf.crs"
   ]
  },
  {
   "cell_type": "code",
   "execution_count": 136,
   "metadata": {},
   "outputs": [],
   "source": [
    "geodf = geopandas.sjoin(geodf, blockgroupdf_features, how=\"left\")"
   ]
  },
  {
   "cell_type": "code",
   "execution_count": 144,
   "metadata": {},
   "outputs": [
    {
     "data": {
      "text/html": [
       "<div>\n",
       "<style scoped>\n",
       "    .dataframe tbody tr th:only-of-type {\n",
       "        vertical-align: middle;\n",
       "    }\n",
       "\n",
       "    .dataframe tbody tr th {\n",
       "        vertical-align: top;\n",
       "    }\n",
       "\n",
       "    .dataframe thead th {\n",
       "        text-align: right;\n",
       "    }\n",
       "</style>\n",
       "<table border=\"1\" class=\"dataframe\">\n",
       "  <thead>\n",
       "    <tr style=\"text-align: right;\">\n",
       "      <th></th>\n",
       "      <th>bike_id</th>\n",
       "      <th>lat</th>\n",
       "      <th>lon</th>\n",
       "      <th>idle_time</th>\n",
       "      <th>batt_start</th>\n",
       "      <th>batt_end</th>\n",
       "      <th>utc_time_start</th>\n",
       "      <th>utc_time_end</th>\n",
       "      <th>local_time_start</th>\n",
       "      <th>day_of_week</th>\n",
       "      <th>...</th>\n",
       "      <th>gets_pickedup_not_charged</th>\n",
       "      <th>in_charger</th>\n",
       "      <th>next_action</th>\n",
       "      <th>geolocation</th>\n",
       "      <th>ZONING</th>\n",
       "      <th>index_right</th>\n",
       "      <th>GEOID_Data</th>\n",
       "      <th>pop_density</th>\n",
       "      <th>people_per_house</th>\n",
       "      <th>time_of_day</th>\n",
       "    </tr>\n",
       "  </thead>\n",
       "  <tbody>\n",
       "    <tr>\n",
       "      <th>58</th>\n",
       "      <td>bike_20631</td>\n",
       "      <td>36.98725</td>\n",
       "      <td>-122.03416</td>\n",
       "      <td>00:47:18</td>\n",
       "      <td>94</td>\n",
       "      <td>94</td>\n",
       "      <td>2018-10-23 19:26:39+00:00</td>\n",
       "      <td>2018-10-23 20:13:57+00:00</td>\n",
       "      <td>2018-10-23 12:26:39-07:00</td>\n",
       "      <td>1</td>\n",
       "      <td>...</td>\n",
       "      <td>False</td>\n",
       "      <td>False</td>\n",
       "      <td>rented</td>\n",
       "      <td>POINT (-122.03416 36.98725)</td>\n",
       "      <td>IG</td>\n",
       "      <td>22602</td>\n",
       "      <td>15000US060871003001</td>\n",
       "      <td>3.369729e+05</td>\n",
       "      <td>3.000000</td>\n",
       "      <td>12</td>\n",
       "    </tr>\n",
       "    <tr>\n",
       "      <th>59</th>\n",
       "      <td>bike_20631</td>\n",
       "      <td>36.98733</td>\n",
       "      <td>-122.03417</td>\n",
       "      <td>00:51:33</td>\n",
       "      <td>96</td>\n",
       "      <td>96</td>\n",
       "      <td>2018-10-23 20:28:01+00:00</td>\n",
       "      <td>2018-10-23 21:19:34+00:00</td>\n",
       "      <td>2018-10-23 13:28:01-07:00</td>\n",
       "      <td>1</td>\n",
       "      <td>...</td>\n",
       "      <td>False</td>\n",
       "      <td>False</td>\n",
       "      <td>rented</td>\n",
       "      <td>POINT (-122.03417 36.98733)</td>\n",
       "      <td>IG</td>\n",
       "      <td>22602</td>\n",
       "      <td>15000US060871003001</td>\n",
       "      <td>3.369729e+05</td>\n",
       "      <td>3.000000</td>\n",
       "      <td>13</td>\n",
       "    </tr>\n",
       "    <tr>\n",
       "      <th>39</th>\n",
       "      <td>bike_20631</td>\n",
       "      <td>36.97425</td>\n",
       "      <td>-122.02437</td>\n",
       "      <td>00:05:13</td>\n",
       "      <td>93</td>\n",
       "      <td>93</td>\n",
       "      <td>2018-10-23 21:37:55+00:00</td>\n",
       "      <td>2018-10-23 21:43:08+00:00</td>\n",
       "      <td>2018-10-23 14:37:55-07:00</td>\n",
       "      <td>1</td>\n",
       "      <td>...</td>\n",
       "      <td>False</td>\n",
       "      <td>False</td>\n",
       "      <td>rented</td>\n",
       "      <td>POINT (-122.02437 36.97425)</td>\n",
       "      <td>CBD</td>\n",
       "      <td>11798</td>\n",
       "      <td>15000US060871007002</td>\n",
       "      <td>1.557911e+06</td>\n",
       "      <td>1.520000</td>\n",
       "      <td>14</td>\n",
       "    </tr>\n",
       "    <tr>\n",
       "      <th>14</th>\n",
       "      <td>bike_20631</td>\n",
       "      <td>36.96690</td>\n",
       "      <td>-122.04056</td>\n",
       "      <td>02:13:47</td>\n",
       "      <td>49</td>\n",
       "      <td>49</td>\n",
       "      <td>2018-10-25 01:11:07+00:00</td>\n",
       "      <td>2018-10-25 03:24:54+00:00</td>\n",
       "      <td>2018-10-24 18:11:07-07:00</td>\n",
       "      <td>2</td>\n",
       "      <td>...</td>\n",
       "      <td>False</td>\n",
       "      <td>False</td>\n",
       "      <td>rented</td>\n",
       "      <td>POINT (-122.04056 36.9669)</td>\n",
       "      <td>CC</td>\n",
       "      <td>11788</td>\n",
       "      <td>15000US060871006001</td>\n",
       "      <td>2.925184e+06</td>\n",
       "      <td>2.518519</td>\n",
       "      <td>18</td>\n",
       "    </tr>\n",
       "    <tr>\n",
       "      <th>43</th>\n",
       "      <td>bike_20631</td>\n",
       "      <td>36.97576</td>\n",
       "      <td>-122.02842</td>\n",
       "      <td>00:15:05</td>\n",
       "      <td>42</td>\n",
       "      <td>42</td>\n",
       "      <td>2018-10-25 03:44:59+00:00</td>\n",
       "      <td>2018-10-25 04:00:04+00:00</td>\n",
       "      <td>2018-10-24 20:44:59-07:00</td>\n",
       "      <td>2</td>\n",
       "      <td>...</td>\n",
       "      <td>False</td>\n",
       "      <td>False</td>\n",
       "      <td>rented</td>\n",
       "      <td>POINT (-122.02842 36.97576)</td>\n",
       "      <td>CBD</td>\n",
       "      <td>11798</td>\n",
       "      <td>15000US060871007002</td>\n",
       "      <td>1.557911e+06</td>\n",
       "      <td>1.520000</td>\n",
       "      <td>20</td>\n",
       "    </tr>\n",
       "  </tbody>\n",
       "</table>\n",
       "<p>5 rows × 21 columns</p>\n",
       "</div>"
      ],
      "text/plain": [
       "       bike_id       lat        lon idle_time  batt_start  batt_end  \\\n",
       "58  bike_20631  36.98725 -122.03416  00:47:18          94        94   \n",
       "59  bike_20631  36.98733 -122.03417  00:51:33          96        96   \n",
       "39  bike_20631  36.97425 -122.02437  00:05:13          93        93   \n",
       "14  bike_20631  36.96690 -122.04056  02:13:47          49        49   \n",
       "43  bike_20631  36.97576 -122.02842  00:15:05          42        42   \n",
       "\n",
       "              utc_time_start              utc_time_end  \\\n",
       "58 2018-10-23 19:26:39+00:00 2018-10-23 20:13:57+00:00   \n",
       "59 2018-10-23 20:28:01+00:00 2018-10-23 21:19:34+00:00   \n",
       "39 2018-10-23 21:37:55+00:00 2018-10-23 21:43:08+00:00   \n",
       "14 2018-10-25 01:11:07+00:00 2018-10-25 03:24:54+00:00   \n",
       "43 2018-10-25 03:44:59+00:00 2018-10-25 04:00:04+00:00   \n",
       "\n",
       "            local_time_start  day_of_week     ...       \\\n",
       "58 2018-10-23 12:26:39-07:00            1     ...        \n",
       "59 2018-10-23 13:28:01-07:00            1     ...        \n",
       "39 2018-10-23 14:37:55-07:00            1     ...        \n",
       "14 2018-10-24 18:11:07-07:00            2     ...        \n",
       "43 2018-10-24 20:44:59-07:00            2     ...        \n",
       "\n",
       "    gets_pickedup_not_charged  in_charger  next_action  \\\n",
       "58                      False       False       rented   \n",
       "59                      False       False       rented   \n",
       "39                      False       False       rented   \n",
       "14                      False       False       rented   \n",
       "43                      False       False       rented   \n",
       "\n",
       "                    geolocation ZONING index_right           GEOID_Data  \\\n",
       "58  POINT (-122.03416 36.98725)     IG       22602  15000US060871003001   \n",
       "59  POINT (-122.03417 36.98733)     IG       22602  15000US060871003001   \n",
       "39  POINT (-122.02437 36.97425)    CBD       11798  15000US060871007002   \n",
       "14   POINT (-122.04056 36.9669)     CC       11788  15000US060871006001   \n",
       "43  POINT (-122.02842 36.97576)    CBD       11798  15000US060871007002   \n",
       "\n",
       "     pop_density  people_per_house  time_of_day  \n",
       "58  3.369729e+05          3.000000           12  \n",
       "59  3.369729e+05          3.000000           13  \n",
       "39  1.557911e+06          1.520000           14  \n",
       "14  2.925184e+06          2.518519           18  \n",
       "43  1.557911e+06          1.520000           20  \n",
       "\n",
       "[5 rows x 21 columns]"
      ]
     },
     "execution_count": 144,
     "metadata": {},
     "output_type": "execute_result"
    }
   ],
   "source": [
    "geodf.head()"
   ]
  },
  {
   "cell_type": "code",
   "execution_count": 143,
   "metadata": {},
   "outputs": [],
   "source": [
    "geodf['time_of_day'] = geodf['local_time_start'].dt.hour"
   ]
  },
  {
   "cell_type": "code",
   "execution_count": null,
   "metadata": {},
   "outputs": [],
   "source": []
  },
  {
   "cell_type": "code",
   "execution_count": null,
   "metadata": {},
   "outputs": [],
   "source": []
  },
  {
   "cell_type": "code",
   "execution_count": null,
   "metadata": {},
   "outputs": [],
   "source": []
  },
  {
   "cell_type": "code",
   "execution_count": 168,
   "metadata": {},
   "outputs": [],
   "source": [
    "from sklearn.ensemble import GradientBoostingClassifier\n",
    "from sklearn.linear_model import LinearRegression\n",
    "from sklearn.ensemble import RandomForestClassifier\n",
    "from sklearn.model_selection import train_test_split"
   ]
  },
  {
   "cell_type": "code",
   "execution_count": 160,
   "metadata": {},
   "outputs": [],
   "source": [
    "geodf = geodf.dropna()"
   ]
  },
  {
   "cell_type": "code",
   "execution_count": 171,
   "metadata": {},
   "outputs": [],
   "source": [
    "X = geodf[['batt_start', 'day_of_week', 'time_of_day', 'ZONING']]  #, 'pop_density', 'people_per_house']]"
   ]
  },
  {
   "cell_type": "code",
   "execution_count": 172,
   "metadata": {},
   "outputs": [],
   "source": [
    "X = pd.get_dummies(X, columns=['ZONING'], prefix='zone')"
   ]
  },
  {
   "cell_type": "code",
   "execution_count": 173,
   "metadata": {},
   "outputs": [
    {
     "name": "stdout",
     "output_type": "stream",
     "text": [
      "<class 'pandas.core.frame.DataFrame'>\n",
      "Int64Index: 10480 entries, 58 to 11380\n",
      "Data columns (total 35 columns):\n",
      "batt_start      10480 non-null int64\n",
      "day_of_week     10480 non-null int64\n",
      "time_of_day     10480 non-null int64\n",
      "zone_CB         10480 non-null uint8\n",
      "zone_CBD        10480 non-null uint8\n",
      "zone_CBD-E      10480 non-null uint8\n",
      "zone_CC         10480 non-null uint8\n",
      "zone_CD/R       10480 non-null uint8\n",
      "zone_CN         10480 non-null uint8\n",
      "zone_CT         10480 non-null uint8\n",
      "zone_EA-20      10480 non-null uint8\n",
      "zone_FP         10480 non-null uint8\n",
      "zone_IG         10480 non-null uint8\n",
      "zone_IG/PER     10480 non-null uint8\n",
      "zone_IG/PER2    10480 non-null uint8\n",
      "zone_OFR        10480 non-null uint8\n",
      "zone_PA         10480 non-null uint8\n",
      "zone_PF         10480 non-null uint8\n",
      "zone_PF/PK      10480 non-null uint8\n",
      "zone_PK         10480 non-null uint8\n",
      "zone_PK/PF      10480 non-null uint8\n",
      "zone_R-1-10     10480 non-null uint8\n",
      "zone_R-1-5      10480 non-null uint8\n",
      "zone_R-1-7      10480 non-null uint8\n",
      "zone_RH         10480 non-null uint8\n",
      "zone_RL         10480 non-null uint8\n",
      "zone_RM         10480 non-null uint8\n",
      "zone_RS-1A      10480 non-null uint8\n",
      "zone_RS-2A      10480 non-null uint8\n",
      "zone_RTA        10480 non-null uint8\n",
      "zone_RTB        10480 non-null uint8\n",
      "zone_RTC        10480 non-null uint8\n",
      "zone_RTD        10480 non-null uint8\n",
      "zone_RTE        10480 non-null uint8\n",
      "zone_out        10480 non-null uint8\n",
      "dtypes: int64(3), uint8(32)\n",
      "memory usage: 655.0 KB\n"
     ]
    }
   ],
   "source": [
    "X.info()"
   ]
  },
  {
   "cell_type": "code",
   "execution_count": 181,
   "metadata": {},
   "outputs": [],
   "source": [
    "y = geodf['idle_time'].dt.seconds"
   ]
  },
  {
   "cell_type": "code",
   "execution_count": 182,
   "metadata": {},
   "outputs": [],
   "source": [
    "X_train, X_test, y_train, y_test = train_test_split(X, y, test_size=0.2)"
   ]
  },
  {
   "cell_type": "code",
   "execution_count": 183,
   "metadata": {},
   "outputs": [],
   "source": [
    "lrmodel = LinearRegression()"
   ]
  },
  {
   "cell_type": "code",
   "execution_count": 184,
   "metadata": {},
   "outputs": [
    {
     "data": {
      "text/plain": [
       "LinearRegression(copy_X=True, fit_intercept=True, n_jobs=None,\n",
       "         normalize=False)"
      ]
     },
     "execution_count": 184,
     "metadata": {},
     "output_type": "execute_result"
    }
   ],
   "source": [
    "lrmodel.fit(X_train, y_train)"
   ]
  },
  {
   "cell_type": "code",
   "execution_count": 185,
   "metadata": {},
   "outputs": [
    {
     "data": {
      "text/plain": [
       "0.06039331840904627"
      ]
     },
     "execution_count": 185,
     "metadata": {},
     "output_type": "execute_result"
    }
   ],
   "source": [
    "lrmodel.score(X_train, y_train)"
   ]
  },
  {
   "cell_type": "code",
   "execution_count": null,
   "metadata": {},
   "outputs": [],
   "source": []
  },
  {
   "cell_type": "code",
   "execution_count": 188,
   "metadata": {},
   "outputs": [],
   "source": [
    "gbmodel = GradientBoostingClassifier(min_samples_split=10)"
   ]
  },
  {
   "cell_type": "code",
   "execution_count": null,
   "metadata": {},
   "outputs": [],
   "source": [
    "gbmodel.fit(X_train, y_train)"
   ]
  },
  {
   "cell_type": "markdown",
   "metadata": {},
   "source": [
    "gbmodel.score(X_train, y_train)"
   ]
  },
  {
   "cell_type": "code",
   "execution_count": null,
   "metadata": {},
   "outputs": [],
   "source": []
  },
  {
   "cell_type": "code",
   "execution_count": null,
   "metadata": {},
   "outputs": [],
   "source": []
  },
  {
   "cell_type": "code",
   "execution_count": null,
   "metadata": {},
   "outputs": [],
   "source": []
  }
 ],
 "metadata": {
  "kernelspec": {
   "display_name": "Python 3",
   "language": "python",
   "name": "python3"
  },
  "language_info": {
   "codemirror_mode": {
    "name": "ipython",
    "version": 3
   },
   "file_extension": ".py",
   "mimetype": "text/x-python",
   "name": "python",
   "nbconvert_exporter": "python",
   "pygments_lexer": "ipython3",
   "version": "3.6.6"
  }
 },
 "nbformat": 4,
 "nbformat_minor": 2
}
