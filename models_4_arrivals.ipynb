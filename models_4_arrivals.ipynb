{
 "cells": [
  {
   "cell_type": "code",
   "execution_count": 254,
   "metadata": {},
   "outputs": [],
   "source": [
    "import featurization\n",
    "import helpers\n",
    "import model_bayesian\n",
    "import model_neighbors\n",
    "\n",
    "import pandas as pd\n",
    "import geopandas\n",
    "import matplotlib.pyplot as plt\n",
    "import numpy as np\n",
    "import scipy.stats as scs\n",
    "\n",
    "%reload_ext autoreload\n",
    "%autoreload 2"
   ]
  },
  {
   "cell_type": "code",
   "execution_count": 169,
   "metadata": {},
   "outputs": [],
   "source": [
    "from sklearn.model_selection import TimeSeriesSplit, GridSearchCV\n",
    "from sklearn.neighbors import KNeighborsRegressor\n",
    "from sklearn.preprocessing import StandardScaler\n",
    "import datetime"
   ]
  },
  {
   "cell_type": "code",
   "execution_count": 5,
   "metadata": {},
   "outputs": [
    {
     "name": "stdout",
     "output_type": "stream",
     "text": [
      "Dropping 1 entries where end time was before start time\n"
     ]
    }
   ],
   "source": [
    "geodf = featurization.all_featurization_keep_recharges(\"all-sc-bike-data-1101.csv\")"
   ]
  },
  {
   "cell_type": "code",
   "execution_count": null,
   "metadata": {},
   "outputs": [],
   "source": []
  },
  {
   "cell_type": "code",
   "execution_count": 99,
   "metadata": {},
   "outputs": [],
   "source": [
    "one_bike = geodf.iloc[7928]\n"
   ]
  },
  {
   "cell_type": "code",
   "execution_count": 100,
   "metadata": {},
   "outputs": [],
   "source": []
  },
  {
   "cell_type": "code",
   "execution_count": 137,
   "metadata": {},
   "outputs": [],
   "source": [
    "def get_mean_interarrival_time(one_bike, geodf):\n",
    "    neighbors = model_neighbors.get_nearest_neighbor_bikes(one_bike, geodf, 1000)\n",
    "    neighbor_df = geodf.loc[neighbors]\n",
    "    if len(neighbor_df) < 2:\n",
    "        return 90\n",
    "    interarrival_times = []\n",
    "    for date in neighbor_df['local_time_start'].dt.date.unique():\n",
    "        df = neighbor_df[neighbor_df['local_time_start'].dt.date == date]\n",
    "        if len(df) < 2:\n",
    "            interarrival_times.append(90)\n",
    "        arrival_times = sorted(df['local_time_start'].dt.minute)\n",
    "        for x in range(len(arrival_times)-1):\n",
    "            interarrival_times.append(arrival_times[x+1]-arrival_times[x])\n",
    "    mean_interarrival_time = np.array(interarrival_times).mean()\n",
    "    return mean_interarrival_time"
   ]
  },
  {
   "cell_type": "code",
   "execution_count": 391,
   "metadata": {},
   "outputs": [],
   "source": [
    "samp = geodf.iloc[:100]"
   ]
  },
  {
   "cell_type": "code",
   "execution_count": 400,
   "metadata": {},
   "outputs": [],
   "source": [
    "mean_interarrival = samp.apply(lambda x: model_neighbors.get_mean_interarrival_time(x.geolocation, x.local_time_start, geodf, 1000), axis=1)"
   ]
  },
  {
   "cell_type": "code",
   "execution_count": 401,
   "metadata": {},
   "outputs": [
    {
     "data": {
      "text/plain": [
       "58      0.228431\n",
       "59      0.223810\n",
       "137     0.537037\n",
       "136     0.197619\n",
       "256     0.194444\n",
       "254     0.194444\n",
       "226     0.191667\n",
       "218     0.191667\n",
       "221     0.191667\n",
       "244     0.191667\n",
       "234     0.217460\n",
       "225     0.239744\n",
       "243     0.239744\n",
       "317     1.500000\n",
       "464     0.269444\n",
       "465     0.283333\n",
       "461     0.175926\n",
       "493     1.500000\n",
       "670     0.570000\n",
       "677     0.209524\n",
       "676     0.160000\n",
       "767     0.407143\n",
       "762     1.500000\n",
       "766     0.221569\n",
       "764     0.198246\n",
       "896     0.766667\n",
       "995     0.217949\n",
       "1028    1.500000\n",
       "1175    0.183333\n",
       "1235    0.480000\n",
       "          ...   \n",
       "2857    0.225000\n",
       "2951    0.160606\n",
       "2998    1.500000\n",
       "3149    0.217949\n",
       "3212    0.195833\n",
       "3213    0.244444\n",
       "3214    0.528571\n",
       "3251    0.163542\n",
       "3302    0.203333\n",
       "3306    0.513889\n",
       "3304    0.420000\n",
       "3363    0.480000\n",
       "3420    0.610000\n",
       "3419    0.322727\n",
       "3423    0.513889\n",
       "3417    1.500000\n",
       "3471    1.500000\n",
       "3577    0.756667\n",
       "3650    1.500000\n",
       "3745    0.406250\n",
       "3799    0.298333\n",
       "3802    0.302778\n",
       "3801    0.181481\n",
       "3798    0.490476\n",
       "3895    1.500000\n",
       "3941    0.228431\n",
       "4001    0.353571\n",
       "4012    1.500000\n",
       "4072    0.228431\n",
       "4071    0.223810\n",
       "Length: 100, dtype: float64"
      ]
     },
     "execution_count": 401,
     "metadata": {},
     "output_type": "execute_result"
    }
   ],
   "source": [
    "mean_interarrival"
   ]
  },
  {
   "cell_type": "code",
   "execution_count": 138,
   "metadata": {},
   "outputs": [
    {
     "data": {
      "text/plain": [
       "16"
      ]
     },
     "execution_count": 138,
     "metadata": {},
     "output_type": "execute_result"
    }
   ],
   "source": [
    "(mean_interarrival.apply(len)==1).sum()"
   ]
  },
  {
   "cell_type": "code",
   "execution_count": 154,
   "metadata": {},
   "outputs": [],
   "source": [
    "now = pd.datetime.now()"
   ]
  },
  {
   "cell_type": "code",
   "execution_count": 378,
   "metadata": {},
   "outputs": [
    {
     "data": {
      "text/plain": [
       "865"
      ]
     },
     "execution_count": 378,
     "metadata": {},
     "output_type": "execute_result"
    }
   ],
   "source": [
    "now.hour*60 + now.minute"
   ]
  },
  {
   "cell_type": "code",
   "execution_count": 382,
   "metadata": {},
   "outputs": [],
   "source": [
    "times = geodf.iloc[:10].local_time_start"
   ]
  },
  {
   "cell_type": "code",
   "execution_count": null,
   "metadata": {},
   "outputs": [],
   "source": []
  },
  {
   "cell_type": "code",
   "execution_count": 388,
   "metadata": {},
   "outputs": [
    {
     "name": "stdout",
     "output_type": "stream",
     "text": [
      "3384    2018-10-31 13:09:14-07:00\n",
      "11156   2018-10-31 13:00:00-07:00\n",
      "5565    2018-10-31 15:29:47-07:00\n",
      "8499    2018-10-31 15:29:47-07:00\n",
      "Name: local_time_start, dtype: datetime64[ns, America/Los_Angeles]\n",
      "[13.0, 13.15, 15.483333333333333, 15.483333333333333]\n",
      "10616   2018-10-24 14:13:18-07:00\n",
      "5703    2018-10-24 13:37:05-07:00\n",
      "7625    2018-10-24 13:08:46-07:00\n",
      "7627    2018-10-24 13:19:55-07:00\n",
      "Name: local_time_start, dtype: datetime64[ns, America/Los_Angeles]\n",
      "[13.133333333333333, 13.316666666666666, 13.616666666666667, 14.216666666666667]\n",
      "[0.15000000000000036, 2.333333333333332, 0.0, 0.18333333333333357, 0.3000000000000007, 0.5999999999999996]\n"
     ]
    },
    {
     "data": {
      "text/plain": [
       "0.5944444444444444"
      ]
     },
     "execution_count": 388,
     "metadata": {},
     "output_type": "execute_result"
    }
   ],
   "source": [
    "model_neighbors.get_mean_interarrival_time(one_bike.geolocation, now, geodf, 1000)"
   ]
  },
  {
   "cell_type": "code",
   "execution_count": 215,
   "metadata": {},
   "outputs": [
    {
     "name": "stderr",
     "output_type": "stream",
     "text": [
      "/anaconda3/lib/python3.6/site-packages/IPython/core/interactiveshell.py:3267: DtypeWarning: Columns (6) have mixed types. Specify dtype option on import or set low_memory=False.\n",
      "  exec(code_obj, self.user_global_ns, self.user_ns)\n",
      "/Users/katelynwalker/galvanize/other_projects/bike-share/featurization.py:107: SettingWithCopyWarning: \n",
      "A value is trying to be set on a copy of a slice from a DataFrame.\n",
      "Try using .loc[row_indexer,col_indexer] = value instead\n",
      "\n",
      "See the caveats in the documentation: http://pandas.pydata.org/pandas-docs/stable/indexing.html#indexing-view-versus-copy\n",
      "  idle_df['idle_time'] = idle_df['utc_time_end'] - idle_df['utc_time_start']\n"
     ]
    },
    {
     "name": "stdout",
     "output_type": "stream",
     "text": [
      "Dropping 1 entries where end time was before start time\n"
     ]
    }
   ],
   "source": [
    "train_geodf = featurization.all_featurization(\"all-sc-bike-data-1101.csv\")"
   ]
  },
  {
   "cell_type": "code",
   "execution_count": 238,
   "metadata": {},
   "outputs": [
    {
     "name": "stderr",
     "output_type": "stream",
     "text": [
      "/Users/katelynwalker/galvanize/other_projects/bike-share/featurization.py:107: SettingWithCopyWarning: \n",
      "A value is trying to be set on a copy of a slice from a DataFrame.\n",
      "Try using .loc[row_indexer,col_indexer] = value instead\n",
      "\n",
      "See the caveats in the documentation: http://pandas.pydata.org/pandas-docs/stable/indexing.html#indexing-view-versus-copy\n",
      "  idle_df['idle_time'] = idle_df['utc_time_end'] - idle_df['utc_time_start']\n"
     ]
    },
    {
     "name": "stdout",
     "output_type": "stream",
     "text": [
      "Dropping 0 entries where end time was before start time\n"
     ]
    }
   ],
   "source": [
    "test_geodf = featurization.all_featurization(\"bike-data/sc-bike-data-ending1109.csv\")"
   ]
  },
  {
   "cell_type": "code",
   "execution_count": 281,
   "metadata": {},
   "outputs": [],
   "source": [
    "train_raw = train_geodf.sort_values('utc_time_start', axis=0)\n",
    "X_raw = train_raw[[\"lon\", \"lat\", \"time_of_day_start\", \"day_of_week\"]]\n",
    "y = train_raw[\"idle_hours\"]"
   ]
  },
  {
   "cell_type": "code",
   "execution_count": 282,
   "metadata": {},
   "outputs": [],
   "source": [
    "test_raw = test_geodf.sort_values('utc_time_start', axis=0)\n",
    "X_test_raw = test_raw[[\"lon\", \"lat\", \"time_of_day_start\", \"day_of_week\"]]\n",
    "y_test = test_raw[\"idle_hours\"]"
   ]
  },
  {
   "cell_type": "code",
   "execution_count": 283,
   "metadata": {},
   "outputs": [],
   "source": [
    "scaler = StandardScaler()\n",
    "scaler.fit(X_raw.astype(float))\n",
    "X = scaler.transform(X_raw.astype(float))"
   ]
  },
  {
   "cell_type": "code",
   "execution_count": 284,
   "metadata": {},
   "outputs": [],
   "source": [
    "X_test = scaler.transform(X_test_raw.astype(float))"
   ]
  },
  {
   "cell_type": "code",
   "execution_count": 296,
   "metadata": {},
   "outputs": [
    {
     "name": "stdout",
     "output_type": "stream",
     "text": [
      "TRAIN: [   0    1    2 ... 1773 1774 1775] TEST: [1776 1777 1778 ... 3547 3548 3549]\n",
      "TRAIN: [   0    1    2 ... 3547 3548 3549] TEST: [3550 3551 3552 ... 5321 5322 5323]\n",
      "TRAIN: [   0    1    2 ... 5321 5322 5323] TEST: [5324 5325 5326 ... 7095 7096 7097]\n"
     ]
    }
   ],
   "source": [
    "tscv = TimeSeriesSplit(n_splits=3)\n",
    "for train_index, test_index in tscv.split(X):\n",
    "    print(\"TRAIN:\", train_index, \"TEST:\", test_index)\n",
    "#...    X_train, X_test = X[train_index], X[test_index]"
   ]
  },
  {
   "cell_type": "code",
   "execution_count": 297,
   "metadata": {},
   "outputs": [
    {
     "data": {
      "text/plain": [
       "<generator object TimeSeriesSplit.split at 0x1a29f718e0>"
      ]
     },
     "execution_count": 297,
     "metadata": {},
     "output_type": "execute_result"
    }
   ],
   "source": [
    "tscv.split(X)"
   ]
  },
  {
   "cell_type": "code",
   "execution_count": 298,
   "metadata": {},
   "outputs": [],
   "source": [
    "model = KNeighborsRegressor()"
   ]
  },
  {
   "cell_type": "code",
   "execution_count": 306,
   "metadata": {},
   "outputs": [],
   "source": [
    "gcv = GridSearchCV(model, param_grid={\"n_neighbors\":range(40,70),\n",
    "                                        \"weights\":[\"uniform\",\"distance\"]}, \n",
    "                   verbose=1,\n",
    "                   cv=tscv.split(X),\n",
    "                   error_score=np.nan)"
   ]
  },
  {
   "cell_type": "code",
   "execution_count": 307,
   "metadata": {},
   "outputs": [
    {
     "name": "stdout",
     "output_type": "stream",
     "text": [
      "Fitting 3 folds for each of 60 candidates, totalling 180 fits\n"
     ]
    },
    {
     "name": "stderr",
     "output_type": "stream",
     "text": [
      "[Parallel(n_jobs=1)]: Using backend SequentialBackend with 1 concurrent workers.\n",
      "[Parallel(n_jobs=1)]: Done 180 out of 180 | elapsed:   20.8s finished\n"
     ]
    },
    {
     "data": {
      "text/plain": [
       "GridSearchCV(cv=<generator object TimeSeriesSplit.split at 0x1a29f71eb8>,\n",
       "       error_score=nan,\n",
       "       estimator=KNeighborsRegressor(algorithm='auto', leaf_size=30, metric='minkowski',\n",
       "          metric_params=None, n_jobs=None, n_neighbors=5, p=2,\n",
       "          weights='uniform'),\n",
       "       fit_params=None, iid='warn', n_jobs=None,\n",
       "       param_grid={'n_neighbors': range(40, 70), 'weights': ['uniform', 'distance']},\n",
       "       pre_dispatch='2*n_jobs', refit=True, return_train_score='warn',\n",
       "       scoring=None, verbose=1)"
      ]
     },
     "execution_count": 307,
     "metadata": {},
     "output_type": "execute_result"
    }
   ],
   "source": [
    "gcv.fit(X, y)"
   ]
  },
  {
   "cell_type": "code",
   "execution_count": 309,
   "metadata": {},
   "outputs": [
    {
     "data": {
      "text/plain": [
       "{'n_neighbors': 51, 'weights': 'distance'}"
      ]
     },
     "execution_count": 309,
     "metadata": {},
     "output_type": "execute_result"
    }
   ],
   "source": [
    "gcv.best_params_"
   ]
  },
  {
   "cell_type": "code",
   "execution_count": 295,
   "metadata": {},
   "outputs": [
    {
     "name": "stderr",
     "output_type": "stream",
     "text": [
      "/anaconda3/lib/python3.6/site-packages/sklearn/utils/deprecation.py:125: FutureWarning: You are accessing a training score ('split0_train_score'), which will not be available by default any more in 0.21. If you need training scores, please set return_train_score=True\n",
      "  warnings.warn(*warn_args, **warn_kwargs)\n",
      "/anaconda3/lib/python3.6/site-packages/sklearn/utils/deprecation.py:125: FutureWarning: You are accessing a training score ('split1_train_score'), which will not be available by default any more in 0.21. If you need training scores, please set return_train_score=True\n",
      "  warnings.warn(*warn_args, **warn_kwargs)\n",
      "/anaconda3/lib/python3.6/site-packages/sklearn/utils/deprecation.py:125: FutureWarning: You are accessing a training score ('split2_train_score'), which will not be available by default any more in 0.21. If you need training scores, please set return_train_score=True\n",
      "  warnings.warn(*warn_args, **warn_kwargs)\n",
      "/anaconda3/lib/python3.6/site-packages/sklearn/utils/deprecation.py:125: FutureWarning: You are accessing a training score ('split3_train_score'), which will not be available by default any more in 0.21. If you need training scores, please set return_train_score=True\n",
      "  warnings.warn(*warn_args, **warn_kwargs)\n",
      "/anaconda3/lib/python3.6/site-packages/sklearn/utils/deprecation.py:125: FutureWarning: You are accessing a training score ('split4_train_score'), which will not be available by default any more in 0.21. If you need training scores, please set return_train_score=True\n",
      "  warnings.warn(*warn_args, **warn_kwargs)\n",
      "/anaconda3/lib/python3.6/site-packages/sklearn/utils/deprecation.py:125: FutureWarning: You are accessing a training score ('mean_train_score'), which will not be available by default any more in 0.21. If you need training scores, please set return_train_score=True\n",
      "  warnings.warn(*warn_args, **warn_kwargs)\n",
      "/anaconda3/lib/python3.6/site-packages/sklearn/utils/deprecation.py:125: FutureWarning: You are accessing a training score ('std_train_score'), which will not be available by default any more in 0.21. If you need training scores, please set return_train_score=True\n",
      "  warnings.warn(*warn_args, **warn_kwargs)\n"
     ]
    },
    {
     "data": {
      "text/html": [
       "<div>\n",
       "<style scoped>\n",
       "    .dataframe tbody tr th:only-of-type {\n",
       "        vertical-align: middle;\n",
       "    }\n",
       "\n",
       "    .dataframe tbody tr th {\n",
       "        vertical-align: top;\n",
       "    }\n",
       "\n",
       "    .dataframe thead th {\n",
       "        text-align: right;\n",
       "    }\n",
       "</style>\n",
       "<table border=\"1\" class=\"dataframe\">\n",
       "  <thead>\n",
       "    <tr style=\"text-align: right;\">\n",
       "      <th></th>\n",
       "      <th>mean_fit_time</th>\n",
       "      <th>std_fit_time</th>\n",
       "      <th>mean_score_time</th>\n",
       "      <th>std_score_time</th>\n",
       "      <th>param_n_neighbors</th>\n",
       "      <th>param_weights</th>\n",
       "      <th>params</th>\n",
       "      <th>split0_test_score</th>\n",
       "      <th>split1_test_score</th>\n",
       "      <th>split2_test_score</th>\n",
       "      <th>...</th>\n",
       "      <th>mean_test_score</th>\n",
       "      <th>std_test_score</th>\n",
       "      <th>rank_test_score</th>\n",
       "      <th>split0_train_score</th>\n",
       "      <th>split1_train_score</th>\n",
       "      <th>split2_train_score</th>\n",
       "      <th>split3_train_score</th>\n",
       "      <th>split4_train_score</th>\n",
       "      <th>mean_train_score</th>\n",
       "      <th>std_train_score</th>\n",
       "    </tr>\n",
       "  </thead>\n",
       "  <tbody>\n",
       "    <tr>\n",
       "      <th>0</th>\n",
       "      <td>0.001701</td>\n",
       "      <td>0.000314</td>\n",
       "      <td>0.014070</td>\n",
       "      <td>0.001834</td>\n",
       "      <td>20</td>\n",
       "      <td>uniform</td>\n",
       "      <td>{'n_neighbors': 20, 'weights': 'uniform'}</td>\n",
       "      <td>0.076835</td>\n",
       "      <td>0.081090</td>\n",
       "      <td>0.077279</td>\n",
       "      <td>...</td>\n",
       "      <td>-0.050666</td>\n",
       "      <td>0.282391</td>\n",
       "      <td>34</td>\n",
       "      <td>0.197945</td>\n",
       "      <td>0.248311</td>\n",
       "      <td>0.258559</td>\n",
       "      <td>0.247676</td>\n",
       "      <td>0.258298</td>\n",
       "      <td>0.242158</td>\n",
       "      <td>0.022595</td>\n",
       "    </tr>\n",
       "    <tr>\n",
       "      <th>1</th>\n",
       "      <td>0.001568</td>\n",
       "      <td>0.000456</td>\n",
       "      <td>0.013904</td>\n",
       "      <td>0.002610</td>\n",
       "      <td>20</td>\n",
       "      <td>distance</td>\n",
       "      <td>{'n_neighbors': 20, 'weights': 'distance'}</td>\n",
       "      <td>0.077318</td>\n",
       "      <td>0.080699</td>\n",
       "      <td>0.077256</td>\n",
       "      <td>...</td>\n",
       "      <td>-0.062210</td>\n",
       "      <td>0.308156</td>\n",
       "      <td>40</td>\n",
       "      <td>0.996609</td>\n",
       "      <td>0.998281</td>\n",
       "      <td>0.998621</td>\n",
       "      <td>0.999014</td>\n",
       "      <td>0.999212</td>\n",
       "      <td>0.998347</td>\n",
       "      <td>0.000927</td>\n",
       "    </tr>\n",
       "    <tr>\n",
       "      <th>2</th>\n",
       "      <td>0.001627</td>\n",
       "      <td>0.000364</td>\n",
       "      <td>0.013989</td>\n",
       "      <td>0.002228</td>\n",
       "      <td>21</td>\n",
       "      <td>uniform</td>\n",
       "      <td>{'n_neighbors': 21, 'weights': 'uniform'}</td>\n",
       "      <td>0.082310</td>\n",
       "      <td>0.083827</td>\n",
       "      <td>0.080322</td>\n",
       "      <td>...</td>\n",
       "      <td>-0.046365</td>\n",
       "      <td>0.280531</td>\n",
       "      <td>30</td>\n",
       "      <td>0.194177</td>\n",
       "      <td>0.247508</td>\n",
       "      <td>0.256941</td>\n",
       "      <td>0.245665</td>\n",
       "      <td>0.256407</td>\n",
       "      <td>0.240140</td>\n",
       "      <td>0.023428</td>\n",
       "    </tr>\n",
       "    <tr>\n",
       "      <th>3</th>\n",
       "      <td>0.001823</td>\n",
       "      <td>0.000515</td>\n",
       "      <td>0.014798</td>\n",
       "      <td>0.001934</td>\n",
       "      <td>21</td>\n",
       "      <td>distance</td>\n",
       "      <td>{'n_neighbors': 21, 'weights': 'distance'}</td>\n",
       "      <td>0.082178</td>\n",
       "      <td>0.084344</td>\n",
       "      <td>0.079833</td>\n",
       "      <td>...</td>\n",
       "      <td>-0.057410</td>\n",
       "      <td>0.304769</td>\n",
       "      <td>38</td>\n",
       "      <td>0.996609</td>\n",
       "      <td>0.998281</td>\n",
       "      <td>0.998621</td>\n",
       "      <td>0.999014</td>\n",
       "      <td>0.999212</td>\n",
       "      <td>0.998347</td>\n",
       "      <td>0.000927</td>\n",
       "    </tr>\n",
       "    <tr>\n",
       "      <th>4</th>\n",
       "      <td>0.001606</td>\n",
       "      <td>0.000556</td>\n",
       "      <td>0.014489</td>\n",
       "      <td>0.002000</td>\n",
       "      <td>22</td>\n",
       "      <td>uniform</td>\n",
       "      <td>{'n_neighbors': 22, 'weights': 'uniform'}</td>\n",
       "      <td>0.083359</td>\n",
       "      <td>0.077064</td>\n",
       "      <td>0.076152</td>\n",
       "      <td>...</td>\n",
       "      <td>-0.048199</td>\n",
       "      <td>0.281391</td>\n",
       "      <td>32</td>\n",
       "      <td>0.186962</td>\n",
       "      <td>0.244991</td>\n",
       "      <td>0.253218</td>\n",
       "      <td>0.241679</td>\n",
       "      <td>0.252959</td>\n",
       "      <td>0.235962</td>\n",
       "      <td>0.024908</td>\n",
       "    </tr>\n",
       "    <tr>\n",
       "      <th>5</th>\n",
       "      <td>0.001495</td>\n",
       "      <td>0.000430</td>\n",
       "      <td>0.014114</td>\n",
       "      <td>0.002133</td>\n",
       "      <td>22</td>\n",
       "      <td>distance</td>\n",
       "      <td>{'n_neighbors': 22, 'weights': 'distance'}</td>\n",
       "      <td>0.083419</td>\n",
       "      <td>0.079184</td>\n",
       "      <td>0.076562</td>\n",
       "      <td>...</td>\n",
       "      <td>-0.057904</td>\n",
       "      <td>0.304018</td>\n",
       "      <td>39</td>\n",
       "      <td>0.996609</td>\n",
       "      <td>0.998281</td>\n",
       "      <td>0.998621</td>\n",
       "      <td>0.999014</td>\n",
       "      <td>0.999212</td>\n",
       "      <td>0.998347</td>\n",
       "      <td>0.000927</td>\n",
       "    </tr>\n",
       "    <tr>\n",
       "      <th>6</th>\n",
       "      <td>0.001531</td>\n",
       "      <td>0.000400</td>\n",
       "      <td>0.014300</td>\n",
       "      <td>0.002006</td>\n",
       "      <td>23</td>\n",
       "      <td>uniform</td>\n",
       "      <td>{'n_neighbors': 23, 'weights': 'uniform'}</td>\n",
       "      <td>0.083464</td>\n",
       "      <td>0.081941</td>\n",
       "      <td>0.076692</td>\n",
       "      <td>...</td>\n",
       "      <td>-0.044434</td>\n",
       "      <td>0.278705</td>\n",
       "      <td>26</td>\n",
       "      <td>0.185313</td>\n",
       "      <td>0.241920</td>\n",
       "      <td>0.250314</td>\n",
       "      <td>0.238700</td>\n",
       "      <td>0.248891</td>\n",
       "      <td>0.233028</td>\n",
       "      <td>0.024242</td>\n",
       "    </tr>\n",
       "    <tr>\n",
       "      <th>7</th>\n",
       "      <td>0.001605</td>\n",
       "      <td>0.000496</td>\n",
       "      <td>0.014523</td>\n",
       "      <td>0.002385</td>\n",
       "      <td>23</td>\n",
       "      <td>distance</td>\n",
       "      <td>{'n_neighbors': 23, 'weights': 'distance'}</td>\n",
       "      <td>0.083839</td>\n",
       "      <td>0.084263</td>\n",
       "      <td>0.077144</td>\n",
       "      <td>...</td>\n",
       "      <td>-0.054011</td>\n",
       "      <td>0.300922</td>\n",
       "      <td>37</td>\n",
       "      <td>0.996609</td>\n",
       "      <td>0.998281</td>\n",
       "      <td>0.998621</td>\n",
       "      <td>0.999014</td>\n",
       "      <td>0.999212</td>\n",
       "      <td>0.998347</td>\n",
       "      <td>0.000927</td>\n",
       "    </tr>\n",
       "    <tr>\n",
       "      <th>8</th>\n",
       "      <td>0.001510</td>\n",
       "      <td>0.000474</td>\n",
       "      <td>0.014448</td>\n",
       "      <td>0.002294</td>\n",
       "      <td>24</td>\n",
       "      <td>uniform</td>\n",
       "      <td>{'n_neighbors': 24, 'weights': 'uniform'}</td>\n",
       "      <td>0.083671</td>\n",
       "      <td>0.075648</td>\n",
       "      <td>0.073727</td>\n",
       "      <td>...</td>\n",
       "      <td>-0.046154</td>\n",
       "      <td>0.276443</td>\n",
       "      <td>29</td>\n",
       "      <td>0.184147</td>\n",
       "      <td>0.236384</td>\n",
       "      <td>0.247135</td>\n",
       "      <td>0.235515</td>\n",
       "      <td>0.245290</td>\n",
       "      <td>0.229694</td>\n",
       "      <td>0.023240</td>\n",
       "    </tr>\n",
       "    <tr>\n",
       "      <th>9</th>\n",
       "      <td>0.001678</td>\n",
       "      <td>0.000673</td>\n",
       "      <td>0.015591</td>\n",
       "      <td>0.003613</td>\n",
       "      <td>24</td>\n",
       "      <td>distance</td>\n",
       "      <td>{'n_neighbors': 24, 'weights': 'distance'}</td>\n",
       "      <td>0.084239</td>\n",
       "      <td>0.079331</td>\n",
       "      <td>0.074731</td>\n",
       "      <td>...</td>\n",
       "      <td>-0.053776</td>\n",
       "      <td>0.296487</td>\n",
       "      <td>36</td>\n",
       "      <td>0.996609</td>\n",
       "      <td>0.998281</td>\n",
       "      <td>0.998621</td>\n",
       "      <td>0.999014</td>\n",
       "      <td>0.999212</td>\n",
       "      <td>0.998347</td>\n",
       "      <td>0.000927</td>\n",
       "    </tr>\n",
       "    <tr>\n",
       "      <th>10</th>\n",
       "      <td>0.001504</td>\n",
       "      <td>0.000394</td>\n",
       "      <td>0.014973</td>\n",
       "      <td>0.002359</td>\n",
       "      <td>25</td>\n",
       "      <td>uniform</td>\n",
       "      <td>{'n_neighbors': 25, 'weights': 'uniform'}</td>\n",
       "      <td>0.082509</td>\n",
       "      <td>0.085163</td>\n",
       "      <td>0.073670</td>\n",
       "      <td>...</td>\n",
       "      <td>-0.045034</td>\n",
       "      <td>0.279307</td>\n",
       "      <td>28</td>\n",
       "      <td>0.185104</td>\n",
       "      <td>0.232975</td>\n",
       "      <td>0.244118</td>\n",
       "      <td>0.232260</td>\n",
       "      <td>0.241286</td>\n",
       "      <td>0.227149</td>\n",
       "      <td>0.021520</td>\n",
       "    </tr>\n",
       "    <tr>\n",
       "      <th>11</th>\n",
       "      <td>0.001571</td>\n",
       "      <td>0.000447</td>\n",
       "      <td>0.015344</td>\n",
       "      <td>0.002314</td>\n",
       "      <td>25</td>\n",
       "      <td>distance</td>\n",
       "      <td>{'n_neighbors': 25, 'weights': 'distance'}</td>\n",
       "      <td>0.083259</td>\n",
       "      <td>0.087506</td>\n",
       "      <td>0.074597</td>\n",
       "      <td>...</td>\n",
       "      <td>-0.051910</td>\n",
       "      <td>0.296910</td>\n",
       "      <td>35</td>\n",
       "      <td>0.996609</td>\n",
       "      <td>0.998281</td>\n",
       "      <td>0.998621</td>\n",
       "      <td>0.999014</td>\n",
       "      <td>0.999212</td>\n",
       "      <td>0.998347</td>\n",
       "      <td>0.000927</td>\n",
       "    </tr>\n",
       "    <tr>\n",
       "      <th>12</th>\n",
       "      <td>0.001519</td>\n",
       "      <td>0.000394</td>\n",
       "      <td>0.015213</td>\n",
       "      <td>0.002338</td>\n",
       "      <td>26</td>\n",
       "      <td>uniform</td>\n",
       "      <td>{'n_neighbors': 26, 'weights': 'uniform'}</td>\n",
       "      <td>0.083140</td>\n",
       "      <td>0.090923</td>\n",
       "      <td>0.070549</td>\n",
       "      <td>...</td>\n",
       "      <td>-0.044913</td>\n",
       "      <td>0.276252</td>\n",
       "      <td>27</td>\n",
       "      <td>0.179092</td>\n",
       "      <td>0.232792</td>\n",
       "      <td>0.240193</td>\n",
       "      <td>0.228531</td>\n",
       "      <td>0.237284</td>\n",
       "      <td>0.223579</td>\n",
       "      <td>0.022594</td>\n",
       "    </tr>\n",
       "    <tr>\n",
       "      <th>13</th>\n",
       "      <td>0.001500</td>\n",
       "      <td>0.000432</td>\n",
       "      <td>0.015512</td>\n",
       "      <td>0.002540</td>\n",
       "      <td>26</td>\n",
       "      <td>distance</td>\n",
       "      <td>{'n_neighbors': 26, 'weights': 'distance'}</td>\n",
       "      <td>0.084199</td>\n",
       "      <td>0.092609</td>\n",
       "      <td>0.072040</td>\n",
       "      <td>...</td>\n",
       "      <td>-0.050342</td>\n",
       "      <td>0.293873</td>\n",
       "      <td>33</td>\n",
       "      <td>0.996609</td>\n",
       "      <td>0.998281</td>\n",
       "      <td>0.998621</td>\n",
       "      <td>0.999014</td>\n",
       "      <td>0.999212</td>\n",
       "      <td>0.998347</td>\n",
       "      <td>0.000927</td>\n",
       "    </tr>\n",
       "    <tr>\n",
       "      <th>14</th>\n",
       "      <td>0.001508</td>\n",
       "      <td>0.000409</td>\n",
       "      <td>0.016092</td>\n",
       "      <td>0.003381</td>\n",
       "      <td>27</td>\n",
       "      <td>uniform</td>\n",
       "      <td>{'n_neighbors': 27, 'weights': 'uniform'}</td>\n",
       "      <td>0.083906</td>\n",
       "      <td>0.093320</td>\n",
       "      <td>0.075187</td>\n",
       "      <td>...</td>\n",
       "      <td>-0.042493</td>\n",
       "      <td>0.275151</td>\n",
       "      <td>24</td>\n",
       "      <td>0.179102</td>\n",
       "      <td>0.228002</td>\n",
       "      <td>0.236314</td>\n",
       "      <td>0.226052</td>\n",
       "      <td>0.235414</td>\n",
       "      <td>0.220977</td>\n",
       "      <td>0.021318</td>\n",
       "    </tr>\n",
       "    <tr>\n",
       "      <th>15</th>\n",
       "      <td>0.001517</td>\n",
       "      <td>0.000420</td>\n",
       "      <td>0.016029</td>\n",
       "      <td>0.002617</td>\n",
       "      <td>27</td>\n",
       "      <td>distance</td>\n",
       "      <td>{'n_neighbors': 27, 'weights': 'distance'}</td>\n",
       "      <td>0.085187</td>\n",
       "      <td>0.095704</td>\n",
       "      <td>0.076151</td>\n",
       "      <td>...</td>\n",
       "      <td>-0.047470</td>\n",
       "      <td>0.292263</td>\n",
       "      <td>31</td>\n",
       "      <td>0.996609</td>\n",
       "      <td>0.998281</td>\n",
       "      <td>0.998621</td>\n",
       "      <td>0.999014</td>\n",
       "      <td>0.999212</td>\n",
       "      <td>0.998347</td>\n",
       "      <td>0.000927</td>\n",
       "    </tr>\n",
       "    <tr>\n",
       "      <th>16</th>\n",
       "      <td>0.001555</td>\n",
       "      <td>0.000477</td>\n",
       "      <td>0.015758</td>\n",
       "      <td>0.002497</td>\n",
       "      <td>28</td>\n",
       "      <td>uniform</td>\n",
       "      <td>{'n_neighbors': 28, 'weights': 'uniform'}</td>\n",
       "      <td>0.084215</td>\n",
       "      <td>0.095387</td>\n",
       "      <td>0.073278</td>\n",
       "      <td>...</td>\n",
       "      <td>-0.038425</td>\n",
       "      <td>0.267147</td>\n",
       "      <td>22</td>\n",
       "      <td>0.176358</td>\n",
       "      <td>0.222662</td>\n",
       "      <td>0.232789</td>\n",
       "      <td>0.222413</td>\n",
       "      <td>0.232079</td>\n",
       "      <td>0.217260</td>\n",
       "      <td>0.020926</td>\n",
       "    </tr>\n",
       "    <tr>\n",
       "      <th>17</th>\n",
       "      <td>0.001495</td>\n",
       "      <td>0.000425</td>\n",
       "      <td>0.016083</td>\n",
       "      <td>0.002467</td>\n",
       "      <td>28</td>\n",
       "      <td>distance</td>\n",
       "      <td>{'n_neighbors': 28, 'weights': 'distance'}</td>\n",
       "      <td>0.085586</td>\n",
       "      <td>0.098283</td>\n",
       "      <td>0.074529</td>\n",
       "      <td>...</td>\n",
       "      <td>-0.043647</td>\n",
       "      <td>0.285091</td>\n",
       "      <td>25</td>\n",
       "      <td>0.996609</td>\n",
       "      <td>0.998281</td>\n",
       "      <td>0.998621</td>\n",
       "      <td>0.999014</td>\n",
       "      <td>0.999212</td>\n",
       "      <td>0.998347</td>\n",
       "      <td>0.000927</td>\n",
       "    </tr>\n",
       "    <tr>\n",
       "      <th>18</th>\n",
       "      <td>0.001592</td>\n",
       "      <td>0.000416</td>\n",
       "      <td>0.016189</td>\n",
       "      <td>0.002570</td>\n",
       "      <td>29</td>\n",
       "      <td>uniform</td>\n",
       "      <td>{'n_neighbors': 29, 'weights': 'uniform'}</td>\n",
       "      <td>0.083609</td>\n",
       "      <td>0.097353</td>\n",
       "      <td>0.071421</td>\n",
       "      <td>...</td>\n",
       "      <td>-0.038179</td>\n",
       "      <td>0.264700</td>\n",
       "      <td>21</td>\n",
       "      <td>0.173856</td>\n",
       "      <td>0.220460</td>\n",
       "      <td>0.231861</td>\n",
       "      <td>0.220067</td>\n",
       "      <td>0.229345</td>\n",
       "      <td>0.215118</td>\n",
       "      <td>0.021158</td>\n",
       "    </tr>\n",
       "    <tr>\n",
       "      <th>19</th>\n",
       "      <td>0.001510</td>\n",
       "      <td>0.000457</td>\n",
       "      <td>0.016531</td>\n",
       "      <td>0.002528</td>\n",
       "      <td>29</td>\n",
       "      <td>distance</td>\n",
       "      <td>{'n_neighbors': 29, 'weights': 'distance'}</td>\n",
       "      <td>0.085334</td>\n",
       "      <td>0.100305</td>\n",
       "      <td>0.073079</td>\n",
       "      <td>...</td>\n",
       "      <td>-0.042206</td>\n",
       "      <td>0.281417</td>\n",
       "      <td>23</td>\n",
       "      <td>0.996609</td>\n",
       "      <td>0.998281</td>\n",
       "      <td>0.998621</td>\n",
       "      <td>0.999014</td>\n",
       "      <td>0.999212</td>\n",
       "      <td>0.998347</td>\n",
       "      <td>0.000927</td>\n",
       "    </tr>\n",
       "    <tr>\n",
       "      <th>20</th>\n",
       "      <td>0.001570</td>\n",
       "      <td>0.000407</td>\n",
       "      <td>0.016632</td>\n",
       "      <td>0.002549</td>\n",
       "      <td>30</td>\n",
       "      <td>uniform</td>\n",
       "      <td>{'n_neighbors': 30, 'weights': 'uniform'}</td>\n",
       "      <td>0.084588</td>\n",
       "      <td>0.096643</td>\n",
       "      <td>0.072340</td>\n",
       "      <td>...</td>\n",
       "      <td>-0.033568</td>\n",
       "      <td>0.256048</td>\n",
       "      <td>18</td>\n",
       "      <td>0.175838</td>\n",
       "      <td>0.217562</td>\n",
       "      <td>0.230287</td>\n",
       "      <td>0.217547</td>\n",
       "      <td>0.226777</td>\n",
       "      <td>0.213602</td>\n",
       "      <td>0.019542</td>\n",
       "    </tr>\n",
       "    <tr>\n",
       "      <th>21</th>\n",
       "      <td>0.001498</td>\n",
       "      <td>0.000426</td>\n",
       "      <td>0.017110</td>\n",
       "      <td>0.002703</td>\n",
       "      <td>30</td>\n",
       "      <td>distance</td>\n",
       "      <td>{'n_neighbors': 30, 'weights': 'distance'}</td>\n",
       "      <td>0.086340</td>\n",
       "      <td>0.100255</td>\n",
       "      <td>0.073895</td>\n",
       "      <td>...</td>\n",
       "      <td>-0.037842</td>\n",
       "      <td>0.273471</td>\n",
       "      <td>20</td>\n",
       "      <td>0.996609</td>\n",
       "      <td>0.998281</td>\n",
       "      <td>0.998621</td>\n",
       "      <td>0.999014</td>\n",
       "      <td>0.999212</td>\n",
       "      <td>0.998347</td>\n",
       "      <td>0.000927</td>\n",
       "    </tr>\n",
       "    <tr>\n",
       "      <th>22</th>\n",
       "      <td>0.001537</td>\n",
       "      <td>0.000452</td>\n",
       "      <td>0.017103</td>\n",
       "      <td>0.002956</td>\n",
       "      <td>31</td>\n",
       "      <td>uniform</td>\n",
       "      <td>{'n_neighbors': 31, 'weights': 'uniform'}</td>\n",
       "      <td>0.086812</td>\n",
       "      <td>0.095548</td>\n",
       "      <td>0.074208</td>\n",
       "      <td>...</td>\n",
       "      <td>-0.029640</td>\n",
       "      <td>0.255051</td>\n",
       "      <td>15</td>\n",
       "      <td>0.172227</td>\n",
       "      <td>0.216574</td>\n",
       "      <td>0.227953</td>\n",
       "      <td>0.215742</td>\n",
       "      <td>0.224657</td>\n",
       "      <td>0.211431</td>\n",
       "      <td>0.020149</td>\n",
       "    </tr>\n",
       "    <tr>\n",
       "      <th>23</th>\n",
       "      <td>0.002804</td>\n",
       "      <td>0.000818</td>\n",
       "      <td>0.034084</td>\n",
       "      <td>0.006397</td>\n",
       "      <td>31</td>\n",
       "      <td>distance</td>\n",
       "      <td>{'n_neighbors': 31, 'weights': 'distance'}</td>\n",
       "      <td>0.088496</td>\n",
       "      <td>0.100035</td>\n",
       "      <td>0.075677</td>\n",
       "      <td>...</td>\n",
       "      <td>-0.033940</td>\n",
       "      <td>0.271820</td>\n",
       "      <td>19</td>\n",
       "      <td>0.996609</td>\n",
       "      <td>0.998281</td>\n",
       "      <td>0.998621</td>\n",
       "      <td>0.999014</td>\n",
       "      <td>0.999212</td>\n",
       "      <td>0.998347</td>\n",
       "      <td>0.000927</td>\n",
       "    </tr>\n",
       "    <tr>\n",
       "      <th>24</th>\n",
       "      <td>0.001550</td>\n",
       "      <td>0.000472</td>\n",
       "      <td>0.017374</td>\n",
       "      <td>0.002819</td>\n",
       "      <td>32</td>\n",
       "      <td>uniform</td>\n",
       "      <td>{'n_neighbors': 32, 'weights': 'uniform'}</td>\n",
       "      <td>0.089408</td>\n",
       "      <td>0.097009</td>\n",
       "      <td>0.074044</td>\n",
       "      <td>...</td>\n",
       "      <td>-0.027477</td>\n",
       "      <td>0.252152</td>\n",
       "      <td>12</td>\n",
       "      <td>0.170161</td>\n",
       "      <td>0.213590</td>\n",
       "      <td>0.225054</td>\n",
       "      <td>0.213304</td>\n",
       "      <td>0.223357</td>\n",
       "      <td>0.209093</td>\n",
       "      <td>0.020059</td>\n",
       "    </tr>\n",
       "    <tr>\n",
       "      <th>25</th>\n",
       "      <td>0.001748</td>\n",
       "      <td>0.000713</td>\n",
       "      <td>0.019614</td>\n",
       "      <td>0.004923</td>\n",
       "      <td>32</td>\n",
       "      <td>distance</td>\n",
       "      <td>{'n_neighbors': 32, 'weights': 'distance'}</td>\n",
       "      <td>0.090808</td>\n",
       "      <td>0.101411</td>\n",
       "      <td>0.075771</td>\n",
       "      <td>...</td>\n",
       "      <td>-0.031484</td>\n",
       "      <td>0.268360</td>\n",
       "      <td>17</td>\n",
       "      <td>0.996609</td>\n",
       "      <td>0.998281</td>\n",
       "      <td>0.998621</td>\n",
       "      <td>0.999014</td>\n",
       "      <td>0.999212</td>\n",
       "      <td>0.998347</td>\n",
       "      <td>0.000927</td>\n",
       "    </tr>\n",
       "    <tr>\n",
       "      <th>26</th>\n",
       "      <td>0.002767</td>\n",
       "      <td>0.000521</td>\n",
       "      <td>0.026407</td>\n",
       "      <td>0.006494</td>\n",
       "      <td>33</td>\n",
       "      <td>uniform</td>\n",
       "      <td>{'n_neighbors': 33, 'weights': 'uniform'}</td>\n",
       "      <td>0.089179</td>\n",
       "      <td>0.093340</td>\n",
       "      <td>0.072116</td>\n",
       "      <td>...</td>\n",
       "      <td>-0.026009</td>\n",
       "      <td>0.248004</td>\n",
       "      <td>10</td>\n",
       "      <td>0.167391</td>\n",
       "      <td>0.210315</td>\n",
       "      <td>0.222524</td>\n",
       "      <td>0.210983</td>\n",
       "      <td>0.220641</td>\n",
       "      <td>0.206371</td>\n",
       "      <td>0.020104</td>\n",
       "    </tr>\n",
       "    <tr>\n",
       "      <th>27</th>\n",
       "      <td>0.001502</td>\n",
       "      <td>0.000426</td>\n",
       "      <td>0.018520</td>\n",
       "      <td>0.003220</td>\n",
       "      <td>33</td>\n",
       "      <td>distance</td>\n",
       "      <td>{'n_neighbors': 33, 'weights': 'distance'}</td>\n",
       "      <td>0.090506</td>\n",
       "      <td>0.098635</td>\n",
       "      <td>0.074297</td>\n",
       "      <td>...</td>\n",
       "      <td>-0.029805</td>\n",
       "      <td>0.264061</td>\n",
       "      <td>16</td>\n",
       "      <td>0.996609</td>\n",
       "      <td>0.998281</td>\n",
       "      <td>0.998621</td>\n",
       "      <td>0.999014</td>\n",
       "      <td>0.999212</td>\n",
       "      <td>0.998347</td>\n",
       "      <td>0.000927</td>\n",
       "    </tr>\n",
       "    <tr>\n",
       "      <th>28</th>\n",
       "      <td>0.001960</td>\n",
       "      <td>0.000334</td>\n",
       "      <td>0.022230</td>\n",
       "      <td>0.003498</td>\n",
       "      <td>34</td>\n",
       "      <td>uniform</td>\n",
       "      <td>{'n_neighbors': 34, 'weights': 'uniform'}</td>\n",
       "      <td>0.088346</td>\n",
       "      <td>0.091912</td>\n",
       "      <td>0.072760</td>\n",
       "      <td>...</td>\n",
       "      <td>-0.025227</td>\n",
       "      <td>0.246484</td>\n",
       "      <td>8</td>\n",
       "      <td>0.164705</td>\n",
       "      <td>0.207607</td>\n",
       "      <td>0.219529</td>\n",
       "      <td>0.208627</td>\n",
       "      <td>0.217679</td>\n",
       "      <td>0.203629</td>\n",
       "      <td>0.020030</td>\n",
       "    </tr>\n",
       "    <tr>\n",
       "      <th>29</th>\n",
       "      <td>0.001524</td>\n",
       "      <td>0.000427</td>\n",
       "      <td>0.019237</td>\n",
       "      <td>0.003032</td>\n",
       "      <td>34</td>\n",
       "      <td>distance</td>\n",
       "      <td>{'n_neighbors': 34, 'weights': 'distance'}</td>\n",
       "      <td>0.089856</td>\n",
       "      <td>0.098007</td>\n",
       "      <td>0.074832</td>\n",
       "      <td>...</td>\n",
       "      <td>-0.028832</td>\n",
       "      <td>0.262362</td>\n",
       "      <td>14</td>\n",
       "      <td>0.996609</td>\n",
       "      <td>0.998281</td>\n",
       "      <td>0.998621</td>\n",
       "      <td>0.999014</td>\n",
       "      <td>0.999212</td>\n",
       "      <td>0.998347</td>\n",
       "      <td>0.000927</td>\n",
       "    </tr>\n",
       "    <tr>\n",
       "      <th>30</th>\n",
       "      <td>0.001571</td>\n",
       "      <td>0.000487</td>\n",
       "      <td>0.018695</td>\n",
       "      <td>0.002943</td>\n",
       "      <td>35</td>\n",
       "      <td>uniform</td>\n",
       "      <td>{'n_neighbors': 35, 'weights': 'uniform'}</td>\n",
       "      <td>0.086520</td>\n",
       "      <td>0.090269</td>\n",
       "      <td>0.074293</td>\n",
       "      <td>...</td>\n",
       "      <td>-0.024492</td>\n",
       "      <td>0.243728</td>\n",
       "      <td>7</td>\n",
       "      <td>0.160329</td>\n",
       "      <td>0.204827</td>\n",
       "      <td>0.217333</td>\n",
       "      <td>0.205736</td>\n",
       "      <td>0.215571</td>\n",
       "      <td>0.200759</td>\n",
       "      <td>0.020833</td>\n",
       "    </tr>\n",
       "    <tr>\n",
       "      <th>31</th>\n",
       "      <td>0.001512</td>\n",
       "      <td>0.000399</td>\n",
       "      <td>0.018725</td>\n",
       "      <td>0.002882</td>\n",
       "      <td>35</td>\n",
       "      <td>distance</td>\n",
       "      <td>{'n_neighbors': 35, 'weights': 'distance'}</td>\n",
       "      <td>0.088332</td>\n",
       "      <td>0.096746</td>\n",
       "      <td>0.076165</td>\n",
       "      <td>...</td>\n",
       "      <td>-0.027858</td>\n",
       "      <td>0.259319</td>\n",
       "      <td>13</td>\n",
       "      <td>0.996609</td>\n",
       "      <td>0.998281</td>\n",
       "      <td>0.998621</td>\n",
       "      <td>0.999014</td>\n",
       "      <td>0.999212</td>\n",
       "      <td>0.998347</td>\n",
       "      <td>0.000927</td>\n",
       "    </tr>\n",
       "    <tr>\n",
       "      <th>32</th>\n",
       "      <td>0.001524</td>\n",
       "      <td>0.000457</td>\n",
       "      <td>0.018854</td>\n",
       "      <td>0.002883</td>\n",
       "      <td>36</td>\n",
       "      <td>uniform</td>\n",
       "      <td>{'n_neighbors': 36, 'weights': 'uniform'}</td>\n",
       "      <td>0.084845</td>\n",
       "      <td>0.091857</td>\n",
       "      <td>0.075143</td>\n",
       "      <td>...</td>\n",
       "      <td>-0.024433</td>\n",
       "      <td>0.244389</td>\n",
       "      <td>6</td>\n",
       "      <td>0.158704</td>\n",
       "      <td>0.202875</td>\n",
       "      <td>0.216221</td>\n",
       "      <td>0.204472</td>\n",
       "      <td>0.214410</td>\n",
       "      <td>0.199336</td>\n",
       "      <td>0.020987</td>\n",
       "    </tr>\n",
       "    <tr>\n",
       "      <th>33</th>\n",
       "      <td>0.001599</td>\n",
       "      <td>0.000454</td>\n",
       "      <td>0.019066</td>\n",
       "      <td>0.002820</td>\n",
       "      <td>36</td>\n",
       "      <td>distance</td>\n",
       "      <td>{'n_neighbors': 36, 'weights': 'distance'}</td>\n",
       "      <td>0.086995</td>\n",
       "      <td>0.098039</td>\n",
       "      <td>0.077023</td>\n",
       "      <td>...</td>\n",
       "      <td>-0.027137</td>\n",
       "      <td>0.258662</td>\n",
       "      <td>11</td>\n",
       "      <td>0.996609</td>\n",
       "      <td>0.998281</td>\n",
       "      <td>0.998621</td>\n",
       "      <td>0.999014</td>\n",
       "      <td>0.999212</td>\n",
       "      <td>0.998347</td>\n",
       "      <td>0.000927</td>\n",
       "    </tr>\n",
       "    <tr>\n",
       "      <th>34</th>\n",
       "      <td>0.001529</td>\n",
       "      <td>0.000467</td>\n",
       "      <td>0.019003</td>\n",
       "      <td>0.002964</td>\n",
       "      <td>37</td>\n",
       "      <td>uniform</td>\n",
       "      <td>{'n_neighbors': 37, 'weights': 'uniform'}</td>\n",
       "      <td>0.086273</td>\n",
       "      <td>0.089355</td>\n",
       "      <td>0.075989</td>\n",
       "      <td>...</td>\n",
       "      <td>-0.022827</td>\n",
       "      <td>0.239759</td>\n",
       "      <td>3</td>\n",
       "      <td>0.156690</td>\n",
       "      <td>0.201538</td>\n",
       "      <td>0.214149</td>\n",
       "      <td>0.202173</td>\n",
       "      <td>0.212488</td>\n",
       "      <td>0.197408</td>\n",
       "      <td>0.021002</td>\n",
       "    </tr>\n",
       "    <tr>\n",
       "      <th>35</th>\n",
       "      <td>0.001515</td>\n",
       "      <td>0.000449</td>\n",
       "      <td>0.019469</td>\n",
       "      <td>0.002851</td>\n",
       "      <td>37</td>\n",
       "      <td>distance</td>\n",
       "      <td>{'n_neighbors': 37, 'weights': 'distance'}</td>\n",
       "      <td>0.088202</td>\n",
       "      <td>0.096567</td>\n",
       "      <td>0.077715</td>\n",
       "      <td>...</td>\n",
       "      <td>-0.025405</td>\n",
       "      <td>0.254338</td>\n",
       "      <td>9</td>\n",
       "      <td>0.996609</td>\n",
       "      <td>0.998281</td>\n",
       "      <td>0.998621</td>\n",
       "      <td>0.999014</td>\n",
       "      <td>0.999212</td>\n",
       "      <td>0.998347</td>\n",
       "      <td>0.000927</td>\n",
       "    </tr>\n",
       "    <tr>\n",
       "      <th>36</th>\n",
       "      <td>0.001598</td>\n",
       "      <td>0.000403</td>\n",
       "      <td>0.019697</td>\n",
       "      <td>0.003081</td>\n",
       "      <td>38</td>\n",
       "      <td>uniform</td>\n",
       "      <td>{'n_neighbors': 38, 'weights': 'uniform'}</td>\n",
       "      <td>0.086906</td>\n",
       "      <td>0.092327</td>\n",
       "      <td>0.075012</td>\n",
       "      <td>...</td>\n",
       "      <td>-0.021522</td>\n",
       "      <td>0.239567</td>\n",
       "      <td>1</td>\n",
       "      <td>0.155584</td>\n",
       "      <td>0.198899</td>\n",
       "      <td>0.212237</td>\n",
       "      <td>0.200969</td>\n",
       "      <td>0.211511</td>\n",
       "      <td>0.195840</td>\n",
       "      <td>0.020836</td>\n",
       "    </tr>\n",
       "    <tr>\n",
       "      <th>37</th>\n",
       "      <td>0.001537</td>\n",
       "      <td>0.000459</td>\n",
       "      <td>0.020648</td>\n",
       "      <td>0.002734</td>\n",
       "      <td>38</td>\n",
       "      <td>distance</td>\n",
       "      <td>{'n_neighbors': 38, 'weights': 'distance'}</td>\n",
       "      <td>0.088705</td>\n",
       "      <td>0.099712</td>\n",
       "      <td>0.076945</td>\n",
       "      <td>...</td>\n",
       "      <td>-0.023654</td>\n",
       "      <td>0.253288</td>\n",
       "      <td>5</td>\n",
       "      <td>0.996609</td>\n",
       "      <td>0.998281</td>\n",
       "      <td>0.998621</td>\n",
       "      <td>0.999014</td>\n",
       "      <td>0.999212</td>\n",
       "      <td>0.998347</td>\n",
       "      <td>0.000927</td>\n",
       "    </tr>\n",
       "    <tr>\n",
       "      <th>38</th>\n",
       "      <td>0.001554</td>\n",
       "      <td>0.000445</td>\n",
       "      <td>0.019746</td>\n",
       "      <td>0.003006</td>\n",
       "      <td>39</td>\n",
       "      <td>uniform</td>\n",
       "      <td>{'n_neighbors': 39, 'weights': 'uniform'}</td>\n",
       "      <td>0.087106</td>\n",
       "      <td>0.091545</td>\n",
       "      <td>0.075577</td>\n",
       "      <td>...</td>\n",
       "      <td>-0.022114</td>\n",
       "      <td>0.240930</td>\n",
       "      <td>2</td>\n",
       "      <td>0.155167</td>\n",
       "      <td>0.196353</td>\n",
       "      <td>0.210060</td>\n",
       "      <td>0.199484</td>\n",
       "      <td>0.210717</td>\n",
       "      <td>0.194356</td>\n",
       "      <td>0.020398</td>\n",
       "    </tr>\n",
       "    <tr>\n",
       "      <th>39</th>\n",
       "      <td>0.001577</td>\n",
       "      <td>0.000458</td>\n",
       "      <td>0.020202</td>\n",
       "      <td>0.003256</td>\n",
       "      <td>39</td>\n",
       "      <td>distance</td>\n",
       "      <td>{'n_neighbors': 39, 'weights': 'distance'}</td>\n",
       "      <td>0.089041</td>\n",
       "      <td>0.099234</td>\n",
       "      <td>0.077511</td>\n",
       "      <td>...</td>\n",
       "      <td>-0.023609</td>\n",
       "      <td>0.253625</td>\n",
       "      <td>4</td>\n",
       "      <td>0.996609</td>\n",
       "      <td>0.998281</td>\n",
       "      <td>0.998621</td>\n",
       "      <td>0.999014</td>\n",
       "      <td>0.999212</td>\n",
       "      <td>0.998347</td>\n",
       "      <td>0.000927</td>\n",
       "    </tr>\n",
       "  </tbody>\n",
       "</table>\n",
       "<p>40 rows × 22 columns</p>\n",
       "</div>"
      ],
      "text/plain": [
       "    mean_fit_time  std_fit_time  mean_score_time  std_score_time  \\\n",
       "0        0.001701      0.000314         0.014070        0.001834   \n",
       "1        0.001568      0.000456         0.013904        0.002610   \n",
       "2        0.001627      0.000364         0.013989        0.002228   \n",
       "3        0.001823      0.000515         0.014798        0.001934   \n",
       "4        0.001606      0.000556         0.014489        0.002000   \n",
       "5        0.001495      0.000430         0.014114        0.002133   \n",
       "6        0.001531      0.000400         0.014300        0.002006   \n",
       "7        0.001605      0.000496         0.014523        0.002385   \n",
       "8        0.001510      0.000474         0.014448        0.002294   \n",
       "9        0.001678      0.000673         0.015591        0.003613   \n",
       "10       0.001504      0.000394         0.014973        0.002359   \n",
       "11       0.001571      0.000447         0.015344        0.002314   \n",
       "12       0.001519      0.000394         0.015213        0.002338   \n",
       "13       0.001500      0.000432         0.015512        0.002540   \n",
       "14       0.001508      0.000409         0.016092        0.003381   \n",
       "15       0.001517      0.000420         0.016029        0.002617   \n",
       "16       0.001555      0.000477         0.015758        0.002497   \n",
       "17       0.001495      0.000425         0.016083        0.002467   \n",
       "18       0.001592      0.000416         0.016189        0.002570   \n",
       "19       0.001510      0.000457         0.016531        0.002528   \n",
       "20       0.001570      0.000407         0.016632        0.002549   \n",
       "21       0.001498      0.000426         0.017110        0.002703   \n",
       "22       0.001537      0.000452         0.017103        0.002956   \n",
       "23       0.002804      0.000818         0.034084        0.006397   \n",
       "24       0.001550      0.000472         0.017374        0.002819   \n",
       "25       0.001748      0.000713         0.019614        0.004923   \n",
       "26       0.002767      0.000521         0.026407        0.006494   \n",
       "27       0.001502      0.000426         0.018520        0.003220   \n",
       "28       0.001960      0.000334         0.022230        0.003498   \n",
       "29       0.001524      0.000427         0.019237        0.003032   \n",
       "30       0.001571      0.000487         0.018695        0.002943   \n",
       "31       0.001512      0.000399         0.018725        0.002882   \n",
       "32       0.001524      0.000457         0.018854        0.002883   \n",
       "33       0.001599      0.000454         0.019066        0.002820   \n",
       "34       0.001529      0.000467         0.019003        0.002964   \n",
       "35       0.001515      0.000449         0.019469        0.002851   \n",
       "36       0.001598      0.000403         0.019697        0.003081   \n",
       "37       0.001537      0.000459         0.020648        0.002734   \n",
       "38       0.001554      0.000445         0.019746        0.003006   \n",
       "39       0.001577      0.000458         0.020202        0.003256   \n",
       "\n",
       "   param_n_neighbors param_weights  \\\n",
       "0                 20       uniform   \n",
       "1                 20      distance   \n",
       "2                 21       uniform   \n",
       "3                 21      distance   \n",
       "4                 22       uniform   \n",
       "5                 22      distance   \n",
       "6                 23       uniform   \n",
       "7                 23      distance   \n",
       "8                 24       uniform   \n",
       "9                 24      distance   \n",
       "10                25       uniform   \n",
       "11                25      distance   \n",
       "12                26       uniform   \n",
       "13                26      distance   \n",
       "14                27       uniform   \n",
       "15                27      distance   \n",
       "16                28       uniform   \n",
       "17                28      distance   \n",
       "18                29       uniform   \n",
       "19                29      distance   \n",
       "20                30       uniform   \n",
       "21                30      distance   \n",
       "22                31       uniform   \n",
       "23                31      distance   \n",
       "24                32       uniform   \n",
       "25                32      distance   \n",
       "26                33       uniform   \n",
       "27                33      distance   \n",
       "28                34       uniform   \n",
       "29                34      distance   \n",
       "30                35       uniform   \n",
       "31                35      distance   \n",
       "32                36       uniform   \n",
       "33                36      distance   \n",
       "34                37       uniform   \n",
       "35                37      distance   \n",
       "36                38       uniform   \n",
       "37                38      distance   \n",
       "38                39       uniform   \n",
       "39                39      distance   \n",
       "\n",
       "                                        params  split0_test_score  \\\n",
       "0    {'n_neighbors': 20, 'weights': 'uniform'}           0.076835   \n",
       "1   {'n_neighbors': 20, 'weights': 'distance'}           0.077318   \n",
       "2    {'n_neighbors': 21, 'weights': 'uniform'}           0.082310   \n",
       "3   {'n_neighbors': 21, 'weights': 'distance'}           0.082178   \n",
       "4    {'n_neighbors': 22, 'weights': 'uniform'}           0.083359   \n",
       "5   {'n_neighbors': 22, 'weights': 'distance'}           0.083419   \n",
       "6    {'n_neighbors': 23, 'weights': 'uniform'}           0.083464   \n",
       "7   {'n_neighbors': 23, 'weights': 'distance'}           0.083839   \n",
       "8    {'n_neighbors': 24, 'weights': 'uniform'}           0.083671   \n",
       "9   {'n_neighbors': 24, 'weights': 'distance'}           0.084239   \n",
       "10   {'n_neighbors': 25, 'weights': 'uniform'}           0.082509   \n",
       "11  {'n_neighbors': 25, 'weights': 'distance'}           0.083259   \n",
       "12   {'n_neighbors': 26, 'weights': 'uniform'}           0.083140   \n",
       "13  {'n_neighbors': 26, 'weights': 'distance'}           0.084199   \n",
       "14   {'n_neighbors': 27, 'weights': 'uniform'}           0.083906   \n",
       "15  {'n_neighbors': 27, 'weights': 'distance'}           0.085187   \n",
       "16   {'n_neighbors': 28, 'weights': 'uniform'}           0.084215   \n",
       "17  {'n_neighbors': 28, 'weights': 'distance'}           0.085586   \n",
       "18   {'n_neighbors': 29, 'weights': 'uniform'}           0.083609   \n",
       "19  {'n_neighbors': 29, 'weights': 'distance'}           0.085334   \n",
       "20   {'n_neighbors': 30, 'weights': 'uniform'}           0.084588   \n",
       "21  {'n_neighbors': 30, 'weights': 'distance'}           0.086340   \n",
       "22   {'n_neighbors': 31, 'weights': 'uniform'}           0.086812   \n",
       "23  {'n_neighbors': 31, 'weights': 'distance'}           0.088496   \n",
       "24   {'n_neighbors': 32, 'weights': 'uniform'}           0.089408   \n",
       "25  {'n_neighbors': 32, 'weights': 'distance'}           0.090808   \n",
       "26   {'n_neighbors': 33, 'weights': 'uniform'}           0.089179   \n",
       "27  {'n_neighbors': 33, 'weights': 'distance'}           0.090506   \n",
       "28   {'n_neighbors': 34, 'weights': 'uniform'}           0.088346   \n",
       "29  {'n_neighbors': 34, 'weights': 'distance'}           0.089856   \n",
       "30   {'n_neighbors': 35, 'weights': 'uniform'}           0.086520   \n",
       "31  {'n_neighbors': 35, 'weights': 'distance'}           0.088332   \n",
       "32   {'n_neighbors': 36, 'weights': 'uniform'}           0.084845   \n",
       "33  {'n_neighbors': 36, 'weights': 'distance'}           0.086995   \n",
       "34   {'n_neighbors': 37, 'weights': 'uniform'}           0.086273   \n",
       "35  {'n_neighbors': 37, 'weights': 'distance'}           0.088202   \n",
       "36   {'n_neighbors': 38, 'weights': 'uniform'}           0.086906   \n",
       "37  {'n_neighbors': 38, 'weights': 'distance'}           0.088705   \n",
       "38   {'n_neighbors': 39, 'weights': 'uniform'}           0.087106   \n",
       "39  {'n_neighbors': 39, 'weights': 'distance'}           0.089041   \n",
       "\n",
       "    split1_test_score  split2_test_score       ...         mean_test_score  \\\n",
       "0            0.081090           0.077279       ...               -0.050666   \n",
       "1            0.080699           0.077256       ...               -0.062210   \n",
       "2            0.083827           0.080322       ...               -0.046365   \n",
       "3            0.084344           0.079833       ...               -0.057410   \n",
       "4            0.077064           0.076152       ...               -0.048199   \n",
       "5            0.079184           0.076562       ...               -0.057904   \n",
       "6            0.081941           0.076692       ...               -0.044434   \n",
       "7            0.084263           0.077144       ...               -0.054011   \n",
       "8            0.075648           0.073727       ...               -0.046154   \n",
       "9            0.079331           0.074731       ...               -0.053776   \n",
       "10           0.085163           0.073670       ...               -0.045034   \n",
       "11           0.087506           0.074597       ...               -0.051910   \n",
       "12           0.090923           0.070549       ...               -0.044913   \n",
       "13           0.092609           0.072040       ...               -0.050342   \n",
       "14           0.093320           0.075187       ...               -0.042493   \n",
       "15           0.095704           0.076151       ...               -0.047470   \n",
       "16           0.095387           0.073278       ...               -0.038425   \n",
       "17           0.098283           0.074529       ...               -0.043647   \n",
       "18           0.097353           0.071421       ...               -0.038179   \n",
       "19           0.100305           0.073079       ...               -0.042206   \n",
       "20           0.096643           0.072340       ...               -0.033568   \n",
       "21           0.100255           0.073895       ...               -0.037842   \n",
       "22           0.095548           0.074208       ...               -0.029640   \n",
       "23           0.100035           0.075677       ...               -0.033940   \n",
       "24           0.097009           0.074044       ...               -0.027477   \n",
       "25           0.101411           0.075771       ...               -0.031484   \n",
       "26           0.093340           0.072116       ...               -0.026009   \n",
       "27           0.098635           0.074297       ...               -0.029805   \n",
       "28           0.091912           0.072760       ...               -0.025227   \n",
       "29           0.098007           0.074832       ...               -0.028832   \n",
       "30           0.090269           0.074293       ...               -0.024492   \n",
       "31           0.096746           0.076165       ...               -0.027858   \n",
       "32           0.091857           0.075143       ...               -0.024433   \n",
       "33           0.098039           0.077023       ...               -0.027137   \n",
       "34           0.089355           0.075989       ...               -0.022827   \n",
       "35           0.096567           0.077715       ...               -0.025405   \n",
       "36           0.092327           0.075012       ...               -0.021522   \n",
       "37           0.099712           0.076945       ...               -0.023654   \n",
       "38           0.091545           0.075577       ...               -0.022114   \n",
       "39           0.099234           0.077511       ...               -0.023609   \n",
       "\n",
       "    std_test_score  rank_test_score  split0_train_score  split1_train_score  \\\n",
       "0         0.282391               34            0.197945            0.248311   \n",
       "1         0.308156               40            0.996609            0.998281   \n",
       "2         0.280531               30            0.194177            0.247508   \n",
       "3         0.304769               38            0.996609            0.998281   \n",
       "4         0.281391               32            0.186962            0.244991   \n",
       "5         0.304018               39            0.996609            0.998281   \n",
       "6         0.278705               26            0.185313            0.241920   \n",
       "7         0.300922               37            0.996609            0.998281   \n",
       "8         0.276443               29            0.184147            0.236384   \n",
       "9         0.296487               36            0.996609            0.998281   \n",
       "10        0.279307               28            0.185104            0.232975   \n",
       "11        0.296910               35            0.996609            0.998281   \n",
       "12        0.276252               27            0.179092            0.232792   \n",
       "13        0.293873               33            0.996609            0.998281   \n",
       "14        0.275151               24            0.179102            0.228002   \n",
       "15        0.292263               31            0.996609            0.998281   \n",
       "16        0.267147               22            0.176358            0.222662   \n",
       "17        0.285091               25            0.996609            0.998281   \n",
       "18        0.264700               21            0.173856            0.220460   \n",
       "19        0.281417               23            0.996609            0.998281   \n",
       "20        0.256048               18            0.175838            0.217562   \n",
       "21        0.273471               20            0.996609            0.998281   \n",
       "22        0.255051               15            0.172227            0.216574   \n",
       "23        0.271820               19            0.996609            0.998281   \n",
       "24        0.252152               12            0.170161            0.213590   \n",
       "25        0.268360               17            0.996609            0.998281   \n",
       "26        0.248004               10            0.167391            0.210315   \n",
       "27        0.264061               16            0.996609            0.998281   \n",
       "28        0.246484                8            0.164705            0.207607   \n",
       "29        0.262362               14            0.996609            0.998281   \n",
       "30        0.243728                7            0.160329            0.204827   \n",
       "31        0.259319               13            0.996609            0.998281   \n",
       "32        0.244389                6            0.158704            0.202875   \n",
       "33        0.258662               11            0.996609            0.998281   \n",
       "34        0.239759                3            0.156690            0.201538   \n",
       "35        0.254338                9            0.996609            0.998281   \n",
       "36        0.239567                1            0.155584            0.198899   \n",
       "37        0.253288                5            0.996609            0.998281   \n",
       "38        0.240930                2            0.155167            0.196353   \n",
       "39        0.253625                4            0.996609            0.998281   \n",
       "\n",
       "    split2_train_score  split3_train_score  split4_train_score  \\\n",
       "0             0.258559            0.247676            0.258298   \n",
       "1             0.998621            0.999014            0.999212   \n",
       "2             0.256941            0.245665            0.256407   \n",
       "3             0.998621            0.999014            0.999212   \n",
       "4             0.253218            0.241679            0.252959   \n",
       "5             0.998621            0.999014            0.999212   \n",
       "6             0.250314            0.238700            0.248891   \n",
       "7             0.998621            0.999014            0.999212   \n",
       "8             0.247135            0.235515            0.245290   \n",
       "9             0.998621            0.999014            0.999212   \n",
       "10            0.244118            0.232260            0.241286   \n",
       "11            0.998621            0.999014            0.999212   \n",
       "12            0.240193            0.228531            0.237284   \n",
       "13            0.998621            0.999014            0.999212   \n",
       "14            0.236314            0.226052            0.235414   \n",
       "15            0.998621            0.999014            0.999212   \n",
       "16            0.232789            0.222413            0.232079   \n",
       "17            0.998621            0.999014            0.999212   \n",
       "18            0.231861            0.220067            0.229345   \n",
       "19            0.998621            0.999014            0.999212   \n",
       "20            0.230287            0.217547            0.226777   \n",
       "21            0.998621            0.999014            0.999212   \n",
       "22            0.227953            0.215742            0.224657   \n",
       "23            0.998621            0.999014            0.999212   \n",
       "24            0.225054            0.213304            0.223357   \n",
       "25            0.998621            0.999014            0.999212   \n",
       "26            0.222524            0.210983            0.220641   \n",
       "27            0.998621            0.999014            0.999212   \n",
       "28            0.219529            0.208627            0.217679   \n",
       "29            0.998621            0.999014            0.999212   \n",
       "30            0.217333            0.205736            0.215571   \n",
       "31            0.998621            0.999014            0.999212   \n",
       "32            0.216221            0.204472            0.214410   \n",
       "33            0.998621            0.999014            0.999212   \n",
       "34            0.214149            0.202173            0.212488   \n",
       "35            0.998621            0.999014            0.999212   \n",
       "36            0.212237            0.200969            0.211511   \n",
       "37            0.998621            0.999014            0.999212   \n",
       "38            0.210060            0.199484            0.210717   \n",
       "39            0.998621            0.999014            0.999212   \n",
       "\n",
       "    mean_train_score  std_train_score  \n",
       "0           0.242158         0.022595  \n",
       "1           0.998347         0.000927  \n",
       "2           0.240140         0.023428  \n",
       "3           0.998347         0.000927  \n",
       "4           0.235962         0.024908  \n",
       "5           0.998347         0.000927  \n",
       "6           0.233028         0.024242  \n",
       "7           0.998347         0.000927  \n",
       "8           0.229694         0.023240  \n",
       "9           0.998347         0.000927  \n",
       "10          0.227149         0.021520  \n",
       "11          0.998347         0.000927  \n",
       "12          0.223579         0.022594  \n",
       "13          0.998347         0.000927  \n",
       "14          0.220977         0.021318  \n",
       "15          0.998347         0.000927  \n",
       "16          0.217260         0.020926  \n",
       "17          0.998347         0.000927  \n",
       "18          0.215118         0.021158  \n",
       "19          0.998347         0.000927  \n",
       "20          0.213602         0.019542  \n",
       "21          0.998347         0.000927  \n",
       "22          0.211431         0.020149  \n",
       "23          0.998347         0.000927  \n",
       "24          0.209093         0.020059  \n",
       "25          0.998347         0.000927  \n",
       "26          0.206371         0.020104  \n",
       "27          0.998347         0.000927  \n",
       "28          0.203629         0.020030  \n",
       "29          0.998347         0.000927  \n",
       "30          0.200759         0.020833  \n",
       "31          0.998347         0.000927  \n",
       "32          0.199336         0.020987  \n",
       "33          0.998347         0.000927  \n",
       "34          0.197408         0.021002  \n",
       "35          0.998347         0.000927  \n",
       "36          0.195840         0.020836  \n",
       "37          0.998347         0.000927  \n",
       "38          0.194356         0.020398  \n",
       "39          0.998347         0.000927  \n",
       "\n",
       "[40 rows x 22 columns]"
      ]
     },
     "execution_count": 295,
     "metadata": {},
     "output_type": "execute_result"
    }
   ],
   "source": [
    "pd.DataFrame(gcv.cv_results_)"
   ]
  },
  {
   "cell_type": "code",
   "execution_count": 308,
   "metadata": {},
   "outputs": [
    {
     "data": {
      "text/plain": [
       "({'n_neighbors': 51, 'weights': 'distance'}, 0.09246228211385689)"
      ]
     },
     "execution_count": 308,
     "metadata": {},
     "output_type": "execute_result"
    }
   ],
   "source": [
    "gcv.best_params_, gcv.best_score_"
   ]
  },
  {
   "cell_type": "code",
   "execution_count": 212,
   "metadata": {},
   "outputs": [
    {
     "data": {
      "text/plain": [
       "({'n_neighbors': 35, 'weights': 'distance'}, 0.011215083940125247)"
      ]
     },
     "execution_count": 212,
     "metadata": {},
     "output_type": "execute_result"
    }
   ],
   "source": [
    "gcv.best_params_, gcv.best_score_"
   ]
  },
  {
   "cell_type": "code",
   "execution_count": 356,
   "metadata": {},
   "outputs": [],
   "source": [
    "model=KNeighborsRegressor(n_neighbors=51, weights='distance')"
   ]
  },
  {
   "cell_type": "code",
   "execution_count": 357,
   "metadata": {},
   "outputs": [
    {
     "data": {
      "text/plain": [
       "KNeighborsRegressor(algorithm='auto', leaf_size=30, metric='minkowski',\n",
       "          metric_params=None, n_jobs=None, n_neighbors=51, p=2,\n",
       "          weights='distance')"
      ]
     },
     "execution_count": 357,
     "metadata": {},
     "output_type": "execute_result"
    }
   ],
   "source": [
    "model.fit(X, y)"
   ]
  },
  {
   "cell_type": "code",
   "execution_count": 358,
   "metadata": {},
   "outputs": [],
   "source": [
    "y_pred = model.predict(X_test)"
   ]
  },
  {
   "cell_type": "code",
   "execution_count": 359,
   "metadata": {},
   "outputs": [],
   "source": [
    "a = 7"
   ]
  },
  {
   "cell_type": "code",
   "execution_count": 360,
   "metadata": {},
   "outputs": [
    {
     "data": {
      "text/plain": [
       "1.6837575197382342"
      ]
     },
     "execution_count": 360,
     "metadata": {},
     "output_type": "execute_result"
    }
   ],
   "source": [
    "y_pred[a]"
   ]
  },
  {
   "cell_type": "code",
   "execution_count": 361,
   "metadata": {},
   "outputs": [
    {
     "data": {
      "text/plain": [
       "0.2311111111111111"
      ]
     },
     "execution_count": 361,
     "metadata": {},
     "output_type": "execute_result"
    }
   ],
   "source": [
    "y_test.iloc[a]"
   ]
  },
  {
   "cell_type": "code",
   "execution_count": 362,
   "metadata": {},
   "outputs": [],
   "source": [
    "y_pred=np.array(y_pred)"
   ]
  },
  {
   "cell_type": "code",
   "execution_count": 363,
   "metadata": {},
   "outputs": [],
   "source": [
    "t = np.linspace(0,10)"
   ]
  },
  {
   "cell_type": "code",
   "execution_count": 364,
   "metadata": {},
   "outputs": [],
   "source": [
    "pdf = scs.expon(scale=y_pred[a]).pdf(t)"
   ]
  },
  {
   "cell_type": "code",
   "execution_count": 405,
   "metadata": {},
   "outputs": [
    {
     "data": {
      "text/plain": [
       "Text(0, 0.5, 'pdf of bike departure')"
      ]
     },
     "execution_count": 405,
     "metadata": {},
     "output_type": "execute_result"
    },
    {
     "data": {
      "image/png": "[encoded data removed]",
      "text/plain": [
       "<Figure size 432x288 with 1 Axes>"
      ]
     },
     "metadata": {
      "needs_background": "light"
     },
     "output_type": "display_data"
    }
   ],
   "source": [
    "plt.plot(t, pdf)\n",
    "plt.axvline(y_test.iloc[a], c='red')\n",
    "plt.xlabel('hours')\n",
    "plt.ylabel('pdf of bike departure')"
   ]
  },
  {
   "cell_type": "code",
   "execution_count": 406,
   "metadata": {},
   "outputs": [],
   "source": [
    "cdf = scs.expon(scale=y_pred[a]).cdf(t)"
   ]
  },
  {
   "cell_type": "code",
   "execution_count": 408,
   "metadata": {},
   "outputs": [
    {
     "data": {
      "text/plain": [
       "Text(0, 0.5, 'probability bike has departed')"
      ]
     },
     "execution_count": 408,
     "metadata": {},
     "output_type": "execute_result"
    },
    {
     "data": {
      "image/png": "[encoded data removed]",
      "text/plain": [
       "<Figure size 432x288 with 1 Axes>"
      ]
     },
     "metadata": {
      "needs_background": "light"
     },
     "output_type": "display_data"
    }
   ],
   "source": [
    "plt.plot(t, cdf)\n",
    "plt.axvline(y_test.iloc[a], c='red')\n",
    "plt.xlabel('hours')\n",
    "plt.ylabel('probability bike has departed')"
   ]
  },
  {
   "cell_type": "code",
   "execution_count": 366,
   "metadata": {},
   "outputs": [
    {
     "data": {
      "text/plain": [
       "0.12825570798370856"
      ]
     },
     "execution_count": 366,
     "metadata": {},
     "output_type": "execute_result"
    }
   ],
   "source": [
    "#chance of outcome at index 1, given the distribution predicted for this bike\n",
    "scs.expon(scale=y_pred[a]).cdf(y_test.iloc[a])"
   ]
  },
  {
   "cell_type": "code",
   "execution_count": 367,
   "metadata": {},
   "outputs": [],
   "source": [
    "prob_all_outcomes = [scs.expon(scale=y_pred[i]).cdf(y_test.iloc[i]) for i in range(len(y_pred))]\n",
    "prob_all_outcomes = np.array(prob_all_outcomes)"
   ]
  },
  {
   "cell_type": "code",
   "execution_count": 368,
   "metadata": {},
   "outputs": [],
   "source": [
    "prob_space = np.linspace(0,1)"
   ]
  },
  {
   "cell_type": "code",
   "execution_count": 369,
   "metadata": {},
   "outputs": [],
   "source": [
    "fraction_predicted = [(prob_all_outcomes<p).sum()/len(prob_all_outcomes) for p in prob_space]"
   ]
  },
  {
   "cell_type": "code",
   "execution_count": 370,
   "metadata": {},
   "outputs": [
    {
     "data": {
      "text/plain": [
       "Text(0, 0.5, 'Fraction of idles with this outcome')"
      ]
     },
     "execution_count": 370,
     "metadata": {},
     "output_type": "execute_result"
    },
    {
     "data": {
      "image/png": "[encoded data removed]",
      "text/plain": [
       "<Figure size 504x504 with 1 Axes>"
      ]
     },
     "metadata": {
      "needs_background": "light"
     },
     "output_type": "display_data"
    }
   ],
   "source": [
    "fig,ax = plt.subplots(figsize=(7,7))\n",
    "ax.plot(prob_space, fraction_predicted)\n",
    "ax.plot([0,1],[0,1], c=\"grey\", linestyle='dashed')\n",
    "ax.set_title(\"calibration curve\")\n",
    "ax.set_xlabel(\"Predicted probability of idle time between 0 and outcome\")\n",
    "ax.set_ylabel(\"Fraction of idles with this outcome\")"
   ]
  },
  {
   "cell_type": "code",
   "execution_count": null,
   "metadata": {},
   "outputs": [],
   "source": []
  },
  {
   "cell_type": "code",
   "execution_count": null,
   "metadata": {},
   "outputs": [],
   "source": []
  },
  {
   "cell_type": "code",
   "execution_count": 371,
   "metadata": {},
   "outputs": [
    {
     "data": {
      "text/plain": [
       "0.0625"
      ]
     },
     "execution_count": 371,
     "metadata": {},
     "output_type": "execute_result"
    }
   ],
   "source": [
    "#interval of bike arrivals in the vicinity of bike 'a'\n",
    "model_neighbors.get_mean_interarrival_time(test_geodf.iloc[a].geolocation, test_geodf.iloc[a].local_time_start, geodf, 1000)"
   ]
  },
  {
   "cell_type": "code",
   "execution_count": 372,
   "metadata": {},
   "outputs": [
    {
     "data": {
      "text/plain": [
       "1.6837575197382342"
      ]
     },
     "execution_count": 372,
     "metadata": {},
     "output_type": "execute_result"
    }
   ],
   "source": [
    "y_pred[a]"
   ]
  },
  {
   "cell_type": "code",
   "execution_count": 403,
   "metadata": {},
   "outputs": [
    {
     "data": {
      "text/plain": [
       "0.2569224553416101"
      ]
     },
     "execution_count": 403,
     "metadata": {},
     "output_type": "execute_result"
    }
   ],
   "source": [
    "#probability bike 'a' is still there after 0.5 hours (1-prob it has departed)\n",
    "1 - scs.expon(scale=y_pred[a]).cdf(.5)"
   ]
  },
  {
   "cell_type": "code",
   "execution_count": null,
   "metadata": {},
   "outputs": [],
   "source": []
  },
  {
   "cell_type": "code",
   "execution_count": null,
   "metadata": {},
   "outputs": [],
   "source": []
  },
  {
   "cell_type": "code",
   "execution_count": null,
   "metadata": {},
   "outputs": [],
   "source": []
  },
  {
   "cell_type": "code",
   "execution_count": 373,
   "metadata": {},
   "outputs": [],
   "source": [
    "rss = ((y_test.values - y_pred) ** 2).sum()\n",
    "tss = ((y_test.values - y_test.values.mean()) ** 2).sum()\n",
    "r2 = 1 - (rss/tss)"
   ]
  },
  {
   "cell_type": "code",
   "execution_count": 374,
   "metadata": {},
   "outputs": [
    {
     "data": {
      "text/plain": [
       "0.018259672281334405"
      ]
     },
     "execution_count": 374,
     "metadata": {},
     "output_type": "execute_result"
    }
   ],
   "source": [
    "r2"
   ]
  },
  {
   "cell_type": "code",
   "execution_count": null,
   "metadata": {},
   "outputs": [],
   "source": []
  }
 ],
 "metadata": {
  "kernelspec": {
   "display_name": "Python 3",
   "language": "python",
   "name": "python3"
  },
  "language_info": {
   "codemirror_mode": {
    "name": "ipython",
    "version": 3
   },
   "file_extension": ".py",
   "mimetype": "text/x-python",
   "name": "python",
   "nbconvert_exporter": "python",
   "pygments_lexer": "ipython3",
   "version": "3.6.6"
  }
 },
 "nbformat": 4,
 "nbformat_minor": 2
}
